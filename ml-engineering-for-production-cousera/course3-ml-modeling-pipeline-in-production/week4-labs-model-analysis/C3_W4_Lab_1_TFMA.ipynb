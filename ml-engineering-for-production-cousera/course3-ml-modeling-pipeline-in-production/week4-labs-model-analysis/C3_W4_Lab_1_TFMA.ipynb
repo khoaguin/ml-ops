{
  "cells": [
    {
      "cell_type": "markdown",
      "metadata": {
        "id": "YuSYVbwEYNHw"
      },
      "source": [
        "# Ungraded Lab: TensorFlow Model Analysis\n",
        "\n",
        "In production systems, the decision to deploy a model usually goes beyond the global metrics (e.g. accuracy) set during training. It is also important to evaluate how your model performs in different scenarios. For instance, does your weather forecasting model perform equally well in summer compared to winter? Or does your camera-based defect detector work only in certain lighting conditions? This type of investigation helps to ensure that your model can handle different cases. More than that, it can help uncover any learned biases that can result in a negative experience for your users. For example, if you're supposed to have a gender-neutral application, you don't want your model to only work well for one while poorly for another.\n",
        "\n",
        "In this lab, you will be working with [TensorFlow Model Analysis (TFMA)](https://www.tensorflow.org/tfx/guide/tfma) -- a library built specifically for analyzing a model's performance across different configurations. It allows you to specify slices of your data, then it will compute and visualize how your model performs on each slice. You can also set thresholds that your model must meet before it is marked ready for deployment. These help you make better decisions regarding any improvements you may want to make to boost your model's performance and ensure fairness.\n",
        "\n",
        "For this exercise, you will use TFMA to analyze models trained on the [Census Income dataset](http://archive.ics.uci.edu/ml/datasets/Census+Income). Specifically, you will:\n",
        "\n",
        "* study and setup the starter files to use with TFMA\n",
        "* make a configuration file to tell TFMA what data slices it will analyze and the metrics it will compute\n",
        "* visualize TFMA's outputs in a notebook environment\n",
        "* generate a time series of a model's performance\n",
        "* compare the performance of two models so you can decide which one to push to production\n",
        "\n",
        "*Credits: Some of the code and discussions are based on the TensorFlow team's [official tutorial](https://www.tensorflow.org/tfx/tutorials/model_analysis/tfma_basic).*"
      ]
    },
    {
      "cell_type": "markdown",
      "metadata": {
        "id": "VUHcOxH0W2PH"
      },
      "source": [
        "## Setup\n",
        "\n",
        "In this section, you will first setup your workspace to have all the modules and files to work with TFMA. You will \n",
        "* install required libraries, \n",
        "* download starter files that will contain the dataset, schema, and pretrained models you will analyze\n",
        "* prepare the dataset so it can be consumed by TFMA\n",
        "* observe how the models transform the raw features"
      ]
    },
    {
      "cell_type": "markdown",
      "metadata": {
        "id": "q7-ouHFnWAsu"
      },
      "source": [
        "### Install Jupyter Extensions\n",
        "If running in a local Jupyter notebook, then these Jupyter extensions must be installed in the environment before running Jupyter. These are already available in Colab so we'll just leave the commands here for reference."
      ]
    },
    {
      "cell_type": "markdown",
      "metadata": {},
      "source": [
        "```bash\n",
        "jupyter nbextension enable --py widgetsnbextension --sys-prefix \n",
        "jupyter nbextension install --py --symlink tensorflow_model_analysis --sys-prefix \n",
        "jupyter nbextension enable --py tensorflow_model_analysis --sys-prefix \n",
        "```"
      ]
    },
    {
      "cell_type": "markdown",
      "metadata": {
        "id": "LZj-impiAD_l"
      },
      "source": [
        "### Install libraries\n",
        "\n",
        "This will pull in all the dependencies, and will take a minute.\n"
      ]
    },
    {
      "cell_type": "code",
      "execution_count": 1,
      "metadata": {
        "id": "8X32Q_lIKYxH"
      },
      "outputs": [
        {
          "name": "stdout",
          "output_type": "stream",
          "text": [
            "Requirement already satisfied: pip in /home/dk/miniconda3/envs/mlops/lib/python3.8/site-packages (21.2.4)\n",
            "Collecting pip\n",
            "  Downloading pip-22.1.2-py3-none-any.whl (2.1 MB)\n",
            "\u001b[K     |████████████████████████████████| 2.1 MB 263 kB/s eta 0:00:01\n",
            "\u001b[?25hInstalling collected packages: pip\n",
            "  Attempting uninstall: pip\n",
            "    Found existing installation: pip 21.2.4\n",
            "    Uninstalling pip-21.2.4:\n",
            "      Successfully uninstalled pip-21.2.4\n",
            "Successfully installed pip-22.1.2\n",
            "Collecting tensorflow==2.6.0\n",
            "  Using cached tensorflow-2.6.0-cp38-cp38-manylinux2010_x86_64.whl (458.4 MB)\n",
            "Requirement already satisfied: flatbuffers~=1.12.0 in /home/dk/miniconda3/envs/mlops/lib/python3.8/site-packages (from tensorflow==2.6.0) (1.12)\n",
            "Requirement already satisfied: astunparse~=1.6.3 in /home/dk/miniconda3/envs/mlops/lib/python3.8/site-packages (from tensorflow==2.6.0) (1.6.3)\n",
            "Requirement already satisfied: grpcio<2.0,>=1.37.0 in /home/dk/miniconda3/envs/mlops/lib/python3.8/site-packages (from tensorflow==2.6.0) (1.46.3)\n",
            "Requirement already satisfied: keras-preprocessing~=1.1.2 in /home/dk/miniconda3/envs/mlops/lib/python3.8/site-packages (from tensorflow==2.6.0) (1.1.2)\n",
            "Requirement already satisfied: absl-py~=0.10 in /home/dk/miniconda3/envs/mlops/lib/python3.8/site-packages (from tensorflow==2.6.0) (0.12.0)\n",
            "Requirement already satisfied: google-pasta~=0.2 in /home/dk/miniconda3/envs/mlops/lib/python3.8/site-packages (from tensorflow==2.6.0) (0.2.0)\n",
            "Requirement already satisfied: clang~=5.0 in /home/dk/miniconda3/envs/mlops/lib/python3.8/site-packages (from tensorflow==2.6.0) (5.0)\n",
            "Requirement already satisfied: keras~=2.6 in /home/dk/miniconda3/envs/mlops/lib/python3.8/site-packages (from tensorflow==2.6.0) (2.7.0)\n",
            "Requirement already satisfied: six~=1.15.0 in /home/dk/miniconda3/envs/mlops/lib/python3.8/site-packages (from tensorflow==2.6.0) (1.15.0)\n",
            "Requirement already satisfied: h5py~=3.1.0 in /home/dk/miniconda3/envs/mlops/lib/python3.8/site-packages (from tensorflow==2.6.0) (3.1.0)\n",
            "Requirement already satisfied: wrapt~=1.12.1 in /home/dk/miniconda3/envs/mlops/lib/python3.8/site-packages (from tensorflow==2.6.0) (1.12.1)\n",
            "Requirement already satisfied: numpy~=1.19.2 in /home/dk/miniconda3/envs/mlops/lib/python3.8/site-packages (from tensorflow==2.6.0) (1.19.5)\n",
            "Requirement already satisfied: termcolor~=1.1.0 in /home/dk/miniconda3/envs/mlops/lib/python3.8/site-packages (from tensorflow==2.6.0) (1.1.0)\n",
            "Requirement already satisfied: tensorflow-estimator~=2.6 in /home/dk/miniconda3/envs/mlops/lib/python3.8/site-packages (from tensorflow==2.6.0) (2.7.0)\n",
            "Requirement already satisfied: tensorboard~=2.6 in /home/dk/miniconda3/envs/mlops/lib/python3.8/site-packages (from tensorflow==2.6.0) (2.9.0)\n",
            "Requirement already satisfied: typing-extensions~=3.7.4 in /home/dk/miniconda3/envs/mlops/lib/python3.8/site-packages (from tensorflow==2.6.0) (3.7.4.3)\n",
            "Requirement already satisfied: gast==0.4.0 in /home/dk/miniconda3/envs/mlops/lib/python3.8/site-packages (from tensorflow==2.6.0) (0.4.0)\n",
            "Requirement already satisfied: opt-einsum~=3.3.0 in /home/dk/miniconda3/envs/mlops/lib/python3.8/site-packages (from tensorflow==2.6.0) (3.3.0)\n",
            "Requirement already satisfied: wheel~=0.35 in /home/dk/miniconda3/envs/mlops/lib/python3.8/site-packages (from tensorflow==2.6.0) (0.37.1)\n",
            "Requirement already satisfied: protobuf>=3.9.2 in /home/dk/miniconda3/envs/mlops/lib/python3.8/site-packages (from tensorflow==2.6.0) (3.19.4)\n",
            "Requirement already satisfied: google-auth<3,>=1.6.3 in /home/dk/miniconda3/envs/mlops/lib/python3.8/site-packages (from tensorboard~=2.6->tensorflow==2.6.0) (1.35.0)\n",
            "Requirement already satisfied: markdown>=2.6.8 in /home/dk/miniconda3/envs/mlops/lib/python3.8/site-packages (from tensorboard~=2.6->tensorflow==2.6.0) (3.3.7)\n",
            "Requirement already satisfied: werkzeug>=1.0.1 in /home/dk/miniconda3/envs/mlops/lib/python3.8/site-packages (from tensorboard~=2.6->tensorflow==2.6.0) (2.1.2)\n",
            "Requirement already satisfied: setuptools>=41.0.0 in /home/dk/miniconda3/envs/mlops/lib/python3.8/site-packages (from tensorboard~=2.6->tensorflow==2.6.0) (61.2.0)\n",
            "Requirement already satisfied: google-auth-oauthlib<0.5,>=0.4.1 in /home/dk/miniconda3/envs/mlops/lib/python3.8/site-packages (from tensorboard~=2.6->tensorflow==2.6.0) (0.4.6)\n",
            "Requirement already satisfied: tensorboard-data-server<0.7.0,>=0.6.0 in /home/dk/miniconda3/envs/mlops/lib/python3.8/site-packages (from tensorboard~=2.6->tensorflow==2.6.0) (0.6.1)\n",
            "Requirement already satisfied: requests<3,>=2.21.0 in /home/dk/miniconda3/envs/mlops/lib/python3.8/site-packages (from tensorboard~=2.6->tensorflow==2.6.0) (2.27.1)\n",
            "Requirement already satisfied: tensorboard-plugin-wit>=1.6.0 in /home/dk/miniconda3/envs/mlops/lib/python3.8/site-packages (from tensorboard~=2.6->tensorflow==2.6.0) (1.8.1)\n",
            "Requirement already satisfied: pyasn1-modules>=0.2.1 in /home/dk/miniconda3/envs/mlops/lib/python3.8/site-packages (from google-auth<3,>=1.6.3->tensorboard~=2.6->tensorflow==2.6.0) (0.2.8)\n",
            "Requirement already satisfied: rsa<5,>=3.1.4 in /home/dk/miniconda3/envs/mlops/lib/python3.8/site-packages (from google-auth<3,>=1.6.3->tensorboard~=2.6->tensorflow==2.6.0) (4.8)\n",
            "Requirement already satisfied: cachetools<5.0,>=2.0.0 in /home/dk/miniconda3/envs/mlops/lib/python3.8/site-packages (from google-auth<3,>=1.6.3->tensorboard~=2.6->tensorflow==2.6.0) (4.2.4)\n",
            "Requirement already satisfied: requests-oauthlib>=0.7.0 in /home/dk/miniconda3/envs/mlops/lib/python3.8/site-packages (from google-auth-oauthlib<0.5,>=0.4.1->tensorboard~=2.6->tensorflow==2.6.0) (1.3.1)\n",
            "Requirement already satisfied: importlib-metadata>=4.4 in /home/dk/miniconda3/envs/mlops/lib/python3.8/site-packages (from markdown>=2.6.8->tensorboard~=2.6->tensorflow==2.6.0) (4.11.4)\n",
            "Requirement already satisfied: charset-normalizer~=2.0.0 in /home/dk/miniconda3/envs/mlops/lib/python3.8/site-packages (from requests<3,>=2.21.0->tensorboard~=2.6->tensorflow==2.6.0) (2.0.12)\n",
            "Requirement already satisfied: urllib3<1.27,>=1.21.1 in /home/dk/miniconda3/envs/mlops/lib/python3.8/site-packages (from requests<3,>=2.21.0->tensorboard~=2.6->tensorflow==2.6.0) (1.26.9)\n",
            "Requirement already satisfied: certifi>=2017.4.17 in /home/dk/miniconda3/envs/mlops/lib/python3.8/site-packages (from requests<3,>=2.21.0->tensorboard~=2.6->tensorflow==2.6.0) (2022.5.18.1)\n",
            "Requirement already satisfied: idna<4,>=2.5 in /home/dk/miniconda3/envs/mlops/lib/python3.8/site-packages (from requests<3,>=2.21.0->tensorboard~=2.6->tensorflow==2.6.0) (3.3)\n",
            "Requirement already satisfied: zipp>=0.5 in /home/dk/miniconda3/envs/mlops/lib/python3.8/site-packages (from importlib-metadata>=4.4->markdown>=2.6.8->tensorboard~=2.6->tensorflow==2.6.0) (3.8.0)\n",
            "Requirement already satisfied: pyasn1<0.5.0,>=0.4.6 in /home/dk/miniconda3/envs/mlops/lib/python3.8/site-packages (from pyasn1-modules>=0.2.1->google-auth<3,>=1.6.3->tensorboard~=2.6->tensorflow==2.6.0) (0.4.8)\n",
            "Requirement already satisfied: oauthlib>=3.0.0 in /home/dk/miniconda3/envs/mlops/lib/python3.8/site-packages (from requests-oauthlib>=0.7.0->google-auth-oauthlib<0.5,>=0.4.1->tensorboard~=2.6->tensorflow==2.6.0) (3.2.0)\n",
            "Installing collected packages: tensorflow\n",
            "  Attempting uninstall: tensorflow\n",
            "    Found existing installation: tensorflow 2.7.3\n",
            "    Uninstalling tensorflow-2.7.3:\n",
            "      Successfully uninstalled tensorflow-2.7.3\n",
            "\u001b[31mERROR: pip's dependency resolver does not currently take into account all the packages that are installed. This behaviour is the source of the following dependency conflicts.\n",
            "tensorflow-serving-api 2.7.0 requires tensorflow<3,>=2.7.0, but you have tensorflow 2.6.0 which is incompatible.\u001b[0m\u001b[31m\n",
            "\u001b[0mSuccessfully installed tensorflow-2.6.0\n",
            "Collecting tensorflow_data_validation==1.1.0\n",
            "  Downloading tensorflow_data_validation-1.1.0-cp38-cp38-manylinux_2_12_x86_64.manylinux2010_x86_64.whl (1.4 MB)\n",
            "\u001b[2K     \u001b[90m━━━━━━━━━━━━━━━━━━━━━━━━━━━━━━━━━━━━━━━━\u001b[0m \u001b[32m1.4/1.4 MB\u001b[0m \u001b[31m696.5 kB/s\u001b[0m eta \u001b[36m0:00:00\u001b[0m00:01\u001b[0m00:01\u001b[0m\n",
            "\u001b[?25hRequirement already satisfied: joblib<0.15,>=0.12 in /home/dk/miniconda3/envs/mlops/lib/python3.8/site-packages (from tensorflow_data_validation==1.1.0) (0.14.1)\n",
            "Collecting tfx-bsl<1.2,>=1.1\n",
            "  Downloading tfx_bsl-1.1.1-cp38-cp38-manylinux_2_12_x86_64.manylinux2010_x86_64.whl (19.0 MB)\n",
            "\u001b[2K     \u001b[90m━━━━━━━━━━━━━━━━━━━━━━━━━━━━━━━━━━━━━━━━\u001b[0m \u001b[32m19.0/19.0 MB\u001b[0m \u001b[31m2.5 MB/s\u001b[0m eta \u001b[36m0:00:00\u001b[0m00:01\u001b[0m00:01\u001b[0mm\n",
            "\u001b[?25hRequirement already satisfied: protobuf<4,>=3.13 in /home/dk/miniconda3/envs/mlops/lib/python3.8/site-packages (from tensorflow_data_validation==1.1.0) (3.19.4)\n",
            "Requirement already satisfied: six<2,>=1.12 in /home/dk/miniconda3/envs/mlops/lib/python3.8/site-packages (from tensorflow_data_validation==1.1.0) (1.15.0)\n",
            "Requirement already satisfied: absl-py<0.13,>=0.9 in /home/dk/miniconda3/envs/mlops/lib/python3.8/site-packages (from tensorflow_data_validation==1.1.0) (0.12.0)\n",
            "Requirement already satisfied: tensorflow!=2.0.*,!=2.1.*,!=2.2.*,!=2.3.*,!=2.4.*,<3,>=1.15.2 in /home/dk/miniconda3/envs/mlops/lib/python3.8/site-packages (from tensorflow_data_validation==1.1.0) (2.6.0)\n",
            "Requirement already satisfied: pandas<2,>=1.0 in /home/dk/miniconda3/envs/mlops/lib/python3.8/site-packages (from tensorflow_data_validation==1.1.0) (1.4.2)\n",
            "Collecting tensorflow-metadata<1.2,>=1.1\n",
            "  Downloading tensorflow_metadata-1.1.0-py3-none-any.whl (48 kB)\n",
            "\u001b[2K     \u001b[90m━━━━━━━━━━━━━━━━━━━━━━━━━━━━━━━━━━━━━━━━\u001b[0m \u001b[32m48.1/48.1 kB\u001b[0m \u001b[31m11.5 MB/s\u001b[0m eta \u001b[36m0:00:00\u001b[0m\n",
            "\u001b[?25hRequirement already satisfied: numpy<1.20,>=1.16 in /home/dk/miniconda3/envs/mlops/lib/python3.8/site-packages (from tensorflow_data_validation==1.1.0) (1.19.5)\n",
            "Requirement already satisfied: apache-beam[gcp]<3,>=2.29 in /home/dk/miniconda3/envs/mlops/lib/python3.8/site-packages (from tensorflow_data_validation==1.1.0) (2.39.0)\n",
            "Requirement already satisfied: pyarrow<3,>=1 in /home/dk/miniconda3/envs/mlops/lib/python3.8/site-packages (from tensorflow_data_validation==1.1.0) (2.0.0)\n",
            "Requirement already satisfied: hdfs<3.0.0,>=2.1.0 in /home/dk/miniconda3/envs/mlops/lib/python3.8/site-packages (from apache-beam[gcp]<3,>=2.29->tensorflow_data_validation==1.1.0) (2.7.0)\n",
            "Requirement already satisfied: httplib2<0.20.0,>=0.8 in /home/dk/miniconda3/envs/mlops/lib/python3.8/site-packages (from apache-beam[gcp]<3,>=2.29->tensorflow_data_validation==1.1.0) (0.19.1)\n",
            "Requirement already satisfied: orjson<4.0 in /home/dk/miniconda3/envs/mlops/lib/python3.8/site-packages (from apache-beam[gcp]<3,>=2.29->tensorflow_data_validation==1.1.0) (3.7.2)\n",
            "Requirement already satisfied: grpcio<2,>=1.29.0 in /home/dk/miniconda3/envs/mlops/lib/python3.8/site-packages (from apache-beam[gcp]<3,>=2.29->tensorflow_data_validation==1.1.0) (1.46.3)\n",
            "Requirement already satisfied: python-dateutil<3,>=2.8.0 in /home/dk/miniconda3/envs/mlops/lib/python3.8/site-packages (from apache-beam[gcp]<3,>=2.29->tensorflow_data_validation==1.1.0) (2.8.2)\n",
            "Requirement already satisfied: pymongo<4.0.0,>=3.8.0 in /home/dk/miniconda3/envs/mlops/lib/python3.8/site-packages (from apache-beam[gcp]<3,>=2.29->tensorflow_data_validation==1.1.0) (3.12.3)\n",
            "Requirement already satisfied: requests<3.0.0,>=2.24.0 in /home/dk/miniconda3/envs/mlops/lib/python3.8/site-packages (from apache-beam[gcp]<3,>=2.29->tensorflow_data_validation==1.1.0) (2.27.1)\n",
            "Requirement already satisfied: dill<0.3.2,>=0.3.1.1 in /home/dk/miniconda3/envs/mlops/lib/python3.8/site-packages (from apache-beam[gcp]<3,>=2.29->tensorflow_data_validation==1.1.0) (0.3.1.1)\n",
            "Requirement already satisfied: crcmod<2.0,>=1.7 in /home/dk/miniconda3/envs/mlops/lib/python3.8/site-packages (from apache-beam[gcp]<3,>=2.29->tensorflow_data_validation==1.1.0) (1.7)\n",
            "Requirement already satisfied: pytz>=2018.3 in /home/dk/miniconda3/envs/mlops/lib/python3.8/site-packages (from apache-beam[gcp]<3,>=2.29->tensorflow_data_validation==1.1.0) (2022.1)\n",
            "Requirement already satisfied: cloudpickle<3,>=2.0.0 in /home/dk/miniconda3/envs/mlops/lib/python3.8/site-packages (from apache-beam[gcp]<3,>=2.29->tensorflow_data_validation==1.1.0) (2.1.0)\n",
            "Requirement already satisfied: proto-plus<2,>=1.7.1 in /home/dk/miniconda3/envs/mlops/lib/python3.8/site-packages (from apache-beam[gcp]<3,>=2.29->tensorflow_data_validation==1.1.0) (1.20.5)\n",
            "Requirement already satisfied: pydot<2,>=1.2.0 in /home/dk/miniconda3/envs/mlops/lib/python3.8/site-packages (from apache-beam[gcp]<3,>=2.29->tensorflow_data_validation==1.1.0) (1.4.2)\n",
            "Requirement already satisfied: typing-extensions>=3.7.0 in /home/dk/miniconda3/envs/mlops/lib/python3.8/site-packages (from apache-beam[gcp]<3,>=2.29->tensorflow_data_validation==1.1.0) (3.7.4.3)\n",
            "Requirement already satisfied: fastavro<2,>=0.23.6 in /home/dk/miniconda3/envs/mlops/lib/python3.8/site-packages (from apache-beam[gcp]<3,>=2.29->tensorflow_data_validation==1.1.0) (1.5.1)\n",
            "Requirement already satisfied: google-auth<3,>=1.18.0 in /home/dk/miniconda3/envs/mlops/lib/python3.8/site-packages (from apache-beam[gcp]<3,>=2.29->tensorflow_data_validation==1.1.0) (1.35.0)\n",
            "Requirement already satisfied: google-cloud-bigquery-storage>=2.6.3 in /home/dk/miniconda3/envs/mlops/lib/python3.8/site-packages (from apache-beam[gcp]<3,>=2.29->tensorflow_data_validation==1.1.0) (2.13.2)\n",
            "Requirement already satisfied: google-cloud-videointelligence<2,>=1.8.0 in /home/dk/miniconda3/envs/mlops/lib/python3.8/site-packages (from apache-beam[gcp]<3,>=2.29->tensorflow_data_validation==1.1.0) (1.16.2)\n",
            "Requirement already satisfied: google-apitools<0.5.32,>=0.5.31 in /home/dk/miniconda3/envs/mlops/lib/python3.8/site-packages (from apache-beam[gcp]<3,>=2.29->tensorflow_data_validation==1.1.0) (0.5.31)\n",
            "Requirement already satisfied: google-cloud-vision<2,>=0.38.0 in /home/dk/miniconda3/envs/mlops/lib/python3.8/site-packages (from apache-beam[gcp]<3,>=2.29->tensorflow_data_validation==1.1.0) (1.0.1)\n",
            "Requirement already satisfied: google-cloud-language<2,>=1.3.0 in /home/dk/miniconda3/envs/mlops/lib/python3.8/site-packages (from apache-beam[gcp]<3,>=2.29->tensorflow_data_validation==1.1.0) (1.3.1)\n",
            "Requirement already satisfied: google-cloud-recommendations-ai<=0.2.0,>=0.1.0 in /home/dk/miniconda3/envs/mlops/lib/python3.8/site-packages (from apache-beam[gcp]<3,>=2.29->tensorflow_data_validation==1.1.0) (0.2.0)\n",
            "Requirement already satisfied: grpcio-gcp<1,>=0.2.2 in /home/dk/miniconda3/envs/mlops/lib/python3.8/site-packages (from apache-beam[gcp]<3,>=2.29->tensorflow_data_validation==1.1.0) (0.2.2)\n",
            "Requirement already satisfied: google-cloud-core<2,>=0.28.1 in /home/dk/miniconda3/envs/mlops/lib/python3.8/site-packages (from apache-beam[gcp]<3,>=2.29->tensorflow_data_validation==1.1.0) (1.7.2)\n",
            "Requirement already satisfied: google-auth-httplib2<0.2.0,>=0.1.0 in /home/dk/miniconda3/envs/mlops/lib/python3.8/site-packages (from apache-beam[gcp]<3,>=2.29->tensorflow_data_validation==1.1.0) (0.1.0)\n",
            "Requirement already satisfied: google-cloud-pubsublite<2,>=1.2.0 in /home/dk/miniconda3/envs/mlops/lib/python3.8/site-packages (from apache-beam[gcp]<3,>=2.29->tensorflow_data_validation==1.1.0) (1.4.2)\n",
            "Requirement already satisfied: google-cloud-datastore<2,>=1.8.0 in /home/dk/miniconda3/envs/mlops/lib/python3.8/site-packages (from apache-beam[gcp]<3,>=2.29->tensorflow_data_validation==1.1.0) (1.15.4)\n",
            "Requirement already satisfied: google-cloud-dlp<4,>=3.0.0 in /home/dk/miniconda3/envs/mlops/lib/python3.8/site-packages (from apache-beam[gcp]<3,>=2.29->tensorflow_data_validation==1.1.0) (3.7.1)\n",
            "Requirement already satisfied: cachetools<5,>=3.1.0 in /home/dk/miniconda3/envs/mlops/lib/python3.8/site-packages (from apache-beam[gcp]<3,>=2.29->tensorflow_data_validation==1.1.0) (4.2.4)\n",
            "Requirement already satisfied: google-cloud-bigtable<2,>=0.31.1 in /home/dk/miniconda3/envs/mlops/lib/python3.8/site-packages (from apache-beam[gcp]<3,>=2.29->tensorflow_data_validation==1.1.0) (1.7.1)\n",
            "Requirement already satisfied: google-cloud-pubsub<3,>=2.1.0 in /home/dk/miniconda3/envs/mlops/lib/python3.8/site-packages (from apache-beam[gcp]<3,>=2.29->tensorflow_data_validation==1.1.0) (2.13.0)\n",
            "Requirement already satisfied: google-cloud-bigquery<3,>=1.6.0 in /home/dk/miniconda3/envs/mlops/lib/python3.8/site-packages (from apache-beam[gcp]<3,>=2.29->tensorflow_data_validation==1.1.0) (2.34.3)\n",
            "Requirement already satisfied: google-cloud-spanner<2,>=1.13.0 in /home/dk/miniconda3/envs/mlops/lib/python3.8/site-packages (from apache-beam[gcp]<3,>=2.29->tensorflow_data_validation==1.1.0) (1.19.2)\n",
            "Requirement already satisfied: clang~=5.0 in /home/dk/miniconda3/envs/mlops/lib/python3.8/site-packages (from tensorflow!=2.0.*,!=2.1.*,!=2.2.*,!=2.3.*,!=2.4.*,<3,>=1.15.2->tensorflow_data_validation==1.1.0) (5.0)\n",
            "Requirement already satisfied: wheel~=0.35 in /home/dk/miniconda3/envs/mlops/lib/python3.8/site-packages (from tensorflow!=2.0.*,!=2.1.*,!=2.2.*,!=2.3.*,!=2.4.*,<3,>=1.15.2->tensorflow_data_validation==1.1.0) (0.37.1)\n",
            "Requirement already satisfied: flatbuffers~=1.12.0 in /home/dk/miniconda3/envs/mlops/lib/python3.8/site-packages (from tensorflow!=2.0.*,!=2.1.*,!=2.2.*,!=2.3.*,!=2.4.*,<3,>=1.15.2->tensorflow_data_validation==1.1.0) (1.12)\n",
            "Requirement already satisfied: gast==0.4.0 in /home/dk/miniconda3/envs/mlops/lib/python3.8/site-packages (from tensorflow!=2.0.*,!=2.1.*,!=2.2.*,!=2.3.*,!=2.4.*,<3,>=1.15.2->tensorflow_data_validation==1.1.0) (0.4.0)\n",
            "Requirement already satisfied: keras~=2.6 in /home/dk/miniconda3/envs/mlops/lib/python3.8/site-packages (from tensorflow!=2.0.*,!=2.1.*,!=2.2.*,!=2.3.*,!=2.4.*,<3,>=1.15.2->tensorflow_data_validation==1.1.0) (2.7.0)\n",
            "Requirement already satisfied: keras-preprocessing~=1.1.2 in /home/dk/miniconda3/envs/mlops/lib/python3.8/site-packages (from tensorflow!=2.0.*,!=2.1.*,!=2.2.*,!=2.3.*,!=2.4.*,<3,>=1.15.2->tensorflow_data_validation==1.1.0) (1.1.2)\n",
            "Requirement already satisfied: h5py~=3.1.0 in /home/dk/miniconda3/envs/mlops/lib/python3.8/site-packages (from tensorflow!=2.0.*,!=2.1.*,!=2.2.*,!=2.3.*,!=2.4.*,<3,>=1.15.2->tensorflow_data_validation==1.1.0) (3.1.0)\n",
            "Requirement already satisfied: astunparse~=1.6.3 in /home/dk/miniconda3/envs/mlops/lib/python3.8/site-packages (from tensorflow!=2.0.*,!=2.1.*,!=2.2.*,!=2.3.*,!=2.4.*,<3,>=1.15.2->tensorflow_data_validation==1.1.0) (1.6.3)\n",
            "Requirement already satisfied: tensorboard~=2.6 in /home/dk/miniconda3/envs/mlops/lib/python3.8/site-packages (from tensorflow!=2.0.*,!=2.1.*,!=2.2.*,!=2.3.*,!=2.4.*,<3,>=1.15.2->tensorflow_data_validation==1.1.0) (2.9.0)\n",
            "Requirement already satisfied: termcolor~=1.1.0 in /home/dk/miniconda3/envs/mlops/lib/python3.8/site-packages (from tensorflow!=2.0.*,!=2.1.*,!=2.2.*,!=2.3.*,!=2.4.*,<3,>=1.15.2->tensorflow_data_validation==1.1.0) (1.1.0)\n",
            "Requirement already satisfied: wrapt~=1.12.1 in /home/dk/miniconda3/envs/mlops/lib/python3.8/site-packages (from tensorflow!=2.0.*,!=2.1.*,!=2.2.*,!=2.3.*,!=2.4.*,<3,>=1.15.2->tensorflow_data_validation==1.1.0) (1.12.1)\n",
            "Requirement already satisfied: google-pasta~=0.2 in /home/dk/miniconda3/envs/mlops/lib/python3.8/site-packages (from tensorflow!=2.0.*,!=2.1.*,!=2.2.*,!=2.3.*,!=2.4.*,<3,>=1.15.2->tensorflow_data_validation==1.1.0) (0.2.0)\n",
            "Requirement already satisfied: opt-einsum~=3.3.0 in /home/dk/miniconda3/envs/mlops/lib/python3.8/site-packages (from tensorflow!=2.0.*,!=2.1.*,!=2.2.*,!=2.3.*,!=2.4.*,<3,>=1.15.2->tensorflow_data_validation==1.1.0) (3.3.0)\n",
            "Requirement already satisfied: tensorflow-estimator~=2.6 in /home/dk/miniconda3/envs/mlops/lib/python3.8/site-packages (from tensorflow!=2.0.*,!=2.1.*,!=2.2.*,!=2.3.*,!=2.4.*,<3,>=1.15.2->tensorflow_data_validation==1.1.0) (2.7.0)\n",
            "Requirement already satisfied: googleapis-common-protos<2,>=1.52.0 in /home/dk/miniconda3/envs/mlops/lib/python3.8/site-packages (from tensorflow-metadata<1.2,>=1.1->tensorflow_data_validation==1.1.0) (1.56.2)\n",
            "Requirement already satisfied: tensorflow-serving-api!=2.0.*,!=2.1.*,!=2.2.*,!=2.3.*,!=2.4.*,<3,>=1.15 in /home/dk/miniconda3/envs/mlops/lib/python3.8/site-packages (from tfx-bsl<1.2,>=1.1->tensorflow_data_validation==1.1.0) (2.7.0)\n",
            "Requirement already satisfied: google-api-python-client<2,>=1.7.11 in /home/dk/miniconda3/envs/mlops/lib/python3.8/site-packages (from tfx-bsl<1.2,>=1.1->tensorflow_data_validation==1.1.0) (1.12.11)\n",
            "Collecting google-cloud-bigquery<3,>=1.6.0\n",
            "  Downloading google_cloud_bigquery-2.20.0-py2.py3-none-any.whl (189 kB)\n",
            "\u001b[2K     \u001b[90m━━━━━━━━━━━━━━━━━━━━━━━━━━━━━━━━━━━━━━\u001b[0m \u001b[32m189.1/189.1 kB\u001b[0m \u001b[31m59.3 kB/s\u001b[0m eta \u001b[36m0:00:00\u001b[0m00:01\u001b[0m00:01\u001b[0m\n",
            "\u001b[?25hRequirement already satisfied: uritemplate<4dev,>=3.0.0 in /home/dk/miniconda3/envs/mlops/lib/python3.8/site-packages (from google-api-python-client<2,>=1.7.11->tfx-bsl<1.2,>=1.1->tensorflow_data_validation==1.1.0) (3.0.1)\n",
            "Requirement already satisfied: google-api-core<3dev,>=1.21.0 in /home/dk/miniconda3/envs/mlops/lib/python3.8/site-packages (from google-api-python-client<2,>=1.7.11->tfx-bsl<1.2,>=1.1->tensorflow_data_validation==1.1.0) (1.31.6)\n",
            "Requirement already satisfied: oauth2client>=1.4.12 in /home/dk/miniconda3/envs/mlops/lib/python3.8/site-packages (from google-apitools<0.5.32,>=0.5.31->apache-beam[gcp]<3,>=2.29->tensorflow_data_validation==1.1.0) (4.1.3)\n",
            "Requirement already satisfied: fasteners>=0.14 in /home/dk/miniconda3/envs/mlops/lib/python3.8/site-packages (from google-apitools<0.5.32,>=0.5.31->apache-beam[gcp]<3,>=2.29->tensorflow_data_validation==1.1.0) (0.17.3)\n",
            "Requirement already satisfied: setuptools>=40.3.0 in /home/dk/miniconda3/envs/mlops/lib/python3.8/site-packages (from google-auth<3,>=1.18.0->apache-beam[gcp]<3,>=2.29->tensorflow_data_validation==1.1.0) (61.2.0)\n",
            "Requirement already satisfied: rsa<5,>=3.1.4 in /home/dk/miniconda3/envs/mlops/lib/python3.8/site-packages (from google-auth<3,>=1.18.0->apache-beam[gcp]<3,>=2.29->tensorflow_data_validation==1.1.0) (4.8)\n",
            "Requirement already satisfied: pyasn1-modules>=0.2.1 in /home/dk/miniconda3/envs/mlops/lib/python3.8/site-packages (from google-auth<3,>=1.18.0->apache-beam[gcp]<3,>=2.29->tensorflow_data_validation==1.1.0) (0.2.8)\n",
            "Collecting google-resumable-media<2.0dev,>=0.6.0\n",
            "  Downloading google_resumable_media-1.3.3-py2.py3-none-any.whl (75 kB)\n",
            "\u001b[2K     \u001b[90m━━━━━━━━━━━━━━━━━━━━━━━━━━━━━━━━━━━━━━━\u001b[0m \u001b[32m76.0/76.0 kB\u001b[0m \u001b[31m211.2 kB/s\u001b[0m eta \u001b[36m0:00:00\u001b[0ma \u001b[36m0:00:01\u001b[0m\n",
            "\u001b[?25hRequirement already satisfied: packaging>=14.3 in /home/dk/miniconda3/envs/mlops/lib/python3.8/site-packages (from google-cloud-bigquery<3,>=1.6.0->apache-beam[gcp]<3,>=2.29->tensorflow_data_validation==1.1.0) (21.3)\n",
            "Requirement already satisfied: grpc-google-iam-v1<0.13dev,>=0.12.3 in /home/dk/miniconda3/envs/mlops/lib/python3.8/site-packages (from google-cloud-bigtable<2,>=0.31.1->apache-beam[gcp]<3,>=2.29->tensorflow_data_validation==1.1.0) (0.12.4)\n",
            "Requirement already satisfied: grpcio-status>=1.16.0 in /home/dk/miniconda3/envs/mlops/lib/python3.8/site-packages (from google-cloud-pubsub<3,>=2.1.0->apache-beam[gcp]<3,>=2.29->tensorflow_data_validation==1.1.0) (1.46.3)\n",
            "Requirement already satisfied: overrides<7.0.0,>=6.0.1 in /home/dk/miniconda3/envs/mlops/lib/python3.8/site-packages (from google-cloud-pubsublite<2,>=1.2.0->apache-beam[gcp]<3,>=2.29->tensorflow_data_validation==1.1.0) (6.1.0)\n",
            "Requirement already satisfied: docopt in /home/dk/miniconda3/envs/mlops/lib/python3.8/site-packages (from hdfs<3.0.0,>=2.1.0->apache-beam[gcp]<3,>=2.29->tensorflow_data_validation==1.1.0) (0.6.2)\n",
            "Requirement already satisfied: pyparsing<3,>=2.4.2 in /home/dk/miniconda3/envs/mlops/lib/python3.8/site-packages (from httplib2<0.20.0,>=0.8->apache-beam[gcp]<3,>=2.29->tensorflow_data_validation==1.1.0) (2.4.7)\n",
            "Requirement already satisfied: urllib3<1.27,>=1.21.1 in /home/dk/miniconda3/envs/mlops/lib/python3.8/site-packages (from requests<3.0.0,>=2.24.0->apache-beam[gcp]<3,>=2.29->tensorflow_data_validation==1.1.0) (1.26.9)\n",
            "Requirement already satisfied: charset-normalizer~=2.0.0 in /home/dk/miniconda3/envs/mlops/lib/python3.8/site-packages (from requests<3.0.0,>=2.24.0->apache-beam[gcp]<3,>=2.29->tensorflow_data_validation==1.1.0) (2.0.12)\n",
            "Requirement already satisfied: idna<4,>=2.5 in /home/dk/miniconda3/envs/mlops/lib/python3.8/site-packages (from requests<3.0.0,>=2.24.0->apache-beam[gcp]<3,>=2.29->tensorflow_data_validation==1.1.0) (3.3)\n",
            "Requirement already satisfied: certifi>=2017.4.17 in /home/dk/miniconda3/envs/mlops/lib/python3.8/site-packages (from requests<3.0.0,>=2.24.0->apache-beam[gcp]<3,>=2.29->tensorflow_data_validation==1.1.0) (2022.5.18.1)\n",
            "Requirement already satisfied: tensorboard-plugin-wit>=1.6.0 in /home/dk/miniconda3/envs/mlops/lib/python3.8/site-packages (from tensorboard~=2.6->tensorflow!=2.0.*,!=2.1.*,!=2.2.*,!=2.3.*,!=2.4.*,<3,>=1.15.2->tensorflow_data_validation==1.1.0) (1.8.1)\n",
            "Requirement already satisfied: werkzeug>=1.0.1 in /home/dk/miniconda3/envs/mlops/lib/python3.8/site-packages (from tensorboard~=2.6->tensorflow!=2.0.*,!=2.1.*,!=2.2.*,!=2.3.*,!=2.4.*,<3,>=1.15.2->tensorflow_data_validation==1.1.0) (2.1.2)\n",
            "Requirement already satisfied: google-auth-oauthlib<0.5,>=0.4.1 in /home/dk/miniconda3/envs/mlops/lib/python3.8/site-packages (from tensorboard~=2.6->tensorflow!=2.0.*,!=2.1.*,!=2.2.*,!=2.3.*,!=2.4.*,<3,>=1.15.2->tensorflow_data_validation==1.1.0) (0.4.6)\n",
            "Requirement already satisfied: markdown>=2.6.8 in /home/dk/miniconda3/envs/mlops/lib/python3.8/site-packages (from tensorboard~=2.6->tensorflow!=2.0.*,!=2.1.*,!=2.2.*,!=2.3.*,!=2.4.*,<3,>=1.15.2->tensorflow_data_validation==1.1.0) (3.3.7)\n",
            "Requirement already satisfied: tensorboard-data-server<0.7.0,>=0.6.0 in /home/dk/miniconda3/envs/mlops/lib/python3.8/site-packages (from tensorboard~=2.6->tensorflow!=2.0.*,!=2.1.*,!=2.2.*,!=2.3.*,!=2.4.*,<3,>=1.15.2->tensorflow_data_validation==1.1.0) (0.6.1)\n",
            "Collecting tensorflow!=2.0.*,!=2.1.*,!=2.2.*,!=2.3.*,!=2.4.*,<3,>=1.15.2\n",
            "  Using cached tensorflow-2.9.1-cp38-cp38-manylinux_2_17_x86_64.manylinux2014_x86_64.whl (511.7 MB)\n",
            "  Using cached tensorflow-2.9.0-cp38-cp38-manylinux_2_17_x86_64.manylinux2014_x86_64.whl (511.7 MB)\n",
            "  Using cached tensorflow-2.8.2-cp38-cp38-manylinux2010_x86_64.whl (498.0 MB)\n",
            "Requirement already satisfied: libclang>=9.0.1 in /home/dk/miniconda3/envs/mlops/lib/python3.8/site-packages (from tensorflow!=2.0.*,!=2.1.*,!=2.2.*,!=2.3.*,!=2.4.*,<3,>=1.15.2->tensorflow_data_validation==1.1.0) (14.0.1)\n",
            "  Using cached tensorflow-2.8.1-cp38-cp38-manylinux2010_x86_64.whl (498.0 MB)\n",
            "  Using cached tensorflow-2.8.0-cp38-cp38-manylinux2010_x86_64.whl (497.6 MB)\n",
            "  Using cached tensorflow-2.7.3-cp38-cp38-manylinux2010_x86_64.whl (495.5 MB)\n",
            "Requirement already satisfied: tensorflow-io-gcs-filesystem>=0.21.0 in /home/dk/miniconda3/envs/mlops/lib/python3.8/site-packages (from tensorflow!=2.0.*,!=2.1.*,!=2.2.*,!=2.3.*,!=2.4.*,<3,>=1.15.2->tensorflow_data_validation==1.1.0) (0.26.0)\n",
            "Requirement already satisfied: requests-oauthlib>=0.7.0 in /home/dk/miniconda3/envs/mlops/lib/python3.8/site-packages (from google-auth-oauthlib<0.5,>=0.4.1->tensorboard~=2.6->tensorflow!=2.0.*,!=2.1.*,!=2.2.*,!=2.3.*,!=2.4.*,<3,>=1.15.2->tensorflow_data_validation==1.1.0) (1.3.1)\n",
            "Requirement already satisfied: google-crc32c<2.0dev,>=1.0 in /home/dk/miniconda3/envs/mlops/lib/python3.8/site-packages (from google-resumable-media<2.0dev,>=0.6.0->google-cloud-bigquery<3,>=1.6.0->apache-beam[gcp]<3,>=2.29->tensorflow_data_validation==1.1.0) (1.3.0)\n",
            "Requirement already satisfied: importlib-metadata>=4.4 in /home/dk/miniconda3/envs/mlops/lib/python3.8/site-packages (from markdown>=2.6.8->tensorboard~=2.6->tensorflow!=2.0.*,!=2.1.*,!=2.2.*,!=2.3.*,!=2.4.*,<3,>=1.15.2->tensorflow_data_validation==1.1.0) (4.11.4)\n",
            "Requirement already satisfied: pyasn1>=0.1.7 in /home/dk/miniconda3/envs/mlops/lib/python3.8/site-packages (from oauth2client>=1.4.12->google-apitools<0.5.32,>=0.5.31->apache-beam[gcp]<3,>=2.29->tensorflow_data_validation==1.1.0) (0.4.8)\n",
            "Requirement already satisfied: typing-utils>=0.0.3 in /home/dk/miniconda3/envs/mlops/lib/python3.8/site-packages (from overrides<7.0.0,>=6.0.1->google-cloud-pubsublite<2,>=1.2.0->apache-beam[gcp]<3,>=2.29->tensorflow_data_validation==1.1.0) (0.1.0)\n",
            "Requirement already satisfied: zipp>=0.5 in /home/dk/miniconda3/envs/mlops/lib/python3.8/site-packages (from importlib-metadata>=4.4->markdown>=2.6.8->tensorboard~=2.6->tensorflow!=2.0.*,!=2.1.*,!=2.2.*,!=2.3.*,!=2.4.*,<3,>=1.15.2->tensorflow_data_validation==1.1.0) (3.8.0)\n",
            "Requirement already satisfied: oauthlib>=3.0.0 in /home/dk/miniconda3/envs/mlops/lib/python3.8/site-packages (from requests-oauthlib>=0.7.0->google-auth-oauthlib<0.5,>=0.4.1->tensorboard~=2.6->tensorflow!=2.0.*,!=2.1.*,!=2.2.*,!=2.3.*,!=2.4.*,<3,>=1.15.2->tensorflow_data_validation==1.1.0) (3.2.0)\n",
            "Installing collected packages: google-resumable-media, tensorflow-metadata, tensorflow, google-cloud-bigquery, tfx-bsl, tensorflow_data_validation\n",
            "  Attempting uninstall: google-resumable-media\n",
            "    Found existing installation: google-resumable-media 2.3.3\n",
            "    Uninstalling google-resumable-media-2.3.3:\n",
            "      Successfully uninstalled google-resumable-media-2.3.3\n",
            "  Attempting uninstall: tensorflow-metadata\n",
            "    Found existing installation: tensorflow-metadata 1.2.0\n",
            "    Uninstalling tensorflow-metadata-1.2.0:\n",
            "      Successfully uninstalled tensorflow-metadata-1.2.0\n",
            "  Attempting uninstall: tensorflow\n",
            "    Found existing installation: tensorflow 2.6.0\n",
            "    Uninstalling tensorflow-2.6.0:\n",
            "      Successfully uninstalled tensorflow-2.6.0\n",
            "  Attempting uninstall: google-cloud-bigquery\n",
            "    Found existing installation: google-cloud-bigquery 2.34.3\n",
            "    Uninstalling google-cloud-bigquery-2.34.3:\n",
            "      Successfully uninstalled google-cloud-bigquery-2.34.3\n",
            "  Attempting uninstall: tfx-bsl\n",
            "    Found existing installation: tfx-bsl 1.3.0\n",
            "    Uninstalling tfx-bsl-1.3.0:\n",
            "      Successfully uninstalled tfx-bsl-1.3.0\n",
            "  Attempting uninstall: tensorflow_data_validation\n",
            "    Found existing installation: tensorflow-data-validation 1.3.0\n",
            "    Uninstalling tensorflow-data-validation-1.3.0:\n",
            "      Successfully uninstalled tensorflow-data-validation-1.3.0\n",
            "Successfully installed google-cloud-bigquery-2.20.0 google-resumable-media-1.3.3 tensorflow-2.7.3 tensorflow-metadata-1.1.0 tensorflow_data_validation-1.1.0 tfx-bsl-1.1.1\n",
            "Collecting tensorflow-transform==1.0.0\n",
            "  Downloading tensorflow_transform-1.0.0-py3-none-any.whl (402 kB)\n",
            "\u001b[2K     \u001b[90m━━━━━━━━━━━━━━━━━━━━━━━━━━━━━━━━━━━━━\u001b[0m \u001b[32m402.9/402.9 kB\u001b[0m \u001b[31m249.2 kB/s\u001b[0m eta \u001b[36m0:00:00\u001b[0m00:01\u001b[0m00:01\u001b[0m\n",
            "\u001b[?25hRequirement already satisfied: absl-py<0.13,>=0.9 in /home/dk/miniconda3/envs/mlops/lib/python3.8/site-packages (from tensorflow-transform==1.0.0) (0.12.0)\n",
            "Requirement already satisfied: protobuf<4,>=3.9.2 in /home/dk/miniconda3/envs/mlops/lib/python3.8/site-packages (from tensorflow-transform==1.0.0) (3.19.4)\n",
            "Requirement already satisfied: pyarrow<3,>=1 in /home/dk/miniconda3/envs/mlops/lib/python3.8/site-packages (from tensorflow-transform==1.0.0) (2.0.0)\n",
            "Collecting tensorflow!=2.0.*,!=2.1.*,!=2.2.*,!=2.3.*,!=2.4.*,<2.6,>=1.15.2\n",
            "  Downloading tensorflow-2.5.3-cp38-cp38-manylinux2010_x86_64.whl (460.4 MB)\n",
            "\u001b[2K     \u001b[90m━━━━━━━━━━━━━━━━━━━━━━━━━━━━━━━━━━━━━━━\u001b[0m \u001b[32m460.4/460.4 MB\u001b[0m \u001b[31m2.4 MB/s\u001b[0m eta \u001b[36m0:00:00\u001b[0m00:01\u001b[0m00:05\u001b[0m\n",
            "\u001b[?25hCollecting tfx-bsl<1.1.0,>=1.0.0\n",
            "  Downloading tfx_bsl-1.0.0-cp38-cp38-manylinux_2_12_x86_64.manylinux2010_x86_64.whl (2.2 MB)\n",
            "\u001b[2K     \u001b[90m━━━━━━━━━━━━━━━━━━━━━━━━━━━━━━━━━━━━━━━━\u001b[0m \u001b[32m2.2/2.2 MB\u001b[0m \u001b[31m2.4 MB/s\u001b[0m eta \u001b[36m0:00:00\u001b[0m00:01\u001b[0m00:01\u001b[0m\n",
            "\u001b[?25hRequirement already satisfied: apache-beam[gcp]<3,>=2.29 in /home/dk/miniconda3/envs/mlops/lib/python3.8/site-packages (from tensorflow-transform==1.0.0) (2.39.0)\n",
            "Requirement already satisfied: pydot<2,>=1.2 in /home/dk/miniconda3/envs/mlops/lib/python3.8/site-packages (from tensorflow-transform==1.0.0) (1.4.2)\n",
            "Collecting tensorflow-metadata<1.1.0,>=1.0.0\n",
            "  Downloading tensorflow_metadata-1.0.0-py3-none-any.whl (48 kB)\n",
            "\u001b[2K     \u001b[90m━━━━━━━━━━━━━━━━━━━━━━━━━━━━━━━━━━━━━━━\u001b[0m \u001b[32m48.1/48.1 kB\u001b[0m \u001b[31m945.5 kB/s\u001b[0m eta \u001b[36m0:00:00\u001b[0ma \u001b[36m0:00:01\u001b[0m\n",
            "\u001b[?25hRequirement already satisfied: six<2,>=1.12 in /home/dk/miniconda3/envs/mlops/lib/python3.8/site-packages (from tensorflow-transform==1.0.0) (1.15.0)\n",
            "Requirement already satisfied: numpy<1.20,>=1.16 in /home/dk/miniconda3/envs/mlops/lib/python3.8/site-packages (from tensorflow-transform==1.0.0) (1.19.5)\n",
            "Requirement already satisfied: orjson<4.0 in /home/dk/miniconda3/envs/mlops/lib/python3.8/site-packages (from apache-beam[gcp]<3,>=2.29->tensorflow-transform==1.0.0) (3.7.2)\n",
            "Requirement already satisfied: fastavro<2,>=0.23.6 in /home/dk/miniconda3/envs/mlops/lib/python3.8/site-packages (from apache-beam[gcp]<3,>=2.29->tensorflow-transform==1.0.0) (1.5.1)\n",
            "Requirement already satisfied: python-dateutil<3,>=2.8.0 in /home/dk/miniconda3/envs/mlops/lib/python3.8/site-packages (from apache-beam[gcp]<3,>=2.29->tensorflow-transform==1.0.0) (2.8.2)\n",
            "Requirement already satisfied: crcmod<2.0,>=1.7 in /home/dk/miniconda3/envs/mlops/lib/python3.8/site-packages (from apache-beam[gcp]<3,>=2.29->tensorflow-transform==1.0.0) (1.7)\n",
            "Requirement already satisfied: proto-plus<2,>=1.7.1 in /home/dk/miniconda3/envs/mlops/lib/python3.8/site-packages (from apache-beam[gcp]<3,>=2.29->tensorflow-transform==1.0.0) (1.20.5)\n",
            "Requirement already satisfied: pytz>=2018.3 in /home/dk/miniconda3/envs/mlops/lib/python3.8/site-packages (from apache-beam[gcp]<3,>=2.29->tensorflow-transform==1.0.0) (2022.1)\n",
            "Requirement already satisfied: httplib2<0.20.0,>=0.8 in /home/dk/miniconda3/envs/mlops/lib/python3.8/site-packages (from apache-beam[gcp]<3,>=2.29->tensorflow-transform==1.0.0) (0.19.1)\n",
            "Requirement already satisfied: cloudpickle<3,>=2.0.0 in /home/dk/miniconda3/envs/mlops/lib/python3.8/site-packages (from apache-beam[gcp]<3,>=2.29->tensorflow-transform==1.0.0) (2.1.0)\n",
            "Requirement already satisfied: requests<3.0.0,>=2.24.0 in /home/dk/miniconda3/envs/mlops/lib/python3.8/site-packages (from apache-beam[gcp]<3,>=2.29->tensorflow-transform==1.0.0) (2.27.1)\n",
            "Requirement already satisfied: pymongo<4.0.0,>=3.8.0 in /home/dk/miniconda3/envs/mlops/lib/python3.8/site-packages (from apache-beam[gcp]<3,>=2.29->tensorflow-transform==1.0.0) (3.12.3)\n",
            "Requirement already satisfied: dill<0.3.2,>=0.3.1.1 in /home/dk/miniconda3/envs/mlops/lib/python3.8/site-packages (from apache-beam[gcp]<3,>=2.29->tensorflow-transform==1.0.0) (0.3.1.1)\n",
            "Requirement already satisfied: grpcio<2,>=1.29.0 in /home/dk/miniconda3/envs/mlops/lib/python3.8/site-packages (from apache-beam[gcp]<3,>=2.29->tensorflow-transform==1.0.0) (1.46.3)\n",
            "Requirement already satisfied: hdfs<3.0.0,>=2.1.0 in /home/dk/miniconda3/envs/mlops/lib/python3.8/site-packages (from apache-beam[gcp]<3,>=2.29->tensorflow-transform==1.0.0) (2.7.0)\n",
            "Requirement already satisfied: typing-extensions>=3.7.0 in /home/dk/miniconda3/envs/mlops/lib/python3.8/site-packages (from apache-beam[gcp]<3,>=2.29->tensorflow-transform==1.0.0) (3.7.4.3)\n",
            "Requirement already satisfied: google-cloud-pubsublite<2,>=1.2.0 in /home/dk/miniconda3/envs/mlops/lib/python3.8/site-packages (from apache-beam[gcp]<3,>=2.29->tensorflow-transform==1.0.0) (1.4.2)\n",
            "Requirement already satisfied: google-cloud-bigquery<3,>=1.6.0 in /home/dk/miniconda3/envs/mlops/lib/python3.8/site-packages (from apache-beam[gcp]<3,>=2.29->tensorflow-transform==1.0.0) (2.20.0)\n",
            "Requirement already satisfied: google-auth-httplib2<0.2.0,>=0.1.0 in /home/dk/miniconda3/envs/mlops/lib/python3.8/site-packages (from apache-beam[gcp]<3,>=2.29->tensorflow-transform==1.0.0) (0.1.0)\n",
            "Requirement already satisfied: grpcio-gcp<1,>=0.2.2 in /home/dk/miniconda3/envs/mlops/lib/python3.8/site-packages (from apache-beam[gcp]<3,>=2.29->tensorflow-transform==1.0.0) (0.2.2)\n",
            "Requirement already satisfied: google-cloud-datastore<2,>=1.8.0 in /home/dk/miniconda3/envs/mlops/lib/python3.8/site-packages (from apache-beam[gcp]<3,>=2.29->tensorflow-transform==1.0.0) (1.15.4)\n",
            "Requirement already satisfied: google-cloud-bigquery-storage>=2.6.3 in /home/dk/miniconda3/envs/mlops/lib/python3.8/site-packages (from apache-beam[gcp]<3,>=2.29->tensorflow-transform==1.0.0) (2.13.2)\n",
            "Requirement already satisfied: google-cloud-core<2,>=0.28.1 in /home/dk/miniconda3/envs/mlops/lib/python3.8/site-packages (from apache-beam[gcp]<3,>=2.29->tensorflow-transform==1.0.0) (1.7.2)\n",
            "Requirement already satisfied: google-cloud-pubsub<3,>=2.1.0 in /home/dk/miniconda3/envs/mlops/lib/python3.8/site-packages (from apache-beam[gcp]<3,>=2.29->tensorflow-transform==1.0.0) (2.13.0)\n",
            "Requirement already satisfied: google-apitools<0.5.32,>=0.5.31 in /home/dk/miniconda3/envs/mlops/lib/python3.8/site-packages (from apache-beam[gcp]<3,>=2.29->tensorflow-transform==1.0.0) (0.5.31)\n",
            "Requirement already satisfied: google-cloud-language<2,>=1.3.0 in /home/dk/miniconda3/envs/mlops/lib/python3.8/site-packages (from apache-beam[gcp]<3,>=2.29->tensorflow-transform==1.0.0) (1.3.1)\n",
            "Requirement already satisfied: google-cloud-dlp<4,>=3.0.0 in /home/dk/miniconda3/envs/mlops/lib/python3.8/site-packages (from apache-beam[gcp]<3,>=2.29->tensorflow-transform==1.0.0) (3.7.1)\n",
            "Requirement already satisfied: google-auth<3,>=1.18.0 in /home/dk/miniconda3/envs/mlops/lib/python3.8/site-packages (from apache-beam[gcp]<3,>=2.29->tensorflow-transform==1.0.0) (1.35.0)\n",
            "Requirement already satisfied: google-cloud-videointelligence<2,>=1.8.0 in /home/dk/miniconda3/envs/mlops/lib/python3.8/site-packages (from apache-beam[gcp]<3,>=2.29->tensorflow-transform==1.0.0) (1.16.2)\n",
            "Requirement already satisfied: google-cloud-recommendations-ai<=0.2.0,>=0.1.0 in /home/dk/miniconda3/envs/mlops/lib/python3.8/site-packages (from apache-beam[gcp]<3,>=2.29->tensorflow-transform==1.0.0) (0.2.0)\n",
            "Requirement already satisfied: google-cloud-spanner<2,>=1.13.0 in /home/dk/miniconda3/envs/mlops/lib/python3.8/site-packages (from apache-beam[gcp]<3,>=2.29->tensorflow-transform==1.0.0) (1.19.2)\n",
            "Requirement already satisfied: google-cloud-bigtable<2,>=0.31.1 in /home/dk/miniconda3/envs/mlops/lib/python3.8/site-packages (from apache-beam[gcp]<3,>=2.29->tensorflow-transform==1.0.0) (1.7.1)\n",
            "Requirement already satisfied: google-cloud-vision<2,>=0.38.0 in /home/dk/miniconda3/envs/mlops/lib/python3.8/site-packages (from apache-beam[gcp]<3,>=2.29->tensorflow-transform==1.0.0) (1.0.1)\n",
            "Requirement already satisfied: cachetools<5,>=3.1.0 in /home/dk/miniconda3/envs/mlops/lib/python3.8/site-packages (from apache-beam[gcp]<3,>=2.29->tensorflow-transform==1.0.0) (4.2.4)\n",
            "Requirement already satisfied: pyparsing>=2.1.4 in /home/dk/miniconda3/envs/mlops/lib/python3.8/site-packages (from pydot<2,>=1.2->tensorflow-transform==1.0.0) (2.4.7)\n",
            "Requirement already satisfied: h5py~=3.1.0 in /home/dk/miniconda3/envs/mlops/lib/python3.8/site-packages (from tensorflow!=2.0.*,!=2.1.*,!=2.2.*,!=2.3.*,!=2.4.*,<2.6,>=1.15.2->tensorflow-transform==1.0.0) (3.1.0)\n",
            "Requirement already satisfied: termcolor~=1.1.0 in /home/dk/miniconda3/envs/mlops/lib/python3.8/site-packages (from tensorflow!=2.0.*,!=2.1.*,!=2.2.*,!=2.3.*,!=2.4.*,<2.6,>=1.15.2->tensorflow-transform==1.0.0) (1.1.0)\n",
            "Requirement already satisfied: flatbuffers~=1.12.0 in /home/dk/miniconda3/envs/mlops/lib/python3.8/site-packages (from tensorflow!=2.0.*,!=2.1.*,!=2.2.*,!=2.3.*,!=2.4.*,<2.6,>=1.15.2->tensorflow-transform==1.0.0) (1.12)\n",
            "Requirement already satisfied: wrapt~=1.12.1 in /home/dk/miniconda3/envs/mlops/lib/python3.8/site-packages (from tensorflow!=2.0.*,!=2.1.*,!=2.2.*,!=2.3.*,!=2.4.*,<2.6,>=1.15.2->tensorflow-transform==1.0.0) (1.12.1)\n",
            "Collecting keras-nightly~=2.5.0.dev\n",
            "  Downloading keras_nightly-2.5.0.dev2021032900-py2.py3-none-any.whl (1.2 MB)\n",
            "\u001b[2K     \u001b[90m━━━━━━━━━━━━━━━━━━━━━━━━━━━━━━━━━━━━━━━━\u001b[0m \u001b[32m1.2/1.2 MB\u001b[0m \u001b[31m2.8 MB/s\u001b[0m eta \u001b[36m0:00:00\u001b[0m00:01\u001b[0m00:01\u001b[0m0m\n",
            "\u001b[?25hRequirement already satisfied: opt-einsum~=3.3.0 in /home/dk/miniconda3/envs/mlops/lib/python3.8/site-packages (from tensorflow!=2.0.*,!=2.1.*,!=2.2.*,!=2.3.*,!=2.4.*,<2.6,>=1.15.2->tensorflow-transform==1.0.0) (3.3.0)\n",
            "Requirement already satisfied: astunparse~=1.6.3 in /home/dk/miniconda3/envs/mlops/lib/python3.8/site-packages (from tensorflow!=2.0.*,!=2.1.*,!=2.2.*,!=2.3.*,!=2.4.*,<2.6,>=1.15.2->tensorflow-transform==1.0.0) (1.6.3)\n",
            "Collecting tensorflow-estimator<2.6.0,>=2.5.0\n",
            "  Downloading tensorflow_estimator-2.5.0-py2.py3-none-any.whl (462 kB)\n",
            "\u001b[2K     \u001b[90m━━━━━━━━━━━━━━━━━━━━━━━━━━━━━━━━━━━━━━━\u001b[0m \u001b[32m462.4/462.4 kB\u001b[0m \u001b[31m1.3 MB/s\u001b[0m eta \u001b[36m0:00:00\u001b[0m00:01\u001b[0m00:01\u001b[0m\n",
            "\u001b[?25hRequirement already satisfied: wheel~=0.35 in /home/dk/miniconda3/envs/mlops/lib/python3.8/site-packages (from tensorflow!=2.0.*,!=2.1.*,!=2.2.*,!=2.3.*,!=2.4.*,<2.6,>=1.15.2->tensorflow-transform==1.0.0) (0.37.1)\n",
            "Requirement already satisfied: gast==0.4.0 in /home/dk/miniconda3/envs/mlops/lib/python3.8/site-packages (from tensorflow!=2.0.*,!=2.1.*,!=2.2.*,!=2.3.*,!=2.4.*,<2.6,>=1.15.2->tensorflow-transform==1.0.0) (0.4.0)\n",
            "Requirement already satisfied: google-pasta~=0.2 in /home/dk/miniconda3/envs/mlops/lib/python3.8/site-packages (from tensorflow!=2.0.*,!=2.1.*,!=2.2.*,!=2.3.*,!=2.4.*,<2.6,>=1.15.2->tensorflow-transform==1.0.0) (0.2.0)\n",
            "Requirement already satisfied: keras-preprocessing~=1.1.2 in /home/dk/miniconda3/envs/mlops/lib/python3.8/site-packages (from tensorflow!=2.0.*,!=2.1.*,!=2.2.*,!=2.3.*,!=2.4.*,<2.6,>=1.15.2->tensorflow-transform==1.0.0) (1.1.2)\n",
            "Collecting grpcio<2,>=1.29.0\n",
            "  Downloading grpcio-1.34.1-cp38-cp38-manylinux2014_x86_64.whl (4.0 MB)\n",
            "\u001b[2K     \u001b[90m━━━━━━━━━━━━━━━━━━━━━━━━━━━━━━━━━━━━━━━━\u001b[0m \u001b[32m4.0/4.0 MB\u001b[0m \u001b[31m2.3 MB/s\u001b[0m eta \u001b[36m0:00:00\u001b[0m00:01\u001b[0m00:01\u001b[0m\n",
            "\u001b[?25hRequirement already satisfied: tensorboard~=2.5 in /home/dk/miniconda3/envs/mlops/lib/python3.8/site-packages (from tensorflow!=2.0.*,!=2.1.*,!=2.2.*,!=2.3.*,!=2.4.*,<2.6,>=1.15.2->tensorflow-transform==1.0.0) (2.9.0)\n",
            "Requirement already satisfied: googleapis-common-protos<2,>=1.52.0 in /home/dk/miniconda3/envs/mlops/lib/python3.8/site-packages (from tensorflow-metadata<1.1.0,>=1.0.0->tensorflow-transform==1.0.0) (1.56.2)\n",
            "Requirement already satisfied: pandas<2,>=1.0 in /home/dk/miniconda3/envs/mlops/lib/python3.8/site-packages (from tfx-bsl<1.1.0,>=1.0.0->tensorflow-transform==1.0.0) (1.4.2)\n",
            "Requirement already satisfied: google-api-python-client<2,>=1.7.11 in /home/dk/miniconda3/envs/mlops/lib/python3.8/site-packages (from tfx-bsl<1.1.0,>=1.0.0->tensorflow-transform==1.0.0) (1.12.11)\n",
            "Requirement already satisfied: tensorflow-serving-api!=2.0.*,!=2.1.*,!=2.2.*,!=2.3.*,!=2.4.*,<3,>=1.15 in /home/dk/miniconda3/envs/mlops/lib/python3.8/site-packages (from tfx-bsl<1.1.0,>=1.0.0->tensorflow-transform==1.0.0) (2.7.0)\n",
            "Requirement already satisfied: uritemplate<4dev,>=3.0.0 in /home/dk/miniconda3/envs/mlops/lib/python3.8/site-packages (from google-api-python-client<2,>=1.7.11->tfx-bsl<1.1.0,>=1.0.0->tensorflow-transform==1.0.0) (3.0.1)\n",
            "Requirement already satisfied: google-api-core<3dev,>=1.21.0 in /home/dk/miniconda3/envs/mlops/lib/python3.8/site-packages (from google-api-python-client<2,>=1.7.11->tfx-bsl<1.1.0,>=1.0.0->tensorflow-transform==1.0.0) (1.31.6)\n",
            "Requirement already satisfied: oauth2client>=1.4.12 in /home/dk/miniconda3/envs/mlops/lib/python3.8/site-packages (from google-apitools<0.5.32,>=0.5.31->apache-beam[gcp]<3,>=2.29->tensorflow-transform==1.0.0) (4.1.3)\n",
            "Requirement already satisfied: fasteners>=0.14 in /home/dk/miniconda3/envs/mlops/lib/python3.8/site-packages (from google-apitools<0.5.32,>=0.5.31->apache-beam[gcp]<3,>=2.29->tensorflow-transform==1.0.0) (0.17.3)\n",
            "Requirement already satisfied: rsa<5,>=3.1.4 in /home/dk/miniconda3/envs/mlops/lib/python3.8/site-packages (from google-auth<3,>=1.18.0->apache-beam[gcp]<3,>=2.29->tensorflow-transform==1.0.0) (4.8)\n",
            "Requirement already satisfied: setuptools>=40.3.0 in /home/dk/miniconda3/envs/mlops/lib/python3.8/site-packages (from google-auth<3,>=1.18.0->apache-beam[gcp]<3,>=2.29->tensorflow-transform==1.0.0) (61.2.0)\n",
            "Requirement already satisfied: pyasn1-modules>=0.2.1 in /home/dk/miniconda3/envs/mlops/lib/python3.8/site-packages (from google-auth<3,>=1.18.0->apache-beam[gcp]<3,>=2.29->tensorflow-transform==1.0.0) (0.2.8)\n",
            "Requirement already satisfied: packaging>=14.3 in /home/dk/miniconda3/envs/mlops/lib/python3.8/site-packages (from google-cloud-bigquery<3,>=1.6.0->apache-beam[gcp]<3,>=2.29->tensorflow-transform==1.0.0) (21.3)\n",
            "Requirement already satisfied: google-resumable-media<2.0dev,>=0.6.0 in /home/dk/miniconda3/envs/mlops/lib/python3.8/site-packages (from google-cloud-bigquery<3,>=1.6.0->apache-beam[gcp]<3,>=2.29->tensorflow-transform==1.0.0) (1.3.3)\n",
            "Requirement already satisfied: grpc-google-iam-v1<0.13dev,>=0.12.3 in /home/dk/miniconda3/envs/mlops/lib/python3.8/site-packages (from google-cloud-bigtable<2,>=0.31.1->apache-beam[gcp]<3,>=2.29->tensorflow-transform==1.0.0) (0.12.4)\n",
            "Requirement already satisfied: grpcio-status>=1.16.0 in /home/dk/miniconda3/envs/mlops/lib/python3.8/site-packages (from google-cloud-pubsub<3,>=2.1.0->apache-beam[gcp]<3,>=2.29->tensorflow-transform==1.0.0) (1.46.3)\n",
            "Collecting google-cloud-pubsub<3,>=2.1.0\n",
            "  Downloading google_cloud_pubsub-2.13.1-py2.py3-none-any.whl (234 kB)\n",
            "\u001b[2K     \u001b[90m━━━━━━━━━━━━━━━━━━━━━━━━━━━━━━━━━━━━━\u001b[0m \u001b[32m234.5/234.5 kB\u001b[0m \u001b[31m642.2 kB/s\u001b[0m eta \u001b[36m0:00:00\u001b[0ma \u001b[36m0:00:01\u001b[0m\n",
            "\u001b[?25h  Downloading google_cloud_pubsub-2.12.1-py2.py3-none-any.whl (233 kB)\n",
            "\u001b[2K     \u001b[90m━━━━━━━━━━━━━━━━━━━━━━━━━━━━━━━━━━━━━\u001b[0m \u001b[32m233.6/233.6 kB\u001b[0m \u001b[31m598.7 kB/s\u001b[0m eta \u001b[36m0:00:00\u001b[0ma \u001b[36m0:00:01\u001b[0m\n",
            "\u001b[?25h  Downloading google_cloud_pubsub-2.12.0-py2.py3-none-any.whl (232 kB)\n",
            "\u001b[2K     \u001b[90m━━━━━━━━━━━━━━━━━━━━━━━━━━━━━━━━━━━━━\u001b[0m \u001b[32m232.7/232.7 kB\u001b[0m \u001b[31m759.1 kB/s\u001b[0m eta \u001b[36m0:00:00\u001b[0ma \u001b[36m0:00:01\u001b[0m\n",
            "\u001b[?25h  Downloading google_cloud_pubsub-2.11.1-py2.py3-none-any.whl (232 kB)\n",
            "\u001b[2K     \u001b[90m━━━━━━━━━━━━━━━━━━━━━━━━━━━━━━━━━━━━━━━\u001b[0m \u001b[32m232.2/232.2 kB\u001b[0m \u001b[31m1.6 MB/s\u001b[0m eta \u001b[36m0:00:00\u001b[0ma \u001b[36m0:00:01\u001b[0m\n",
            "\u001b[?25h  Downloading google_cloud_pubsub-2.11.0-py2.py3-none-any.whl (232 kB)\n",
            "\u001b[2K     \u001b[90m━━━━━━━━━━━━━━━━━━━━━━━━━━━━━━━━━━━━━━━\u001b[0m \u001b[32m232.2/232.2 kB\u001b[0m \u001b[31m5.0 MB/s\u001b[0m eta \u001b[36m0:00:00\u001b[0ma \u001b[36m0:00:01\u001b[0m\n",
            "\u001b[?25h  Downloading google_cloud_pubsub-2.10.0-py2.py3-none-any.whl (231 kB)\n",
            "\u001b[2K     \u001b[90m━━━━━━━━━━━━━━━━━━━━━━━━━━━━━━━━━━━━━\u001b[0m \u001b[32m232.0/232.0 kB\u001b[0m \u001b[31m722.8 kB/s\u001b[0m eta \u001b[36m0:00:00\u001b[0ma \u001b[36m0:00:01\u001b[0m\n",
            "\u001b[?25h  Downloading google_cloud_pubsub-2.9.0-py2.py3-none-any.whl (219 kB)\n",
            "\u001b[2K     \u001b[90m━━━━━━━━━━━━━━━━━━━━━━━━━━━━━━━━━━━━━\u001b[0m \u001b[32m219.6/219.6 kB\u001b[0m \u001b[31m801.1 kB/s\u001b[0m eta \u001b[36m0:00:00\u001b[0ma \u001b[36m0:00:01\u001b[0m\n",
            "\u001b[?25hCollecting libcst>=0.3.10\n",
            "  Downloading libcst-0.4.6-cp38-cp38-manylinux_2_17_x86_64.manylinux2014_x86_64.whl (2.7 MB)\n",
            "\u001b[2K     \u001b[90m━━━━━━━━━━━━━━━━━━━━━━━━━━━━━━━━━━━━━━━━\u001b[0m \u001b[32m2.7/2.7 MB\u001b[0m \u001b[31m1.4 MB/s\u001b[0m eta \u001b[36m0:00:00\u001b[0m00:01\u001b[0m00:01\u001b[0m0m\n",
            "\u001b[?25hCollecting google-cloud-pubsub<3,>=2.1.0\n",
            "  Downloading google_cloud_pubsub-2.8.0-py2.py3-none-any.whl (217 kB)\n",
            "\u001b[2K     \u001b[90m━━━━━━━━━━━━━━━━━━━━━━━━━━━━━━━━━━━━━━━\u001b[0m \u001b[32m217.4/217.4 kB\u001b[0m \u001b[31m2.2 MB/s\u001b[0m eta \u001b[36m0:00:00\u001b[0ma \u001b[36m0:00:01\u001b[0m\n",
            "\u001b[?25h  Downloading google_cloud_pubsub-2.7.1-py2.py3-none-any.whl (217 kB)\n",
            "\u001b[2K     \u001b[90m━━━━━━━━━━━━━━━━━━━━━━━━━━━━━━━━━━━━━━━\u001b[0m \u001b[32m217.3/217.3 kB\u001b[0m \u001b[31m2.2 MB/s\u001b[0m eta \u001b[36m0:00:00\u001b[0ma \u001b[36m0:00:01\u001b[0m\n",
            "\u001b[?25h  Downloading google_cloud_pubsub-2.7.0-py2.py3-none-any.whl (217 kB)\n",
            "\u001b[2K     \u001b[90m━━━━━━━━━━━━━━━━━━━━━━━━━━━━━━━━━━━━━━━\u001b[0m \u001b[32m217.2/217.2 kB\u001b[0m \u001b[31m2.3 MB/s\u001b[0m eta \u001b[36m0:00:00\u001b[0ma \u001b[36m0:00:01\u001b[0m\n",
            "\u001b[?25h  Downloading google_cloud_pubsub-2.6.1-py2.py3-none-any.whl (212 kB)\n",
            "\u001b[2K     \u001b[90m━━━━━━━━━━━━━━━━━━━━━━━━━━━━━━━━━━━━━\u001b[0m \u001b[32m212.9/212.9 kB\u001b[0m \u001b[31m833.1 kB/s\u001b[0m eta \u001b[36m0:00:00\u001b[0ma \u001b[36m0:00:01\u001b[0m\n",
            "\u001b[?25h  Downloading google_cloud_pubsub-2.6.0-py2.py3-none-any.whl (212 kB)\n",
            "\u001b[2K     \u001b[90m━━━━━━━━━━━━━━━━━━━━━━━━━━━━━━━━━━━━━━━\u001b[0m \u001b[32m212.9/212.9 kB\u001b[0m \u001b[31m2.3 MB/s\u001b[0m eta \u001b[36m0:00:00\u001b[0ma \u001b[36m0:00:01\u001b[0m\n",
            "\u001b[?25hRequirement already satisfied: overrides<7.0.0,>=6.0.1 in /home/dk/miniconda3/envs/mlops/lib/python3.8/site-packages (from google-cloud-pubsublite<2,>=1.2.0->apache-beam[gcp]<3,>=2.29->tensorflow-transform==1.0.0) (6.1.0)\n",
            "Requirement already satisfied: docopt in /home/dk/miniconda3/envs/mlops/lib/python3.8/site-packages (from hdfs<3.0.0,>=2.1.0->apache-beam[gcp]<3,>=2.29->tensorflow-transform==1.0.0) (0.6.2)\n",
            "Requirement already satisfied: charset-normalizer~=2.0.0 in /home/dk/miniconda3/envs/mlops/lib/python3.8/site-packages (from requests<3.0.0,>=2.24.0->apache-beam[gcp]<3,>=2.29->tensorflow-transform==1.0.0) (2.0.12)\n",
            "Requirement already satisfied: idna<4,>=2.5 in /home/dk/miniconda3/envs/mlops/lib/python3.8/site-packages (from requests<3.0.0,>=2.24.0->apache-beam[gcp]<3,>=2.29->tensorflow-transform==1.0.0) (3.3)\n",
            "Requirement already satisfied: certifi>=2017.4.17 in /home/dk/miniconda3/envs/mlops/lib/python3.8/site-packages (from requests<3.0.0,>=2.24.0->apache-beam[gcp]<3,>=2.29->tensorflow-transform==1.0.0) (2022.5.18.1)\n",
            "Requirement already satisfied: urllib3<1.27,>=1.21.1 in /home/dk/miniconda3/envs/mlops/lib/python3.8/site-packages (from requests<3.0.0,>=2.24.0->apache-beam[gcp]<3,>=2.29->tensorflow-transform==1.0.0) (1.26.9)\n",
            "Requirement already satisfied: markdown>=2.6.8 in /home/dk/miniconda3/envs/mlops/lib/python3.8/site-packages (from tensorboard~=2.5->tensorflow!=2.0.*,!=2.1.*,!=2.2.*,!=2.3.*,!=2.4.*,<2.6,>=1.15.2->tensorflow-transform==1.0.0) (3.3.7)\n",
            "Requirement already satisfied: tensorboard-plugin-wit>=1.6.0 in /home/dk/miniconda3/envs/mlops/lib/python3.8/site-packages (from tensorboard~=2.5->tensorflow!=2.0.*,!=2.1.*,!=2.2.*,!=2.3.*,!=2.4.*,<2.6,>=1.15.2->tensorflow-transform==1.0.0) (1.8.1)\n",
            "Requirement already satisfied: google-auth-oauthlib<0.5,>=0.4.1 in /home/dk/miniconda3/envs/mlops/lib/python3.8/site-packages (from tensorboard~=2.5->tensorflow!=2.0.*,!=2.1.*,!=2.2.*,!=2.3.*,!=2.4.*,<2.6,>=1.15.2->tensorflow-transform==1.0.0) (0.4.6)\n",
            "Requirement already satisfied: tensorboard-data-server<0.7.0,>=0.6.0 in /home/dk/miniconda3/envs/mlops/lib/python3.8/site-packages (from tensorboard~=2.5->tensorflow!=2.0.*,!=2.1.*,!=2.2.*,!=2.3.*,!=2.4.*,<2.6,>=1.15.2->tensorflow-transform==1.0.0) (0.6.1)\n",
            "Requirement already satisfied: werkzeug>=1.0.1 in /home/dk/miniconda3/envs/mlops/lib/python3.8/site-packages (from tensorboard~=2.5->tensorflow!=2.0.*,!=2.1.*,!=2.2.*,!=2.3.*,!=2.4.*,<2.6,>=1.15.2->tensorflow-transform==1.0.0) (2.1.2)\n",
            "Collecting tensorflow-serving-api!=2.0.*,!=2.1.*,!=2.2.*,!=2.3.*,!=2.4.*,<3,>=1.15\n",
            "  Downloading tensorflow_serving_api-2.9.1-py2.py3-none-any.whl (37 kB)\n",
            "  Downloading tensorflow_serving_api-2.9.0-py2.py3-none-any.whl (37 kB)\n",
            "  Using cached tensorflow_serving_api-2.8.2-py2.py3-none-any.whl (37 kB)\n",
            "  Using cached tensorflow_serving_api-2.8.0-py2.py3-none-any.whl (37 kB)\n",
            "  Downloading tensorflow_serving_api-2.6.5-py2.py3-none-any.whl (37 kB)\n",
            "  Downloading tensorflow_serving_api-2.6.3-py2.py3-none-any.whl (37 kB)\n",
            "  Downloading tensorflow_serving_api-2.6.2-py2.py3-none-any.whl (37 kB)\n",
            "  Downloading tensorflow_serving_api-2.6.1-py2.py3-none-any.whl (37 kB)\n",
            "  Downloading tensorflow_serving_api-2.6.0-py2.py3-none-any.whl (37 kB)\n",
            "  Downloading tensorflow_serving_api-2.5.4-py2.py3-none-any.whl (38 kB)\n",
            "Requirement already satisfied: requests-oauthlib>=0.7.0 in /home/dk/miniconda3/envs/mlops/lib/python3.8/site-packages (from google-auth-oauthlib<0.5,>=0.4.1->tensorboard~=2.5->tensorflow!=2.0.*,!=2.1.*,!=2.2.*,!=2.3.*,!=2.4.*,<2.6,>=1.15.2->tensorflow-transform==1.0.0) (1.3.1)\n",
            "Requirement already satisfied: google-crc32c<2.0dev,>=1.0 in /home/dk/miniconda3/envs/mlops/lib/python3.8/site-packages (from google-resumable-media<2.0dev,>=0.6.0->google-cloud-bigquery<3,>=1.6.0->apache-beam[gcp]<3,>=2.29->tensorflow-transform==1.0.0) (1.3.0)\n",
            "Collecting grpcio-status>=1.18.0\n",
            "  Downloading grpcio_status-1.47.0-py3-none-any.whl (10.0 kB)\n",
            "  Downloading grpcio_status-1.46.1-py3-none-any.whl (10.0 kB)\n",
            "  Downloading grpcio_status-1.46.0-py3-none-any.whl (10.0 kB)\n",
            "  Downloading grpcio_status-1.44.0-py3-none-any.whl (10.0 kB)\n",
            "  Downloading grpcio_status-1.43.0-py3-none-any.whl (10.0 kB)\n",
            "  Downloading grpcio_status-1.42.0-py3-none-any.whl (10.0 kB)\n",
            "  Downloading grpcio_status-1.41.1-py3-none-any.whl (9.2 kB)\n",
            "  Downloading grpcio_status-1.41.0-py3-none-any.whl (9.2 kB)\n",
            "  Downloading grpcio_status-1.40.0-py3-none-any.whl (9.3 kB)\n",
            "  Downloading grpcio_status-1.39.0-py3-none-any.whl (9.3 kB)\n",
            "  Downloading grpcio_status-1.38.1-py3-none-any.whl (9.3 kB)\n",
            "  Downloading grpcio_status-1.38.0-py3-none-any.whl (9.3 kB)\n",
            "  Downloading grpcio-status-1.37.1.tar.gz (8.8 kB)\n",
            "  Preparing metadata (setup.py) ... \u001b[?25ldone\n",
            "\u001b[?25h  Downloading grpcio-status-1.37.0.tar.gz (8.7 kB)\n",
            "  Preparing metadata (setup.py) ... \u001b[?25ldone\n",
            "\u001b[?25h  Downloading grpcio-status-1.36.1.tar.gz (8.7 kB)\n",
            "  Preparing metadata (setup.py) ... \u001b[?25ldone\n",
            "\u001b[?25h  Downloading grpcio-status-1.36.0.tar.gz (8.6 kB)\n",
            "  Preparing metadata (setup.py) ... \u001b[?25ldone\n",
            "\u001b[?25h  Downloading grpcio-status-1.35.0.tar.gz (9.1 kB)\n",
            "  Preparing metadata (setup.py) ... \u001b[?25ldone\n",
            "\u001b[?25h  Downloading grpcio-status-1.34.1.tar.gz (8.7 kB)\n",
            "  Preparing metadata (setup.py) ... \u001b[?25ldone\n",
            "\u001b[?25hCollecting typing-inspect>=0.4.0\n",
            "  Downloading typing_inspect-0.7.1-py3-none-any.whl (8.4 kB)\n",
            "Collecting pyyaml>=5.2\n",
            "  Downloading PyYAML-6.0-cp38-cp38-manylinux_2_5_x86_64.manylinux1_x86_64.manylinux_2_12_x86_64.manylinux2010_x86_64.whl (701 kB)\n",
            "\u001b[2K     \u001b[90m━━━━━━━━━━━━━━━━━━━━━━━━━━━━━━━━━━━━━━\u001b[0m \u001b[32m701.2/701.2 kB\u001b[0m \u001b[31m88.7 kB/s\u001b[0m eta \u001b[36m0:00:00\u001b[0m00:01\u001b[0m00:01\u001b[0m\n",
            "\u001b[?25hRequirement already satisfied: importlib-metadata>=4.4 in /home/dk/miniconda3/envs/mlops/lib/python3.8/site-packages (from markdown>=2.6.8->tensorboard~=2.5->tensorflow!=2.0.*,!=2.1.*,!=2.2.*,!=2.3.*,!=2.4.*,<2.6,>=1.15.2->tensorflow-transform==1.0.0) (4.11.4)\n",
            "Requirement already satisfied: pyasn1>=0.1.7 in /home/dk/miniconda3/envs/mlops/lib/python3.8/site-packages (from oauth2client>=1.4.12->google-apitools<0.5.32,>=0.5.31->apache-beam[gcp]<3,>=2.29->tensorflow-transform==1.0.0) (0.4.8)\n",
            "Requirement already satisfied: typing-utils>=0.0.3 in /home/dk/miniconda3/envs/mlops/lib/python3.8/site-packages (from overrides<7.0.0,>=6.0.1->google-cloud-pubsublite<2,>=1.2.0->apache-beam[gcp]<3,>=2.29->tensorflow-transform==1.0.0) (0.1.0)\n",
            "Requirement already satisfied: zipp>=0.5 in /home/dk/miniconda3/envs/mlops/lib/python3.8/site-packages (from importlib-metadata>=4.4->markdown>=2.6.8->tensorboard~=2.5->tensorflow!=2.0.*,!=2.1.*,!=2.2.*,!=2.3.*,!=2.4.*,<2.6,>=1.15.2->tensorflow-transform==1.0.0) (3.8.0)\n",
            "Requirement already satisfied: oauthlib>=3.0.0 in /home/dk/miniconda3/envs/mlops/lib/python3.8/site-packages (from requests-oauthlib>=0.7.0->google-auth-oauthlib<0.5,>=0.4.1->tensorboard~=2.5->tensorflow!=2.0.*,!=2.1.*,!=2.2.*,!=2.3.*,!=2.4.*,<2.6,>=1.15.2->tensorflow-transform==1.0.0) (3.2.0)\n",
            "Collecting mypy-extensions>=0.3.0\n",
            "  Downloading mypy_extensions-0.4.3-py2.py3-none-any.whl (4.5 kB)\n",
            "Building wheels for collected packages: grpcio-status\n",
            "  Building wheel for grpcio-status (setup.py) ... \u001b[?25ldone\n",
            "\u001b[?25h  Created wheel for grpcio-status: filename=grpcio_status-1.34.1-py3-none-any.whl size=9301 sha256=bd087b095df5482647bbf4773d7d3c7bf6dbc262ce5c65bdd09686867c25464c\n",
            "  Stored in directory: /home/dk/.cache/pip/wheels/fe/26/e7/a86f368b77af999e1b9d81be61241c8e422390913352562f68\n",
            "Successfully built grpcio-status\n",
            "Installing collected packages: tensorflow-estimator, mypy-extensions, keras-nightly, typing-inspect, pyyaml, grpcio, tensorflow-metadata, libcst, grpcio-status, tensorflow, google-cloud-pubsub, tensorflow-serving-api, tfx-bsl, tensorflow-transform\n",
            "  Attempting uninstall: tensorflow-estimator\n",
            "    Found existing installation: tensorflow-estimator 2.7.0\n",
            "    Uninstalling tensorflow-estimator-2.7.0:\n",
            "      Successfully uninstalled tensorflow-estimator-2.7.0\n",
            "  Attempting uninstall: grpcio\n",
            "    Found existing installation: grpcio 1.46.3\n",
            "    Uninstalling grpcio-1.46.3:\n",
            "      Successfully uninstalled grpcio-1.46.3\n",
            "  Attempting uninstall: tensorflow-metadata\n",
            "    Found existing installation: tensorflow-metadata 1.1.0\n",
            "    Uninstalling tensorflow-metadata-1.1.0:\n",
            "      Successfully uninstalled tensorflow-metadata-1.1.0\n",
            "  Attempting uninstall: grpcio-status\n",
            "    Found existing installation: grpcio-status 1.46.3\n",
            "    Uninstalling grpcio-status-1.46.3:\n",
            "      Successfully uninstalled grpcio-status-1.46.3\n",
            "  Attempting uninstall: tensorflow\n",
            "    Found existing installation: tensorflow 2.7.3\n",
            "    Uninstalling tensorflow-2.7.3:\n",
            "      Successfully uninstalled tensorflow-2.7.3\n",
            "  Attempting uninstall: google-cloud-pubsub\n",
            "    Found existing installation: google-cloud-pubsub 2.13.0\n",
            "    Uninstalling google-cloud-pubsub-2.13.0:\n",
            "      Successfully uninstalled google-cloud-pubsub-2.13.0\n",
            "  Attempting uninstall: tensorflow-serving-api\n",
            "    Found existing installation: tensorflow-serving-api 2.7.0\n",
            "    Uninstalling tensorflow-serving-api-2.7.0:\n",
            "      Successfully uninstalled tensorflow-serving-api-2.7.0\n",
            "  Attempting uninstall: tfx-bsl\n",
            "    Found existing installation: tfx-bsl 1.1.1\n",
            "    Uninstalling tfx-bsl-1.1.1:\n",
            "      Successfully uninstalled tfx-bsl-1.1.1\n",
            "\u001b[31mERROR: pip's dependency resolver does not currently take into account all the packages that are installed. This behaviour is the source of the following dependency conflicts.\n",
            "tensorflow-data-validation 1.1.0 requires tensorflow-metadata<1.2,>=1.1, but you have tensorflow-metadata 1.0.0 which is incompatible.\n",
            "tensorflow-data-validation 1.1.0 requires tfx-bsl<1.2,>=1.1, but you have tfx-bsl 1.0.0 which is incompatible.\u001b[0m\u001b[31m\n",
            "\u001b[0mSuccessfully installed google-cloud-pubsub-2.6.0 grpcio-1.34.1 grpcio-status-1.34.1 keras-nightly-2.5.0.dev2021032900 libcst-0.4.6 mypy-extensions-0.4.3 pyyaml-6.0 tensorflow-2.5.3 tensorflow-estimator-2.5.0 tensorflow-metadata-1.0.0 tensorflow-serving-api-2.5.4 tensorflow-transform-1.0.0 tfx-bsl-1.0.0 typing-inspect-0.7.1\n",
            "Collecting tensorflow-model-analysis==0.32.0\n",
            "  Downloading tensorflow_model_analysis-0.32.0-py3-none-any.whl (1.7 MB)\n",
            "\u001b[2K     \u001b[90m━━━━━━━━━━━━━━━━━━━━━━━━━━━━━━━━━━━━━━━━\u001b[0m \u001b[32m1.7/1.7 MB\u001b[0m \u001b[31m662.9 kB/s\u001b[0m eta \u001b[36m0:00:00\u001b[0m00:01\u001b[0m00:01\u001b[0m\n",
            "\u001b[?25hCollecting ipython<8,>=7\n",
            "  Using cached ipython-7.34.0-py3-none-any.whl (793 kB)\n",
            "Requirement already satisfied: pyarrow<3,>=1 in /home/dk/miniconda3/envs/mlops/lib/python3.8/site-packages (from tensorflow-model-analysis==0.32.0) (2.0.0)\n",
            "Requirement already satisfied: numpy<1.20,>=1.16 in /home/dk/miniconda3/envs/mlops/lib/python3.8/site-packages (from tensorflow-model-analysis==0.32.0) (1.19.5)\n",
            "Requirement already satisfied: apache-beam[gcp]<3,>=2.29 in /home/dk/miniconda3/envs/mlops/lib/python3.8/site-packages (from tensorflow-model-analysis==0.32.0) (2.39.0)\n",
            "Requirement already satisfied: scipy<2,>=1.4.1 in /home/dk/miniconda3/envs/mlops/lib/python3.8/site-packages (from tensorflow-model-analysis==0.32.0) (1.8.1)\n",
            "Collecting tfx-bsl<1.2.0,>=1.1.0\n",
            "  Using cached tfx_bsl-1.1.1-cp38-cp38-manylinux_2_12_x86_64.manylinux2010_x86_64.whl (19.0 MB)\n",
            "Requirement already satisfied: pandas<2,>=1.0 in /home/dk/miniconda3/envs/mlops/lib/python3.8/site-packages (from tensorflow-model-analysis==0.32.0) (1.4.2)\n",
            "Requirement already satisfied: protobuf<4,>=3.13 in /home/dk/miniconda3/envs/mlops/lib/python3.8/site-packages (from tensorflow-model-analysis==0.32.0) (3.19.4)\n",
            "Collecting ipywidgets<8,>=7\n",
            "  Downloading ipywidgets-7.7.1-py2.py3-none-any.whl (123 kB)\n",
            "\u001b[2K     \u001b[90m━━━━━━━━━━━━━━━━━━━━━━━━━━━━━━━━━━━━━━\u001b[0m \u001b[32m123.4/123.4 kB\u001b[0m \u001b[31m74.4 kB/s\u001b[0m eta \u001b[36m0:00:00\u001b[0ma \u001b[36m0:00:01\u001b[0m\n",
            "\u001b[?25hRequirement already satisfied: six<2,>=1.12 in /home/dk/miniconda3/envs/mlops/lib/python3.8/site-packages (from tensorflow-model-analysis==0.32.0) (1.15.0)\n",
            "Requirement already satisfied: tensorflow!=2.0.*,!=2.1.*,!=2.2.*,!=2.3.*,!=2.4.*,<3,>=1.15.2 in /home/dk/miniconda3/envs/mlops/lib/python3.8/site-packages (from tensorflow-model-analysis==0.32.0) (2.5.3)\n",
            "Requirement already satisfied: absl-py<0.13,>=0.9 in /home/dk/miniconda3/envs/mlops/lib/python3.8/site-packages (from tensorflow-model-analysis==0.32.0) (0.12.0)\n",
            "Collecting tensorflow-metadata<1.2.0,>=1.1.0\n",
            "  Using cached tensorflow_metadata-1.1.0-py3-none-any.whl (48 kB)\n",
            "Requirement already satisfied: httplib2<0.20.0,>=0.8 in /home/dk/miniconda3/envs/mlops/lib/python3.8/site-packages (from apache-beam[gcp]<3,>=2.29->tensorflow-model-analysis==0.32.0) (0.19.1)\n",
            "Requirement already satisfied: python-dateutil<3,>=2.8.0 in /home/dk/miniconda3/envs/mlops/lib/python3.8/site-packages (from apache-beam[gcp]<3,>=2.29->tensorflow-model-analysis==0.32.0) (2.8.2)\n",
            "Requirement already satisfied: fastavro<2,>=0.23.6 in /home/dk/miniconda3/envs/mlops/lib/python3.8/site-packages (from apache-beam[gcp]<3,>=2.29->tensorflow-model-analysis==0.32.0) (1.5.1)\n",
            "Requirement already satisfied: cloudpickle<3,>=2.0.0 in /home/dk/miniconda3/envs/mlops/lib/python3.8/site-packages (from apache-beam[gcp]<3,>=2.29->tensorflow-model-analysis==0.32.0) (2.1.0)\n",
            "Requirement already satisfied: hdfs<3.0.0,>=2.1.0 in /home/dk/miniconda3/envs/mlops/lib/python3.8/site-packages (from apache-beam[gcp]<3,>=2.29->tensorflow-model-analysis==0.32.0) (2.7.0)\n",
            "Requirement already satisfied: proto-plus<2,>=1.7.1 in /home/dk/miniconda3/envs/mlops/lib/python3.8/site-packages (from apache-beam[gcp]<3,>=2.29->tensorflow-model-analysis==0.32.0) (1.20.5)\n",
            "Requirement already satisfied: orjson<4.0 in /home/dk/miniconda3/envs/mlops/lib/python3.8/site-packages (from apache-beam[gcp]<3,>=2.29->tensorflow-model-analysis==0.32.0) (3.7.2)\n",
            "Requirement already satisfied: pymongo<4.0.0,>=3.8.0 in /home/dk/miniconda3/envs/mlops/lib/python3.8/site-packages (from apache-beam[gcp]<3,>=2.29->tensorflow-model-analysis==0.32.0) (3.12.3)\n",
            "Requirement already satisfied: crcmod<2.0,>=1.7 in /home/dk/miniconda3/envs/mlops/lib/python3.8/site-packages (from apache-beam[gcp]<3,>=2.29->tensorflow-model-analysis==0.32.0) (1.7)\n",
            "Requirement already satisfied: typing-extensions>=3.7.0 in /home/dk/miniconda3/envs/mlops/lib/python3.8/site-packages (from apache-beam[gcp]<3,>=2.29->tensorflow-model-analysis==0.32.0) (3.7.4.3)\n",
            "Requirement already satisfied: grpcio<2,>=1.29.0 in /home/dk/miniconda3/envs/mlops/lib/python3.8/site-packages (from apache-beam[gcp]<3,>=2.29->tensorflow-model-analysis==0.32.0) (1.34.1)\n",
            "Requirement already satisfied: pydot<2,>=1.2.0 in /home/dk/miniconda3/envs/mlops/lib/python3.8/site-packages (from apache-beam[gcp]<3,>=2.29->tensorflow-model-analysis==0.32.0) (1.4.2)\n",
            "Requirement already satisfied: dill<0.3.2,>=0.3.1.1 in /home/dk/miniconda3/envs/mlops/lib/python3.8/site-packages (from apache-beam[gcp]<3,>=2.29->tensorflow-model-analysis==0.32.0) (0.3.1.1)\n",
            "Requirement already satisfied: requests<3.0.0,>=2.24.0 in /home/dk/miniconda3/envs/mlops/lib/python3.8/site-packages (from apache-beam[gcp]<3,>=2.29->tensorflow-model-analysis==0.32.0) (2.27.1)\n",
            "Requirement already satisfied: pytz>=2018.3 in /home/dk/miniconda3/envs/mlops/lib/python3.8/site-packages (from apache-beam[gcp]<3,>=2.29->tensorflow-model-analysis==0.32.0) (2022.1)\n",
            "Requirement already satisfied: google-cloud-core<2,>=0.28.1 in /home/dk/miniconda3/envs/mlops/lib/python3.8/site-packages (from apache-beam[gcp]<3,>=2.29->tensorflow-model-analysis==0.32.0) (1.7.2)\n",
            "Requirement already satisfied: google-cloud-dlp<4,>=3.0.0 in /home/dk/miniconda3/envs/mlops/lib/python3.8/site-packages (from apache-beam[gcp]<3,>=2.29->tensorflow-model-analysis==0.32.0) (3.7.1)\n",
            "Requirement already satisfied: google-cloud-videointelligence<2,>=1.8.0 in /home/dk/miniconda3/envs/mlops/lib/python3.8/site-packages (from apache-beam[gcp]<3,>=2.29->tensorflow-model-analysis==0.32.0) (1.16.2)\n",
            "Requirement already satisfied: google-cloud-spanner<2,>=1.13.0 in /home/dk/miniconda3/envs/mlops/lib/python3.8/site-packages (from apache-beam[gcp]<3,>=2.29->tensorflow-model-analysis==0.32.0) (1.19.2)\n",
            "Requirement already satisfied: google-auth<3,>=1.18.0 in /home/dk/miniconda3/envs/mlops/lib/python3.8/site-packages (from apache-beam[gcp]<3,>=2.29->tensorflow-model-analysis==0.32.0) (1.35.0)\n",
            "Requirement already satisfied: google-cloud-bigquery-storage>=2.6.3 in /home/dk/miniconda3/envs/mlops/lib/python3.8/site-packages (from apache-beam[gcp]<3,>=2.29->tensorflow-model-analysis==0.32.0) (2.13.2)\n",
            "Requirement already satisfied: google-apitools<0.5.32,>=0.5.31 in /home/dk/miniconda3/envs/mlops/lib/python3.8/site-packages (from apache-beam[gcp]<3,>=2.29->tensorflow-model-analysis==0.32.0) (0.5.31)\n",
            "Requirement already satisfied: google-cloud-recommendations-ai<=0.2.0,>=0.1.0 in /home/dk/miniconda3/envs/mlops/lib/python3.8/site-packages (from apache-beam[gcp]<3,>=2.29->tensorflow-model-analysis==0.32.0) (0.2.0)\n",
            "Requirement already satisfied: cachetools<5,>=3.1.0 in /home/dk/miniconda3/envs/mlops/lib/python3.8/site-packages (from apache-beam[gcp]<3,>=2.29->tensorflow-model-analysis==0.32.0) (4.2.4)\n",
            "Requirement already satisfied: google-cloud-bigtable<2,>=0.31.1 in /home/dk/miniconda3/envs/mlops/lib/python3.8/site-packages (from apache-beam[gcp]<3,>=2.29->tensorflow-model-analysis==0.32.0) (1.7.1)\n",
            "Requirement already satisfied: google-cloud-language<2,>=1.3.0 in /home/dk/miniconda3/envs/mlops/lib/python3.8/site-packages (from apache-beam[gcp]<3,>=2.29->tensorflow-model-analysis==0.32.0) (1.3.1)\n",
            "Requirement already satisfied: google-auth-httplib2<0.2.0,>=0.1.0 in /home/dk/miniconda3/envs/mlops/lib/python3.8/site-packages (from apache-beam[gcp]<3,>=2.29->tensorflow-model-analysis==0.32.0) (0.1.0)\n",
            "Requirement already satisfied: google-cloud-bigquery<3,>=1.6.0 in /home/dk/miniconda3/envs/mlops/lib/python3.8/site-packages (from apache-beam[gcp]<3,>=2.29->tensorflow-model-analysis==0.32.0) (2.20.0)\n",
            "Requirement already satisfied: grpcio-gcp<1,>=0.2.2 in /home/dk/miniconda3/envs/mlops/lib/python3.8/site-packages (from apache-beam[gcp]<3,>=2.29->tensorflow-model-analysis==0.32.0) (0.2.2)\n",
            "Requirement already satisfied: google-cloud-datastore<2,>=1.8.0 in /home/dk/miniconda3/envs/mlops/lib/python3.8/site-packages (from apache-beam[gcp]<3,>=2.29->tensorflow-model-analysis==0.32.0) (1.15.4)\n",
            "Requirement already satisfied: google-cloud-pubsub<3,>=2.1.0 in /home/dk/miniconda3/envs/mlops/lib/python3.8/site-packages (from apache-beam[gcp]<3,>=2.29->tensorflow-model-analysis==0.32.0) (2.6.0)\n",
            "Requirement already satisfied: google-cloud-vision<2,>=0.38.0 in /home/dk/miniconda3/envs/mlops/lib/python3.8/site-packages (from apache-beam[gcp]<3,>=2.29->tensorflow-model-analysis==0.32.0) (1.0.1)\n",
            "Requirement already satisfied: google-cloud-pubsublite<2,>=1.2.0 in /home/dk/miniconda3/envs/mlops/lib/python3.8/site-packages (from apache-beam[gcp]<3,>=2.29->tensorflow-model-analysis==0.32.0) (1.4.2)\n",
            "Requirement already satisfied: decorator in /home/dk/miniconda3/envs/mlops/lib/python3.8/site-packages (from ipython<8,>=7->tensorflow-model-analysis==0.32.0) (5.1.1)\n",
            "Requirement already satisfied: matplotlib-inline in /home/dk/miniconda3/envs/mlops/lib/python3.8/site-packages (from ipython<8,>=7->tensorflow-model-analysis==0.32.0) (0.1.3)\n",
            "Requirement already satisfied: backcall in /home/dk/miniconda3/envs/mlops/lib/python3.8/site-packages (from ipython<8,>=7->tensorflow-model-analysis==0.32.0) (0.2.0)\n",
            "Requirement already satisfied: jedi>=0.16 in /home/dk/miniconda3/envs/mlops/lib/python3.8/site-packages (from ipython<8,>=7->tensorflow-model-analysis==0.32.0) (0.18.1)\n",
            "Requirement already satisfied: pickleshare in /home/dk/miniconda3/envs/mlops/lib/python3.8/site-packages (from ipython<8,>=7->tensorflow-model-analysis==0.32.0) (0.7.5)\n",
            "Requirement already satisfied: setuptools>=18.5 in /home/dk/miniconda3/envs/mlops/lib/python3.8/site-packages (from ipython<8,>=7->tensorflow-model-analysis==0.32.0) (61.2.0)\n",
            "Requirement already satisfied: traitlets>=4.2 in /home/dk/miniconda3/envs/mlops/lib/python3.8/site-packages (from ipython<8,>=7->tensorflow-model-analysis==0.32.0) (5.2.2.post1)\n",
            "Requirement already satisfied: pexpect>4.3 in /home/dk/miniconda3/envs/mlops/lib/python3.8/site-packages (from ipython<8,>=7->tensorflow-model-analysis==0.32.0) (4.8.0)\n",
            "Requirement already satisfied: pygments in /home/dk/miniconda3/envs/mlops/lib/python3.8/site-packages (from ipython<8,>=7->tensorflow-model-analysis==0.32.0) (2.12.0)\n",
            "Requirement already satisfied: prompt-toolkit!=3.0.0,!=3.0.1,<3.1.0,>=2.0.0 in /home/dk/miniconda3/envs/mlops/lib/python3.8/site-packages (from ipython<8,>=7->tensorflow-model-analysis==0.32.0) (3.0.29)\n",
            "Collecting jupyterlab-widgets>=1.0.0\n",
            "  Downloading jupyterlab_widgets-1.1.1-py3-none-any.whl (245 kB)\n",
            "\u001b[2K     \u001b[90m━━━━━━━━━━━━━━━━━━━━━━━━━━━━━━━━━━━━━\u001b[0m \u001b[32m245.3/245.3 kB\u001b[0m \u001b[31m546.0 kB/s\u001b[0m eta \u001b[36m0:00:00\u001b[0ma \u001b[36m0:00:01\u001b[0m\n",
            "\u001b[?25hRequirement already satisfied: ipykernel>=4.5.1 in /home/dk/miniconda3/envs/mlops/lib/python3.8/site-packages (from ipywidgets<8,>=7->tensorflow-model-analysis==0.32.0) (6.13.0)\n",
            "Requirement already satisfied: ipython-genutils~=0.2.0 in /home/dk/miniconda3/envs/mlops/lib/python3.8/site-packages (from ipywidgets<8,>=7->tensorflow-model-analysis==0.32.0) (0.2.0)\n",
            "Collecting widgetsnbextension~=3.6.0\n",
            "  Downloading widgetsnbextension-3.6.1-py2.py3-none-any.whl (1.6 MB)\n",
            "\u001b[2K     \u001b[90m━━━━━━━━━━━━━━━━━━━━━━━━━━━━━━━━━━━━━━━━\u001b[0m \u001b[32m1.6/1.6 MB\u001b[0m \u001b[31m2.0 MB/s\u001b[0m eta \u001b[36m0:00:00\u001b[0ma \u001b[36m0:00:01\u001b[0m\n",
            "\u001b[?25hRequirement already satisfied: google-pasta~=0.2 in /home/dk/miniconda3/envs/mlops/lib/python3.8/site-packages (from tensorflow!=2.0.*,!=2.1.*,!=2.2.*,!=2.3.*,!=2.4.*,<3,>=1.15.2->tensorflow-model-analysis==0.32.0) (0.2.0)\n",
            "Requirement already satisfied: gast==0.4.0 in /home/dk/miniconda3/envs/mlops/lib/python3.8/site-packages (from tensorflow!=2.0.*,!=2.1.*,!=2.2.*,!=2.3.*,!=2.4.*,<3,>=1.15.2->tensorflow-model-analysis==0.32.0) (0.4.0)\n",
            "Requirement already satisfied: tensorflow-estimator<2.6.0,>=2.5.0 in /home/dk/miniconda3/envs/mlops/lib/python3.8/site-packages (from tensorflow!=2.0.*,!=2.1.*,!=2.2.*,!=2.3.*,!=2.4.*,<3,>=1.15.2->tensorflow-model-analysis==0.32.0) (2.5.0)\n",
            "Requirement already satisfied: keras-nightly~=2.5.0.dev in /home/dk/miniconda3/envs/mlops/lib/python3.8/site-packages (from tensorflow!=2.0.*,!=2.1.*,!=2.2.*,!=2.3.*,!=2.4.*,<3,>=1.15.2->tensorflow-model-analysis==0.32.0) (2.5.0.dev2021032900)\n",
            "Requirement already satisfied: termcolor~=1.1.0 in /home/dk/miniconda3/envs/mlops/lib/python3.8/site-packages (from tensorflow!=2.0.*,!=2.1.*,!=2.2.*,!=2.3.*,!=2.4.*,<3,>=1.15.2->tensorflow-model-analysis==0.32.0) (1.1.0)\n",
            "Requirement already satisfied: tensorboard~=2.5 in /home/dk/miniconda3/envs/mlops/lib/python3.8/site-packages (from tensorflow!=2.0.*,!=2.1.*,!=2.2.*,!=2.3.*,!=2.4.*,<3,>=1.15.2->tensorflow-model-analysis==0.32.0) (2.9.0)\n",
            "Requirement already satisfied: h5py~=3.1.0 in /home/dk/miniconda3/envs/mlops/lib/python3.8/site-packages (from tensorflow!=2.0.*,!=2.1.*,!=2.2.*,!=2.3.*,!=2.4.*,<3,>=1.15.2->tensorflow-model-analysis==0.32.0) (3.1.0)\n",
            "Requirement already satisfied: opt-einsum~=3.3.0 in /home/dk/miniconda3/envs/mlops/lib/python3.8/site-packages (from tensorflow!=2.0.*,!=2.1.*,!=2.2.*,!=2.3.*,!=2.4.*,<3,>=1.15.2->tensorflow-model-analysis==0.32.0) (3.3.0)\n",
            "Requirement already satisfied: keras-preprocessing~=1.1.2 in /home/dk/miniconda3/envs/mlops/lib/python3.8/site-packages (from tensorflow!=2.0.*,!=2.1.*,!=2.2.*,!=2.3.*,!=2.4.*,<3,>=1.15.2->tensorflow-model-analysis==0.32.0) (1.1.2)\n",
            "Requirement already satisfied: wheel~=0.35 in /home/dk/miniconda3/envs/mlops/lib/python3.8/site-packages (from tensorflow!=2.0.*,!=2.1.*,!=2.2.*,!=2.3.*,!=2.4.*,<3,>=1.15.2->tensorflow-model-analysis==0.32.0) (0.37.1)\n",
            "Requirement already satisfied: astunparse~=1.6.3 in /home/dk/miniconda3/envs/mlops/lib/python3.8/site-packages (from tensorflow!=2.0.*,!=2.1.*,!=2.2.*,!=2.3.*,!=2.4.*,<3,>=1.15.2->tensorflow-model-analysis==0.32.0) (1.6.3)\n",
            "Requirement already satisfied: wrapt~=1.12.1 in /home/dk/miniconda3/envs/mlops/lib/python3.8/site-packages (from tensorflow!=2.0.*,!=2.1.*,!=2.2.*,!=2.3.*,!=2.4.*,<3,>=1.15.2->tensorflow-model-analysis==0.32.0) (1.12.1)\n",
            "Requirement already satisfied: flatbuffers~=1.12.0 in /home/dk/miniconda3/envs/mlops/lib/python3.8/site-packages (from tensorflow!=2.0.*,!=2.1.*,!=2.2.*,!=2.3.*,!=2.4.*,<3,>=1.15.2->tensorflow-model-analysis==0.32.0) (1.12)\n",
            "Requirement already satisfied: googleapis-common-protos<2,>=1.52.0 in /home/dk/miniconda3/envs/mlops/lib/python3.8/site-packages (from tensorflow-metadata<1.2.0,>=1.1.0->tensorflow-model-analysis==0.32.0) (1.56.2)\n",
            "Requirement already satisfied: google-api-python-client<2,>=1.7.11 in /home/dk/miniconda3/envs/mlops/lib/python3.8/site-packages (from tfx-bsl<1.2.0,>=1.1.0->tensorflow-model-analysis==0.32.0) (1.12.11)\n",
            "Requirement already satisfied: tensorflow-serving-api!=2.0.*,!=2.1.*,!=2.2.*,!=2.3.*,!=2.4.*,<3,>=1.15 in /home/dk/miniconda3/envs/mlops/lib/python3.8/site-packages (from tfx-bsl<1.2.0,>=1.1.0->tensorflow-model-analysis==0.32.0) (2.5.4)\n",
            "Requirement already satisfied: uritemplate<4dev,>=3.0.0 in /home/dk/miniconda3/envs/mlops/lib/python3.8/site-packages (from google-api-python-client<2,>=1.7.11->tfx-bsl<1.2.0,>=1.1.0->tensorflow-model-analysis==0.32.0) (3.0.1)\n",
            "Requirement already satisfied: google-api-core<3dev,>=1.21.0 in /home/dk/miniconda3/envs/mlops/lib/python3.8/site-packages (from google-api-python-client<2,>=1.7.11->tfx-bsl<1.2.0,>=1.1.0->tensorflow-model-analysis==0.32.0) (1.31.6)\n",
            "Requirement already satisfied: oauth2client>=1.4.12 in /home/dk/miniconda3/envs/mlops/lib/python3.8/site-packages (from google-apitools<0.5.32,>=0.5.31->apache-beam[gcp]<3,>=2.29->tensorflow-model-analysis==0.32.0) (4.1.3)\n",
            "Requirement already satisfied: fasteners>=0.14 in /home/dk/miniconda3/envs/mlops/lib/python3.8/site-packages (from google-apitools<0.5.32,>=0.5.31->apache-beam[gcp]<3,>=2.29->tensorflow-model-analysis==0.32.0) (0.17.3)\n",
            "Requirement already satisfied: pyasn1-modules>=0.2.1 in /home/dk/miniconda3/envs/mlops/lib/python3.8/site-packages (from google-auth<3,>=1.18.0->apache-beam[gcp]<3,>=2.29->tensorflow-model-analysis==0.32.0) (0.2.8)\n",
            "Requirement already satisfied: rsa<5,>=3.1.4 in /home/dk/miniconda3/envs/mlops/lib/python3.8/site-packages (from google-auth<3,>=1.18.0->apache-beam[gcp]<3,>=2.29->tensorflow-model-analysis==0.32.0) (4.8)\n",
            "Requirement already satisfied: google-resumable-media<2.0dev,>=0.6.0 in /home/dk/miniconda3/envs/mlops/lib/python3.8/site-packages (from google-cloud-bigquery<3,>=1.6.0->apache-beam[gcp]<3,>=2.29->tensorflow-model-analysis==0.32.0) (1.3.3)\n",
            "Requirement already satisfied: packaging>=14.3 in /home/dk/miniconda3/envs/mlops/lib/python3.8/site-packages (from google-cloud-bigquery<3,>=1.6.0->apache-beam[gcp]<3,>=2.29->tensorflow-model-analysis==0.32.0) (21.3)\n",
            "Requirement already satisfied: grpc-google-iam-v1<0.13dev,>=0.12.3 in /home/dk/miniconda3/envs/mlops/lib/python3.8/site-packages (from google-cloud-bigtable<2,>=0.31.1->apache-beam[gcp]<3,>=2.29->tensorflow-model-analysis==0.32.0) (0.12.4)\n",
            "Requirement already satisfied: libcst>=0.3.10 in /home/dk/miniconda3/envs/mlops/lib/python3.8/site-packages (from google-cloud-pubsub<3,>=2.1.0->apache-beam[gcp]<3,>=2.29->tensorflow-model-analysis==0.32.0) (0.4.6)\n",
            "Requirement already satisfied: grpcio-status>=1.18.0 in /home/dk/miniconda3/envs/mlops/lib/python3.8/site-packages (from google-cloud-pubsublite<2,>=1.2.0->apache-beam[gcp]<3,>=2.29->tensorflow-model-analysis==0.32.0) (1.34.1)\n",
            "Requirement already satisfied: overrides<7.0.0,>=6.0.1 in /home/dk/miniconda3/envs/mlops/lib/python3.8/site-packages (from google-cloud-pubsublite<2,>=1.2.0->apache-beam[gcp]<3,>=2.29->tensorflow-model-analysis==0.32.0) (6.1.0)\n",
            "Requirement already satisfied: docopt in /home/dk/miniconda3/envs/mlops/lib/python3.8/site-packages (from hdfs<3.0.0,>=2.1.0->apache-beam[gcp]<3,>=2.29->tensorflow-model-analysis==0.32.0) (0.6.2)\n",
            "Requirement already satisfied: pyparsing<3,>=2.4.2 in /home/dk/miniconda3/envs/mlops/lib/python3.8/site-packages (from httplib2<0.20.0,>=0.8->apache-beam[gcp]<3,>=2.29->tensorflow-model-analysis==0.32.0) (2.4.7)\n",
            "Requirement already satisfied: psutil in /home/dk/miniconda3/envs/mlops/lib/python3.8/site-packages (from ipykernel>=4.5.1->ipywidgets<8,>=7->tensorflow-model-analysis==0.32.0) (5.9.1)\n",
            "Requirement already satisfied: debugpy>=1.0 in /home/dk/miniconda3/envs/mlops/lib/python3.8/site-packages (from ipykernel>=4.5.1->ipywidgets<8,>=7->tensorflow-model-analysis==0.32.0) (1.6.0)\n",
            "Requirement already satisfied: jupyter-client>=6.1.12 in /home/dk/miniconda3/envs/mlops/lib/python3.8/site-packages (from ipykernel>=4.5.1->ipywidgets<8,>=7->tensorflow-model-analysis==0.32.0) (7.3.1)\n",
            "Requirement already satisfied: tornado>=6.1 in /home/dk/miniconda3/envs/mlops/lib/python3.8/site-packages (from ipykernel>=4.5.1->ipywidgets<8,>=7->tensorflow-model-analysis==0.32.0) (6.1)\n",
            "Requirement already satisfied: nest-asyncio in /home/dk/miniconda3/envs/mlops/lib/python3.8/site-packages (from ipykernel>=4.5.1->ipywidgets<8,>=7->tensorflow-model-analysis==0.32.0) (1.5.4)\n",
            "Requirement already satisfied: parso<0.9.0,>=0.8.0 in /home/dk/miniconda3/envs/mlops/lib/python3.8/site-packages (from jedi>=0.16->ipython<8,>=7->tensorflow-model-analysis==0.32.0) (0.8.3)\n",
            "Requirement already satisfied: ptyprocess>=0.5 in /home/dk/miniconda3/envs/mlops/lib/python3.8/site-packages (from pexpect>4.3->ipython<8,>=7->tensorflow-model-analysis==0.32.0) (0.7.0)\n",
            "Requirement already satisfied: wcwidth in /home/dk/miniconda3/envs/mlops/lib/python3.8/site-packages (from prompt-toolkit!=3.0.0,!=3.0.1,<3.1.0,>=2.0.0->ipython<8,>=7->tensorflow-model-analysis==0.32.0) (0.2.5)\n",
            "Requirement already satisfied: urllib3<1.27,>=1.21.1 in /home/dk/miniconda3/envs/mlops/lib/python3.8/site-packages (from requests<3.0.0,>=2.24.0->apache-beam[gcp]<3,>=2.29->tensorflow-model-analysis==0.32.0) (1.26.9)\n",
            "Requirement already satisfied: idna<4,>=2.5 in /home/dk/miniconda3/envs/mlops/lib/python3.8/site-packages (from requests<3.0.0,>=2.24.0->apache-beam[gcp]<3,>=2.29->tensorflow-model-analysis==0.32.0) (3.3)\n",
            "Requirement already satisfied: charset-normalizer~=2.0.0 in /home/dk/miniconda3/envs/mlops/lib/python3.8/site-packages (from requests<3.0.0,>=2.24.0->apache-beam[gcp]<3,>=2.29->tensorflow-model-analysis==0.32.0) (2.0.12)\n",
            "Requirement already satisfied: certifi>=2017.4.17 in /home/dk/miniconda3/envs/mlops/lib/python3.8/site-packages (from requests<3.0.0,>=2.24.0->apache-beam[gcp]<3,>=2.29->tensorflow-model-analysis==0.32.0) (2022.5.18.1)\n",
            "Requirement already satisfied: tensorboard-plugin-wit>=1.6.0 in /home/dk/miniconda3/envs/mlops/lib/python3.8/site-packages (from tensorboard~=2.5->tensorflow!=2.0.*,!=2.1.*,!=2.2.*,!=2.3.*,!=2.4.*,<3,>=1.15.2->tensorflow-model-analysis==0.32.0) (1.8.1)\n",
            "Requirement already satisfied: markdown>=2.6.8 in /home/dk/miniconda3/envs/mlops/lib/python3.8/site-packages (from tensorboard~=2.5->tensorflow!=2.0.*,!=2.1.*,!=2.2.*,!=2.3.*,!=2.4.*,<3,>=1.15.2->tensorflow-model-analysis==0.32.0) (3.3.7)\n",
            "Requirement already satisfied: google-auth-oauthlib<0.5,>=0.4.1 in /home/dk/miniconda3/envs/mlops/lib/python3.8/site-packages (from tensorboard~=2.5->tensorflow!=2.0.*,!=2.1.*,!=2.2.*,!=2.3.*,!=2.4.*,<3,>=1.15.2->tensorflow-model-analysis==0.32.0) (0.4.6)\n",
            "Requirement already satisfied: werkzeug>=1.0.1 in /home/dk/miniconda3/envs/mlops/lib/python3.8/site-packages (from tensorboard~=2.5->tensorflow!=2.0.*,!=2.1.*,!=2.2.*,!=2.3.*,!=2.4.*,<3,>=1.15.2->tensorflow-model-analysis==0.32.0) (2.1.2)\n",
            "Requirement already satisfied: tensorboard-data-server<0.7.0,>=0.6.0 in /home/dk/miniconda3/envs/mlops/lib/python3.8/site-packages (from tensorboard~=2.5->tensorflow!=2.0.*,!=2.1.*,!=2.2.*,!=2.3.*,!=2.4.*,<3,>=1.15.2->tensorflow-model-analysis==0.32.0) (0.6.1)\n",
            "Requirement already satisfied: notebook>=4.4.1 in /home/dk/miniconda3/envs/mlops/lib/python3.8/site-packages (from widgetsnbextension~=3.6.0->ipywidgets<8,>=7->tensorflow-model-analysis==0.32.0) (6.4.11)\n",
            "Requirement already satisfied: requests-oauthlib>=0.7.0 in /home/dk/miniconda3/envs/mlops/lib/python3.8/site-packages (from google-auth-oauthlib<0.5,>=0.4.1->tensorboard~=2.5->tensorflow!=2.0.*,!=2.1.*,!=2.2.*,!=2.3.*,!=2.4.*,<3,>=1.15.2->tensorflow-model-analysis==0.32.0) (1.3.1)\n",
            "Requirement already satisfied: google-crc32c<2.0dev,>=1.0 in /home/dk/miniconda3/envs/mlops/lib/python3.8/site-packages (from google-resumable-media<2.0dev,>=0.6.0->google-cloud-bigquery<3,>=1.6.0->apache-beam[gcp]<3,>=2.29->tensorflow-model-analysis==0.32.0) (1.3.0)\n",
            "Requirement already satisfied: pyzmq>=22.3 in /home/dk/miniconda3/envs/mlops/lib/python3.8/site-packages (from jupyter-client>=6.1.12->ipykernel>=4.5.1->ipywidgets<8,>=7->tensorflow-model-analysis==0.32.0) (23.1.0)\n",
            "Requirement already satisfied: jupyter-core>=4.9.2 in /home/dk/miniconda3/envs/mlops/lib/python3.8/site-packages (from jupyter-client>=6.1.12->ipykernel>=4.5.1->ipywidgets<8,>=7->tensorflow-model-analysis==0.32.0) (4.10.0)\n",
            "Requirement already satisfied: entrypoints in /home/dk/miniconda3/envs/mlops/lib/python3.8/site-packages (from jupyter-client>=6.1.12->ipykernel>=4.5.1->ipywidgets<8,>=7->tensorflow-model-analysis==0.32.0) (0.4)\n",
            "Requirement already satisfied: pyyaml>=5.2 in /home/dk/miniconda3/envs/mlops/lib/python3.8/site-packages (from libcst>=0.3.10->google-cloud-pubsub<3,>=2.1.0->apache-beam[gcp]<3,>=2.29->tensorflow-model-analysis==0.32.0) (6.0)\n",
            "Requirement already satisfied: typing-inspect>=0.4.0 in /home/dk/miniconda3/envs/mlops/lib/python3.8/site-packages (from libcst>=0.3.10->google-cloud-pubsub<3,>=2.1.0->apache-beam[gcp]<3,>=2.29->tensorflow-model-analysis==0.32.0) (0.7.1)\n",
            "Requirement already satisfied: importlib-metadata>=4.4 in /home/dk/miniconda3/envs/mlops/lib/python3.8/site-packages (from markdown>=2.6.8->tensorboard~=2.5->tensorflow!=2.0.*,!=2.1.*,!=2.2.*,!=2.3.*,!=2.4.*,<3,>=1.15.2->tensorflow-model-analysis==0.32.0) (4.11.4)\n",
            "Requirement already satisfied: argon2-cffi in /home/dk/miniconda3/envs/mlops/lib/python3.8/site-packages (from notebook>=4.4.1->widgetsnbextension~=3.6.0->ipywidgets<8,>=7->tensorflow-model-analysis==0.32.0) (21.3.0)\n",
            "Requirement already satisfied: Send2Trash>=1.8.0 in /home/dk/miniconda3/envs/mlops/lib/python3.8/site-packages (from notebook>=4.4.1->widgetsnbextension~=3.6.0->ipywidgets<8,>=7->tensorflow-model-analysis==0.32.0) (1.8.0)\n",
            "Requirement already satisfied: prometheus-client in /home/dk/miniconda3/envs/mlops/lib/python3.8/site-packages (from notebook>=4.4.1->widgetsnbextension~=3.6.0->ipywidgets<8,>=7->tensorflow-model-analysis==0.32.0) (0.14.1)\n",
            "Requirement already satisfied: nbconvert>=5 in /home/dk/miniconda3/envs/mlops/lib/python3.8/site-packages (from notebook>=4.4.1->widgetsnbextension~=3.6.0->ipywidgets<8,>=7->tensorflow-model-analysis==0.32.0) (6.5.0)\n",
            "Requirement already satisfied: nbformat in /home/dk/miniconda3/envs/mlops/lib/python3.8/site-packages (from notebook>=4.4.1->widgetsnbextension~=3.6.0->ipywidgets<8,>=7->tensorflow-model-analysis==0.32.0) (5.4.0)\n",
            "Requirement already satisfied: terminado>=0.8.3 in /home/dk/miniconda3/envs/mlops/lib/python3.8/site-packages (from notebook>=4.4.1->widgetsnbextension~=3.6.0->ipywidgets<8,>=7->tensorflow-model-analysis==0.32.0) (0.15.0)\n",
            "Requirement already satisfied: jinja2 in /home/dk/miniconda3/envs/mlops/lib/python3.8/site-packages (from notebook>=4.4.1->widgetsnbextension~=3.6.0->ipywidgets<8,>=7->tensorflow-model-analysis==0.32.0) (3.1.2)\n",
            "Requirement already satisfied: pyasn1>=0.1.7 in /home/dk/miniconda3/envs/mlops/lib/python3.8/site-packages (from oauth2client>=1.4.12->google-apitools<0.5.32,>=0.5.31->apache-beam[gcp]<3,>=2.29->tensorflow-model-analysis==0.32.0) (0.4.8)\n",
            "Requirement already satisfied: typing-utils>=0.0.3 in /home/dk/miniconda3/envs/mlops/lib/python3.8/site-packages (from overrides<7.0.0,>=6.0.1->google-cloud-pubsublite<2,>=1.2.0->apache-beam[gcp]<3,>=2.29->tensorflow-model-analysis==0.32.0) (0.1.0)\n",
            "Requirement already satisfied: zipp>=0.5 in /home/dk/miniconda3/envs/mlops/lib/python3.8/site-packages (from importlib-metadata>=4.4->markdown>=2.6.8->tensorboard~=2.5->tensorflow!=2.0.*,!=2.1.*,!=2.2.*,!=2.3.*,!=2.4.*,<3,>=1.15.2->tensorflow-model-analysis==0.32.0) (3.8.0)\n",
            "Requirement already satisfied: mistune<2,>=0.8.1 in /home/dk/miniconda3/envs/mlops/lib/python3.8/site-packages (from nbconvert>=5->notebook>=4.4.1->widgetsnbextension~=3.6.0->ipywidgets<8,>=7->tensorflow-model-analysis==0.32.0) (0.8.4)\n",
            "Requirement already satisfied: defusedxml in /home/dk/miniconda3/envs/mlops/lib/python3.8/site-packages (from nbconvert>=5->notebook>=4.4.1->widgetsnbextension~=3.6.0->ipywidgets<8,>=7->tensorflow-model-analysis==0.32.0) (0.7.1)\n",
            "Requirement already satisfied: bleach in /home/dk/miniconda3/envs/mlops/lib/python3.8/site-packages (from nbconvert>=5->notebook>=4.4.1->widgetsnbextension~=3.6.0->ipywidgets<8,>=7->tensorflow-model-analysis==0.32.0) (5.0.0)\n",
            "Requirement already satisfied: jupyterlab-pygments in /home/dk/miniconda3/envs/mlops/lib/python3.8/site-packages (from nbconvert>=5->notebook>=4.4.1->widgetsnbextension~=3.6.0->ipywidgets<8,>=7->tensorflow-model-analysis==0.32.0) (0.2.2)\n",
            "Requirement already satisfied: MarkupSafe>=2.0 in /home/dk/miniconda3/envs/mlops/lib/python3.8/site-packages (from nbconvert>=5->notebook>=4.4.1->widgetsnbextension~=3.6.0->ipywidgets<8,>=7->tensorflow-model-analysis==0.32.0) (2.1.1)\n",
            "Requirement already satisfied: tinycss2 in /home/dk/miniconda3/envs/mlops/lib/python3.8/site-packages (from nbconvert>=5->notebook>=4.4.1->widgetsnbextension~=3.6.0->ipywidgets<8,>=7->tensorflow-model-analysis==0.32.0) (1.1.1)\n",
            "Requirement already satisfied: beautifulsoup4 in /home/dk/miniconda3/envs/mlops/lib/python3.8/site-packages (from nbconvert>=5->notebook>=4.4.1->widgetsnbextension~=3.6.0->ipywidgets<8,>=7->tensorflow-model-analysis==0.32.0) (4.11.1)\n",
            "Requirement already satisfied: pandocfilters>=1.4.1 in /home/dk/miniconda3/envs/mlops/lib/python3.8/site-packages (from nbconvert>=5->notebook>=4.4.1->widgetsnbextension~=3.6.0->ipywidgets<8,>=7->tensorflow-model-analysis==0.32.0) (1.5.0)\n",
            "Requirement already satisfied: nbclient>=0.5.0 in /home/dk/miniconda3/envs/mlops/lib/python3.8/site-packages (from nbconvert>=5->notebook>=4.4.1->widgetsnbextension~=3.6.0->ipywidgets<8,>=7->tensorflow-model-analysis==0.32.0) (0.6.4)\n",
            "Requirement already satisfied: fastjsonschema in /home/dk/miniconda3/envs/mlops/lib/python3.8/site-packages (from nbformat->notebook>=4.4.1->widgetsnbextension~=3.6.0->ipywidgets<8,>=7->tensorflow-model-analysis==0.32.0) (2.15.3)\n",
            "Requirement already satisfied: jsonschema>=2.6 in /home/dk/miniconda3/envs/mlops/lib/python3.8/site-packages (from nbformat->notebook>=4.4.1->widgetsnbextension~=3.6.0->ipywidgets<8,>=7->tensorflow-model-analysis==0.32.0) (4.6.0)\n",
            "Requirement already satisfied: oauthlib>=3.0.0 in /home/dk/miniconda3/envs/mlops/lib/python3.8/site-packages (from requests-oauthlib>=0.7.0->google-auth-oauthlib<0.5,>=0.4.1->tensorboard~=2.5->tensorflow!=2.0.*,!=2.1.*,!=2.2.*,!=2.3.*,!=2.4.*,<3,>=1.15.2->tensorflow-model-analysis==0.32.0) (3.2.0)\n",
            "Requirement already satisfied: mypy-extensions>=0.3.0 in /home/dk/miniconda3/envs/mlops/lib/python3.8/site-packages (from typing-inspect>=0.4.0->libcst>=0.3.10->google-cloud-pubsub<3,>=2.1.0->apache-beam[gcp]<3,>=2.29->tensorflow-model-analysis==0.32.0) (0.4.3)\n",
            "Requirement already satisfied: argon2-cffi-bindings in /home/dk/miniconda3/envs/mlops/lib/python3.8/site-packages (from argon2-cffi->notebook>=4.4.1->widgetsnbextension~=3.6.0->ipywidgets<8,>=7->tensorflow-model-analysis==0.32.0) (21.2.0)\n",
            "Requirement already satisfied: importlib-resources>=1.4.0 in /home/dk/miniconda3/envs/mlops/lib/python3.8/site-packages (from jsonschema>=2.6->nbformat->notebook>=4.4.1->widgetsnbextension~=3.6.0->ipywidgets<8,>=7->tensorflow-model-analysis==0.32.0) (5.7.1)\n",
            "Requirement already satisfied: pyrsistent!=0.17.0,!=0.17.1,!=0.17.2,>=0.14.0 in /home/dk/miniconda3/envs/mlops/lib/python3.8/site-packages (from jsonschema>=2.6->nbformat->notebook>=4.4.1->widgetsnbextension~=3.6.0->ipywidgets<8,>=7->tensorflow-model-analysis==0.32.0) (0.18.1)\n",
            "Requirement already satisfied: attrs>=17.4.0 in /home/dk/miniconda3/envs/mlops/lib/python3.8/site-packages (from jsonschema>=2.6->nbformat->notebook>=4.4.1->widgetsnbextension~=3.6.0->ipywidgets<8,>=7->tensorflow-model-analysis==0.32.0) (21.4.0)\n",
            "Requirement already satisfied: cffi>=1.0.1 in /home/dk/miniconda3/envs/mlops/lib/python3.8/site-packages (from argon2-cffi-bindings->argon2-cffi->notebook>=4.4.1->widgetsnbextension~=3.6.0->ipywidgets<8,>=7->tensorflow-model-analysis==0.32.0) (1.15.0)\n",
            "Requirement already satisfied: soupsieve>1.2 in /home/dk/miniconda3/envs/mlops/lib/python3.8/site-packages (from beautifulsoup4->nbconvert>=5->notebook>=4.4.1->widgetsnbextension~=3.6.0->ipywidgets<8,>=7->tensorflow-model-analysis==0.32.0) (2.3.2.post1)\n",
            "Requirement already satisfied: webencodings in /home/dk/miniconda3/envs/mlops/lib/python3.8/site-packages (from bleach->nbconvert>=5->notebook>=4.4.1->widgetsnbextension~=3.6.0->ipywidgets<8,>=7->tensorflow-model-analysis==0.32.0) (0.5.1)\n",
            "Requirement already satisfied: pycparser in /home/dk/miniconda3/envs/mlops/lib/python3.8/site-packages (from cffi>=1.0.1->argon2-cffi-bindings->argon2-cffi->notebook>=4.4.1->widgetsnbextension~=3.6.0->ipywidgets<8,>=7->tensorflow-model-analysis==0.32.0) (2.21)\n",
            "Installing collected packages: jupyterlab-widgets, tensorflow-metadata, ipython, widgetsnbextension, tfx-bsl, ipywidgets, tensorflow-model-analysis\n",
            "  Attempting uninstall: tensorflow-metadata\n",
            "    Found existing installation: tensorflow-metadata 1.0.0\n",
            "    Uninstalling tensorflow-metadata-1.0.0:\n",
            "      Successfully uninstalled tensorflow-metadata-1.0.0\n",
            "  Attempting uninstall: ipython\n",
            "    Found existing installation: ipython 8.4.0\n",
            "    Uninstalling ipython-8.4.0:\n",
            "      Successfully uninstalled ipython-8.4.0\n",
            "  Attempting uninstall: tfx-bsl\n",
            "    Found existing installation: tfx-bsl 1.0.0\n",
            "    Uninstalling tfx-bsl-1.0.0:\n",
            "      Successfully uninstalled tfx-bsl-1.0.0\n",
            "\u001b[31mERROR: pip's dependency resolver does not currently take into account all the packages that are installed. This behaviour is the source of the following dependency conflicts.\n",
            "tensorflow-transform 1.0.0 requires tensorflow-metadata<1.1.0,>=1.0.0, but you have tensorflow-metadata 1.1.0 which is incompatible.\n",
            "tensorflow-transform 1.0.0 requires tfx-bsl<1.1.0,>=1.0.0, but you have tfx-bsl 1.1.1 which is incompatible.\u001b[0m\u001b[31m\n",
            "\u001b[0mSuccessfully installed ipython-7.34.0 ipywidgets-7.7.1 jupyterlab-widgets-1.1.1 tensorflow-metadata-1.1.0 tensorflow-model-analysis-0.32.0 tfx-bsl-1.1.1 widgetsnbextension-3.6.1\n",
            "Collecting apache-beam==2.32.0\n",
            "  Downloading apache_beam-2.32.0-cp38-cp38-manylinux2010_x86_64.whl (11.6 MB)\n",
            "\u001b[2K     \u001b[90m━━━━━━━━━━━━━━━━━━━━━━━━━━━━━━━━━━━━━━━━\u001b[0m \u001b[32m11.6/11.6 MB\u001b[0m \u001b[31m2.4 MB/s\u001b[0m eta \u001b[36m0:00:00\u001b[0m00:01\u001b[0m00:01\u001b[0mm\n",
            "\u001b[?25hRequirement already satisfied: oauth2client<5,>=2.0.1 in /home/dk/miniconda3/envs/mlops/lib/python3.8/site-packages (from apache-beam==2.32.0) (4.1.3)\n",
            "Requirement already satisfied: python-dateutil<3,>=2.8.0 in /home/dk/miniconda3/envs/mlops/lib/python3.8/site-packages (from apache-beam==2.32.0) (2.8.2)\n",
            "Requirement already satisfied: requests<3.0.0,>=2.24.0 in /home/dk/miniconda3/envs/mlops/lib/python3.8/site-packages (from apache-beam==2.32.0) (2.27.1)\n",
            "Requirement already satisfied: pymongo<4.0.0,>=3.8.0 in /home/dk/miniconda3/envs/mlops/lib/python3.8/site-packages (from apache-beam==2.32.0) (3.12.3)\n",
            "Requirement already satisfied: hdfs<3.0.0,>=2.1.0 in /home/dk/miniconda3/envs/mlops/lib/python3.8/site-packages (from apache-beam==2.32.0) (2.7.0)\n",
            "Requirement already satisfied: orjson<4.0 in /home/dk/miniconda3/envs/mlops/lib/python3.8/site-packages (from apache-beam==2.32.0) (3.7.2)\n",
            "Requirement already satisfied: protobuf<4,>=3.12.2 in /home/dk/miniconda3/envs/mlops/lib/python3.8/site-packages (from apache-beam==2.32.0) (3.19.4)\n",
            "Requirement already satisfied: dill<0.3.2,>=0.3.1.1 in /home/dk/miniconda3/envs/mlops/lib/python3.8/site-packages (from apache-beam==2.32.0) (0.3.1.1)\n",
            "Requirement already satisfied: crcmod<2.0,>=1.7 in /home/dk/miniconda3/envs/mlops/lib/python3.8/site-packages (from apache-beam==2.32.0) (1.7)\n",
            "Requirement already satisfied: fastavro<2,>=0.21.4 in /home/dk/miniconda3/envs/mlops/lib/python3.8/site-packages (from apache-beam==2.32.0) (1.5.1)\n",
            "Requirement already satisfied: pyarrow<5.0.0,>=0.15.1 in /home/dk/miniconda3/envs/mlops/lib/python3.8/site-packages (from apache-beam==2.32.0) (2.0.0)\n",
            "Requirement already satisfied: grpcio<2,>=1.29.0 in /home/dk/miniconda3/envs/mlops/lib/python3.8/site-packages (from apache-beam==2.32.0) (1.34.1)\n",
            "Collecting avro-python3!=1.9.2,<1.10.0,>=1.8.1\n",
            "  Downloading avro-python3-1.9.2.1.tar.gz (37 kB)\n",
            "  Preparing metadata (setup.py) ... \u001b[?25ldone\n",
            "\u001b[?25hRequirement already satisfied: httplib2<0.20.0,>=0.8 in /home/dk/miniconda3/envs/mlops/lib/python3.8/site-packages (from apache-beam==2.32.0) (0.19.1)\n",
            "Requirement already satisfied: numpy<1.21.0,>=1.14.3 in /home/dk/miniconda3/envs/mlops/lib/python3.8/site-packages (from apache-beam==2.32.0) (1.19.5)\n",
            "Requirement already satisfied: typing-extensions<3.8.0,>=3.7.0 in /home/dk/miniconda3/envs/mlops/lib/python3.8/site-packages (from apache-beam==2.32.0) (3.7.4.3)\n",
            "Collecting future<1.0.0,>=0.18.2\n",
            "  Using cached future-0.18.2-py3-none-any.whl\n",
            "Requirement already satisfied: pytz>=2018.3 in /home/dk/miniconda3/envs/mlops/lib/python3.8/site-packages (from apache-beam==2.32.0) (2022.1)\n",
            "Requirement already satisfied: pydot<2,>=1.2.0 in /home/dk/miniconda3/envs/mlops/lib/python3.8/site-packages (from apache-beam==2.32.0) (1.4.2)\n",
            "Requirement already satisfied: six>=1.5.2 in /home/dk/miniconda3/envs/mlops/lib/python3.8/site-packages (from grpcio<2,>=1.29.0->apache-beam==2.32.0) (1.15.0)\n",
            "Requirement already satisfied: docopt in /home/dk/miniconda3/envs/mlops/lib/python3.8/site-packages (from hdfs<3.0.0,>=2.1.0->apache-beam==2.32.0) (0.6.2)\n",
            "Requirement already satisfied: pyparsing<3,>=2.4.2 in /home/dk/miniconda3/envs/mlops/lib/python3.8/site-packages (from httplib2<0.20.0,>=0.8->apache-beam==2.32.0) (2.4.7)\n",
            "Requirement already satisfied: pyasn1>=0.1.7 in /home/dk/miniconda3/envs/mlops/lib/python3.8/site-packages (from oauth2client<5,>=2.0.1->apache-beam==2.32.0) (0.4.8)\n",
            "Requirement already satisfied: rsa>=3.1.4 in /home/dk/miniconda3/envs/mlops/lib/python3.8/site-packages (from oauth2client<5,>=2.0.1->apache-beam==2.32.0) (4.8)\n",
            "Requirement already satisfied: pyasn1-modules>=0.0.5 in /home/dk/miniconda3/envs/mlops/lib/python3.8/site-packages (from oauth2client<5,>=2.0.1->apache-beam==2.32.0) (0.2.8)\n",
            "Requirement already satisfied: certifi>=2017.4.17 in /home/dk/miniconda3/envs/mlops/lib/python3.8/site-packages (from requests<3.0.0,>=2.24.0->apache-beam==2.32.0) (2022.5.18.1)\n",
            "Requirement already satisfied: idna<4,>=2.5 in /home/dk/miniconda3/envs/mlops/lib/python3.8/site-packages (from requests<3.0.0,>=2.24.0->apache-beam==2.32.0) (3.3)\n",
            "Requirement already satisfied: charset-normalizer~=2.0.0 in /home/dk/miniconda3/envs/mlops/lib/python3.8/site-packages (from requests<3.0.0,>=2.24.0->apache-beam==2.32.0) (2.0.12)\n",
            "Requirement already satisfied: urllib3<1.27,>=1.21.1 in /home/dk/miniconda3/envs/mlops/lib/python3.8/site-packages (from requests<3.0.0,>=2.24.0->apache-beam==2.32.0) (1.26.9)\n",
            "Building wheels for collected packages: avro-python3\n",
            "  Building wheel for avro-python3 (setup.py) ... \u001b[?25ldone\n",
            "\u001b[?25h  Created wheel for avro-python3: filename=avro_python3-1.9.2.1-py3-none-any.whl size=43513 sha256=8b5974f388517267252ff119581ff42adccda9ef523851b79f07772f5ab9f470\n",
            "  Stored in directory: /home/dk/.cache/pip/wheels/a5/f2/87/b7c4b9d5915716d94e8bf2e2f3bfbbd73bb5fe2a98677a59cb\n",
            "Successfully built avro-python3\n",
            "Installing collected packages: future, avro-python3, apache-beam\n",
            "  Attempting uninstall: apache-beam\n",
            "    Found existing installation: apache-beam 2.39.0\n",
            "    Uninstalling apache-beam-2.39.0:\n",
            "      Successfully uninstalled apache-beam-2.39.0\n",
            "\u001b[31mERROR: pip's dependency resolver does not currently take into account all the packages that are installed. This behaviour is the source of the following dependency conflicts.\n",
            "tensorflow-transform 1.0.0 requires tensorflow-metadata<1.1.0,>=1.0.0, but you have tensorflow-metadata 1.1.0 which is incompatible.\n",
            "tensorflow-transform 1.0.0 requires tfx-bsl<1.1.0,>=1.0.0, but you have tfx-bsl 1.1.1 which is incompatible.\u001b[0m\u001b[31m\n",
            "\u001b[0mSuccessfully installed apache-beam-2.32.0 avro-python3-1.9.2.1 future-0.18.2\n"
          ]
        }
      ],
      "source": [
        "# Upgrade pip to the latest version and install required packages\n",
        "!pip install -U pip\n",
        "!pip install tensorflow==2.6.0\n",
        "!pip install tensorflow_data_validation==1.1.0\n",
        "!pip install tensorflow-transform==1.0.0\n",
        "!pip install tensorflow-model-analysis==0.32.0\n",
        "!pip install apache-beam==2.32.0"
      ]
    },
    {
      "cell_type": "markdown",
      "metadata": {
        "id": "k7121_u1LO5W"
      },
      "source": [
        "*Note: In Google Colab, you need to restart the runtime at this point to finalize updating the packages you just installed. **Please do not proceed to the next section without restarting.** You can also ignore the errors about version incompatibility of some of the bundled packages because we won't be using those in this notebook.*"
      ]
    },
    {
      "cell_type": "markdown",
      "metadata": {
        "id": "saT03A81Z4Nr"
      },
      "source": [
        "### Check the installation\n",
        "\n",
        "Running the code below should show the versions of the packages. Please re-run the install if you are seeing errors and don't forget to restart the runtime after re-installation."
      ]
    },
    {
      "cell_type": "code",
      "execution_count": 1,
      "metadata": {
        "id": "SA2E343NAMRF"
      },
      "outputs": [
        {
          "name": "stderr",
          "output_type": "stream",
          "text": [
            "2022-07-09 17:08:04.118095: I tensorflow/stream_executor/platform/default/dso_loader.cc:53] Successfully opened dynamic library libcudart.so.11.0\n"
          ]
        },
        {
          "name": "stdout",
          "output_type": "stream",
          "text": [
            "TF version: 2.5.3\n",
            "TFMA version: 0.32.0\n",
            "TFDV version: 1.1.0\n"
          ]
        }
      ],
      "source": [
        "# Import packages and print versions\n",
        "import tensorflow as tf\n",
        "import tensorflow_model_analysis as tfma\n",
        "import tensorflow_data_validation as tfdv\n",
        "\n",
        "print('TF version: {}'.format(tf.__version__))\n",
        "print('TFMA version: {}'.format(tfma.__version__))\n",
        "print('TFDV version: {}'.format(tfdv.__version__))"
      ]
    },
    {
      "cell_type": "markdown",
      "metadata": {
        "id": "RptgLn2RYuK3"
      },
      "source": [
        "### Load the files\n",
        "\n",
        "Next, you will download the files you will need for this exercise:\n",
        "\n",
        "* Test datasets\n",
        "* Data schema\n",
        "* Pretrained models\n",
        "\n",
        "We've also defined some global variables below so you can access these files throughout the notebook more easily."
      ]
    },
    {
      "cell_type": "code",
      "execution_count": 2,
      "metadata": {
        "id": "K4QXVIM7iglN"
      },
      "outputs": [],
      "source": [
        "import os\n",
        "\n",
        "# String variables for file and directory names\n",
        "URL = 'https://storage.googleapis.com/mlep-public/course_3/week4/C3_W4_Lab_1_starter_files.tar.gz'\n",
        "TAR_NAME = 'C3_W4_Lab_1_starter_files.tar.gz'\n",
        "BASE_DIR = 'starter_files'\n",
        "DATA_DIR = os.path.join(BASE_DIR, 'data')\n",
        "CSV_DIR = os.path.join(DATA_DIR, 'csv')\n",
        "TFRECORD_DIR = os.path.join(DATA_DIR, 'tfrecord')\n",
        "MODELS_DIR = os.path.join(BASE_DIR, 'models')\n",
        "SCHEMA_FILE = os.path.join(BASE_DIR, 'schema.pbtxt')"
      ]
    },
    {
      "cell_type": "code",
      "execution_count": 3,
      "metadata": {
        "id": "Mw6d-3aNw-fm"
      },
      "outputs": [
        {
          "name": "stdout",
          "output_type": "stream",
          "text": [
            "--2022-07-09 17:08:16--  https://storage.googleapis.com/mlep-public/course_3/week4/C3_W4_Lab_1_starter_files.tar.gz\n",
            "Resolving storage.googleapis.com (storage.googleapis.com)... 142.250.80.80, 142.250.80.112, 142.250.81.240, ...\n",
            "Connecting to storage.googleapis.com (storage.googleapis.com)|142.250.80.80|:443... connected.\n",
            "HTTP request sent, awaiting response... 200 OK\n",
            "Length: 1449046 (1.4M) [application/x-gzip]\n",
            "Saving to: ‘C3_W4_Lab_1_starter_files.tar.gz’\n",
            "\n",
            "C3_W4_Lab_1_starter 100%[===================>]   1.38M   696KB/s    in 2.0s    \n",
            "\n",
            "2022-07-09 17:08:20 (696 KB/s) - ‘C3_W4_Lab_1_starter_files.tar.gz’ saved [1449046/1449046]\n",
            "\n"
          ]
        }
      ],
      "source": [
        "# uncomment this line if you've downloaded the files before and want to reset\n",
        "# !rm -rf {BASE_DIR}\n",
        "\n",
        "# Download the tar file from GCP\n",
        "!wget {URL}\n",
        "\n",
        "# Extract the tar file to the base directory\n",
        "!tar xzf {TAR_NAME}\n",
        "\n",
        "# Delete tar file\n",
        "!rm {TAR_NAME}"
      ]
    },
    {
      "cell_type": "markdown",
      "metadata": {
        "id": "wrO1e6QnVf9I"
      },
      "source": [
        "You can see the top level file and directories by running the cell below (or just using the file explorer on the left side of this Colab). We'll discuss what each contain in the next sections."
      ]
    },
    {
      "cell_type": "code",
      "execution_count": 4,
      "metadata": {
        "id": "NpNZrJl-YJq9"
      },
      "outputs": [
        {
          "name": "stdout",
          "output_type": "stream",
          "text": [
            "Here's what we downloaded:\n",
            "data  models  schema.pbtxt\n"
          ]
        }
      ],
      "source": [
        "print(\"Here's what we downloaded:\")\n",
        "!ls {BASE_DIR}"
      ]
    },
    {
      "cell_type": "markdown",
      "metadata": {
        "id": "UBhvex2jSBa_"
      },
      "source": [
        "### Preview the dataset"
      ]
    },
    {
      "cell_type": "markdown",
      "metadata": {
        "id": "iIxhCtvaV0cC"
      },
      "source": [
        "The `data/csv` directory contains the test split of the Census Income dataset. We've divided it into several files for this demo notebook:\n",
        "\n",
        "* `data_test.csv` - 15000 rows of test data\n",
        "* `data_test_1.csv` - first 5000 rows of `data_test.csv`\n",
        "* `data_test_2.csv` - next 5000 rows of `data_test.csv`\n",
        "* `data_test_3.csv` - last 5000 rows of `data_test.csv`\n",
        "\n",
        "You can see the description of each column [here](http://archive.ics.uci.edu/ml/machine-learning-databases/adult/adult.names) (please open link in a new window if Colab prevents the download). Also for simplicity, we've already preprocessed the `label` column as binary (i.e. `0` or `1`) to match the model's output. In your own projects, your labels might be in a different data type (e.g. string) and you want to transform that first so you can evaluate your model properly. You can preview the first few rows below:"
      ]
    },
    {
      "cell_type": "code",
      "execution_count": 5,
      "metadata": {
        "id": "C4LCdt9zQ1oL"
      },
      "outputs": [
        {
          "name": "stdout",
          "output_type": "stream",
          "text": [
            "age,workclass,fnlwgt,education,education-num,marital-status,occupation,relationship,race,sex,capital-gain,capital-loss,hours-per-week,native-country,label\n",
            "25,Private,226802,11th,7,Never-married,Machine-op-inspct,Own-child,Black,Male,0,0,40,United-States,0\n",
            "38,Private,89814,HS-grad,9,Married-civ-spouse,Farming-fishing,Husband,White,Male,0,0,50,United-States,0\n",
            "28,Local-gov,336951,Assoc-acdm,12,Married-civ-spouse,Protective-serv,Husband,White,Male,0,0,40,United-States,1\n",
            "44,Private,160323,Some-college,10,Married-civ-spouse,Machine-op-inspct,Husband,Black,Male,7688,0,40,United-States,1\n",
            "18,?,103497,Some-college,10,Never-married,?,Own-child,White,Female,0,0,30,United-States,0\n",
            "34,Private,198693,10th,6,Never-married,Other-service,Not-in-family,White,Male,0,0,30,United-States,0\n",
            "29,?,227026,HS-grad,9,Never-married,?,Unmarried,Black,Male,0,0,40,United-States,0\n",
            "63,Self-emp-not-inc,104626,Prof-school,15,Married-civ-spouse,Prof-specialty,Husband,White,Male,3103,0,32,United-States,1\n",
            "24,Private,369667,Some-college,10,Never-married,Other-service,Unmarried,White,Female,0,0,40,United-States,0\n"
          ]
        }
      ],
      "source": [
        "# Path to the full test set\n",
        "TEST_DATA_PATH = os.path.join(CSV_DIR, 'data_test.csv')\n",
        "\n",
        "# Preview the first few rows\n",
        "!head {TEST_DATA_PATH}"
      ]
    },
    {
      "cell_type": "markdown",
      "metadata": {
        "id": "_xa7ZDV1MycO"
      },
      "source": [
        "### Parse the Schema\n",
        "\n",
        "You also downloaded a schema generated by [TensorFlow Data Validation](https://www.tensorflow.org/tfx/data_validation/). You should be familiar with this file type already from previous courses. You will load it now so you can use it in the later parts of the notebook."
      ]
    },
    {
      "cell_type": "code",
      "execution_count": 6,
      "metadata": {
        "id": "XYo2SHFzf6_t"
      },
      "outputs": [
        {
          "data": {
            "text/html": [
              "<div>\n",
              "<style scoped>\n",
              "    .dataframe tbody tr th:only-of-type {\n",
              "        vertical-align: middle;\n",
              "    }\n",
              "\n",
              "    .dataframe tbody tr th {\n",
              "        vertical-align: top;\n",
              "    }\n",
              "\n",
              "    .dataframe thead th {\n",
              "        text-align: right;\n",
              "    }\n",
              "</style>\n",
              "<table border=\"1\" class=\"dataframe\">\n",
              "  <thead>\n",
              "    <tr style=\"text-align: right;\">\n",
              "      <th></th>\n",
              "      <th>Type</th>\n",
              "      <th>Presence</th>\n",
              "      <th>Valency</th>\n",
              "      <th>Domain</th>\n",
              "    </tr>\n",
              "    <tr>\n",
              "      <th>Feature name</th>\n",
              "      <th></th>\n",
              "      <th></th>\n",
              "      <th></th>\n",
              "      <th></th>\n",
              "    </tr>\n",
              "  </thead>\n",
              "  <tbody>\n",
              "    <tr>\n",
              "      <th>'age'</th>\n",
              "      <td>INT</td>\n",
              "      <td>required</td>\n",
              "      <td></td>\n",
              "      <td>-</td>\n",
              "    </tr>\n",
              "    <tr>\n",
              "      <th>'capital-gain'</th>\n",
              "      <td>INT</td>\n",
              "      <td>required</td>\n",
              "      <td></td>\n",
              "      <td>-</td>\n",
              "    </tr>\n",
              "    <tr>\n",
              "      <th>'capital-loss'</th>\n",
              "      <td>INT</td>\n",
              "      <td>required</td>\n",
              "      <td></td>\n",
              "      <td>-</td>\n",
              "    </tr>\n",
              "    <tr>\n",
              "      <th>'education'</th>\n",
              "      <td>STRING</td>\n",
              "      <td>required</td>\n",
              "      <td></td>\n",
              "      <td>'education'</td>\n",
              "    </tr>\n",
              "    <tr>\n",
              "      <th>'education-num'</th>\n",
              "      <td>INT</td>\n",
              "      <td>required</td>\n",
              "      <td></td>\n",
              "      <td>-</td>\n",
              "    </tr>\n",
              "    <tr>\n",
              "      <th>'fnlwgt'</th>\n",
              "      <td>INT</td>\n",
              "      <td>required</td>\n",
              "      <td></td>\n",
              "      <td>-</td>\n",
              "    </tr>\n",
              "    <tr>\n",
              "      <th>'hours-per-week'</th>\n",
              "      <td>INT</td>\n",
              "      <td>required</td>\n",
              "      <td></td>\n",
              "      <td>-</td>\n",
              "    </tr>\n",
              "    <tr>\n",
              "      <th>'label'</th>\n",
              "      <td>INT</td>\n",
              "      <td>required</td>\n",
              "      <td></td>\n",
              "      <td>-</td>\n",
              "    </tr>\n",
              "    <tr>\n",
              "      <th>'marital-status'</th>\n",
              "      <td>STRING</td>\n",
              "      <td>required</td>\n",
              "      <td></td>\n",
              "      <td>'marital-status'</td>\n",
              "    </tr>\n",
              "    <tr>\n",
              "      <th>'native-country'</th>\n",
              "      <td>STRING</td>\n",
              "      <td>required</td>\n",
              "      <td></td>\n",
              "      <td>'native-country'</td>\n",
              "    </tr>\n",
              "    <tr>\n",
              "      <th>'occupation'</th>\n",
              "      <td>STRING</td>\n",
              "      <td>required</td>\n",
              "      <td></td>\n",
              "      <td>'occupation'</td>\n",
              "    </tr>\n",
              "    <tr>\n",
              "      <th>'race'</th>\n",
              "      <td>STRING</td>\n",
              "      <td>required</td>\n",
              "      <td></td>\n",
              "      <td>'race'</td>\n",
              "    </tr>\n",
              "    <tr>\n",
              "      <th>'relationship'</th>\n",
              "      <td>STRING</td>\n",
              "      <td>required</td>\n",
              "      <td></td>\n",
              "      <td>'relationship'</td>\n",
              "    </tr>\n",
              "    <tr>\n",
              "      <th>'sex'</th>\n",
              "      <td>STRING</td>\n",
              "      <td>required</td>\n",
              "      <td></td>\n",
              "      <td>'sex'</td>\n",
              "    </tr>\n",
              "    <tr>\n",
              "      <th>'workclass'</th>\n",
              "      <td>STRING</td>\n",
              "      <td>required</td>\n",
              "      <td></td>\n",
              "      <td>'workclass'</td>\n",
              "    </tr>\n",
              "  </tbody>\n",
              "</table>\n",
              "</div>"
            ],
            "text/plain": [
              "                    Type  Presence Valency            Domain\n",
              "Feature name                                                \n",
              "'age'                INT  required                         -\n",
              "'capital-gain'       INT  required                         -\n",
              "'capital-loss'       INT  required                         -\n",
              "'education'       STRING  required               'education'\n",
              "'education-num'      INT  required                         -\n",
              "'fnlwgt'             INT  required                         -\n",
              "'hours-per-week'     INT  required                         -\n",
              "'label'              INT  required                         -\n",
              "'marital-status'  STRING  required          'marital-status'\n",
              "'native-country'  STRING  required          'native-country'\n",
              "'occupation'      STRING  required              'occupation'\n",
              "'race'            STRING  required                    'race'\n",
              "'relationship'    STRING  required            'relationship'\n",
              "'sex'             STRING  required                     'sex'\n",
              "'workclass'       STRING  required               'workclass'"
            ]
          },
          "metadata": {},
          "output_type": "display_data"
        },
        {
          "name": "stderr",
          "output_type": "stream",
          "text": [
            "/home/dk/miniconda3/envs/mlops/lib/python3.8/site-packages/tensorflow_data_validation/utils/display_util.py:180: FutureWarning: Passing a negative integer is deprecated in version 1.0 and will not be supported in future version. Instead, use None to not limit the column width.\n",
            "  pd.set_option('max_colwidth', -1)\n"
          ]
        },
        {
          "data": {
            "text/html": [
              "<div>\n",
              "<style scoped>\n",
              "    .dataframe tbody tr th:only-of-type {\n",
              "        vertical-align: middle;\n",
              "    }\n",
              "\n",
              "    .dataframe tbody tr th {\n",
              "        vertical-align: top;\n",
              "    }\n",
              "\n",
              "    .dataframe thead th {\n",
              "        text-align: right;\n",
              "    }\n",
              "</style>\n",
              "<table border=\"1\" class=\"dataframe\">\n",
              "  <thead>\n",
              "    <tr style=\"text-align: right;\">\n",
              "      <th></th>\n",
              "      <th>Values</th>\n",
              "    </tr>\n",
              "    <tr>\n",
              "      <th>Domain</th>\n",
              "      <th></th>\n",
              "    </tr>\n",
              "  </thead>\n",
              "  <tbody>\n",
              "    <tr>\n",
              "      <th>'education'</th>\n",
              "      <td>'10th', '11th', '12th', '1st-4th', '5th-6th', '7th-8th', '9th', 'Assoc-acdm', 'Assoc-voc', 'Bachelors', 'Doctorate', 'HS-grad', 'Masters', 'Preschool', 'Prof-school', 'Some-college'</td>\n",
              "    </tr>\n",
              "    <tr>\n",
              "      <th>'marital-status'</th>\n",
              "      <td>'Divorced', 'Married-AF-spouse', 'Married-civ-spouse', 'Married-spouse-absent', 'Never-married', 'Separated', 'Widowed'</td>\n",
              "    </tr>\n",
              "    <tr>\n",
              "      <th>'native-country'</th>\n",
              "      <td>'?', 'Cambodia', 'Canada', 'China', 'Columbia', 'Cuba', 'Dominican-Republic', 'Ecuador', 'El-Salvador', 'England', 'France', 'Germany', 'Greece', 'Guatemala', 'Haiti', 'Holand-Netherlands', 'Honduras', 'Hong', 'Hungary', 'India', 'Iran', 'Ireland', 'Italy', 'Jamaica', 'Japan', 'Laos', 'Mexico', 'Nicaragua', 'Outlying-US(Guam-USVI-etc)', 'Peru', 'Philippines', 'Poland', 'Portugal', 'Puerto-Rico', 'Scotland', 'South', 'Taiwan', 'Thailand', 'Trinadad&amp;Tobago', 'United-States', 'Vietnam', 'Yugoslavia'</td>\n",
              "    </tr>\n",
              "    <tr>\n",
              "      <th>'occupation'</th>\n",
              "      <td>'?', 'Adm-clerical', 'Armed-Forces', 'Craft-repair', 'Exec-managerial', 'Farming-fishing', 'Handlers-cleaners', 'Machine-op-inspct', 'Other-service', 'Priv-house-serv', 'Prof-specialty', 'Protective-serv', 'Sales', 'Tech-support', 'Transport-moving'</td>\n",
              "    </tr>\n",
              "    <tr>\n",
              "      <th>'race'</th>\n",
              "      <td>'Amer-Indian-Eskimo', 'Asian-Pac-Islander', 'Black', 'Other', 'White'</td>\n",
              "    </tr>\n",
              "    <tr>\n",
              "      <th>'relationship'</th>\n",
              "      <td>'Husband', 'Not-in-family', 'Other-relative', 'Own-child', 'Unmarried', 'Wife'</td>\n",
              "    </tr>\n",
              "    <tr>\n",
              "      <th>'sex'</th>\n",
              "      <td>'Female', 'Male'</td>\n",
              "    </tr>\n",
              "    <tr>\n",
              "      <th>'workclass'</th>\n",
              "      <td>'?', 'Federal-gov', 'Local-gov', 'Never-worked', 'Private', 'Self-emp-inc', 'Self-emp-not-inc', 'State-gov', 'Without-pay'</td>\n",
              "    </tr>\n",
              "  </tbody>\n",
              "</table>\n",
              "</div>"
            ],
            "text/plain": [
              "                                                                                                                                                                                                                                                                                                                                                                                                                                                                                                                                 Values\n",
              "Domain                                                                                                                                                                                                                                                                                                                                                                                                                                                                                                                                 \n",
              "'education'       '10th', '11th', '12th', '1st-4th', '5th-6th', '7th-8th', '9th', 'Assoc-acdm', 'Assoc-voc', 'Bachelors', 'Doctorate', 'HS-grad', 'Masters', 'Preschool', 'Prof-school', 'Some-college'                                                                                                                                                                                                                                                                                                                                \n",
              "'marital-status'  'Divorced', 'Married-AF-spouse', 'Married-civ-spouse', 'Married-spouse-absent', 'Never-married', 'Separated', 'Widowed'                                                                                                                                                                                                                                                                                                                                                                                              \n",
              "'native-country'  '?', 'Cambodia', 'Canada', 'China', 'Columbia', 'Cuba', 'Dominican-Republic', 'Ecuador', 'El-Salvador', 'England', 'France', 'Germany', 'Greece', 'Guatemala', 'Haiti', 'Holand-Netherlands', 'Honduras', 'Hong', 'Hungary', 'India', 'Iran', 'Ireland', 'Italy', 'Jamaica', 'Japan', 'Laos', 'Mexico', 'Nicaragua', 'Outlying-US(Guam-USVI-etc)', 'Peru', 'Philippines', 'Poland', 'Portugal', 'Puerto-Rico', 'Scotland', 'South', 'Taiwan', 'Thailand', 'Trinadad&Tobago', 'United-States', 'Vietnam', 'Yugoslavia'\n",
              "'occupation'      '?', 'Adm-clerical', 'Armed-Forces', 'Craft-repair', 'Exec-managerial', 'Farming-fishing', 'Handlers-cleaners', 'Machine-op-inspct', 'Other-service', 'Priv-house-serv', 'Prof-specialty', 'Protective-serv', 'Sales', 'Tech-support', 'Transport-moving'                                                                                                                                                                                                                                                            \n",
              "'race'            'Amer-Indian-Eskimo', 'Asian-Pac-Islander', 'Black', 'Other', 'White'                                                                                                                                                                                                                                                                                                                                                                                                                                                \n",
              "'relationship'    'Husband', 'Not-in-family', 'Other-relative', 'Own-child', 'Unmarried', 'Wife'                                                                                                                                                                                                                                                                                                                                                                                                                                       \n",
              "'sex'             'Female', 'Male'                                                                                                                                                                                                                                                                                                                                                                                                                                                                                                     \n",
              "'workclass'       '?', 'Federal-gov', 'Local-gov', 'Never-worked', 'Private', 'Self-emp-inc', 'Self-emp-not-inc', 'State-gov', 'Without-pay'                                                                                                                                                                                                                                                                                                                                                                                           "
            ]
          },
          "metadata": {},
          "output_type": "display_data"
        }
      ],
      "source": [
        "# Load the schema as a protocol buffer\n",
        "SCHEMA = tfdv.load_schema_text(SCHEMA_FILE)\n",
        "\n",
        "# Display the schema\n",
        "tfdv.display_schema(SCHEMA)"
      ]
    },
    {
      "cell_type": "markdown",
      "metadata": {
        "id": "UP3yuJxfNXRL"
      },
      "source": [
        "### Use the Schema to Create TFRecords\n",
        "\n",
        "TFMA needs a TFRecord file input so you need to convert the CSVs in the data directory. If you've done the earlier labs, you will know that this can be easily done with `ExampleGen`. For this notebook however, you will use the helper function below instead to demonstrate how it can be done outside a TFX pipeline. You will pass in the schema you loaded in the previous step to determine the correct type of each feature."
      ]
    },
    {
      "cell_type": "code",
      "execution_count": 7,
      "metadata": {
        "id": "8-wud3fPczl6"
      },
      "outputs": [],
      "source": [
        "# imports for helper function\n",
        "import csv\n",
        "from tensorflow.core.example import example_pb2\n",
        "from tensorflow_metadata.proto.v0 import schema_pb2\n",
        "\n",
        "def csv_to_tfrecord(schema, csv_file, tfrecord_file):\n",
        "  ''' Converts a csv file into a tfrecord\n",
        "  Args:\n",
        "    schema (schema_pb2) - Schema protobuf from TFDV\n",
        "    csv_file (string) - file to convert to tfrecord\n",
        "    tfrecord_file (string) - filename of tfrecord to create\n",
        "\n",
        "  Returns:\n",
        "    filename of tfrecord\n",
        "  '''\n",
        "\n",
        "  # Open CSV file for reading. Each row is mapped as a dictionary.\n",
        "  reader = csv.DictReader(open(csv_file, 'r'))\n",
        "  \n",
        "  # Initialize TF examples list\n",
        "  examples = []\n",
        "\n",
        "  # For each row in CSV, create a TF Example based on\n",
        "  # the Schema and append to the list\n",
        "  for line in reader:\n",
        "\n",
        "    # Intialize example\n",
        "    example = example_pb2.Example()\n",
        "\n",
        "    # Loop through features in the schema\n",
        "    for feature in schema.feature:\n",
        "\n",
        "      # Get current feature name\n",
        "      key = feature.name\n",
        "\n",
        "      # Populate values based on data type of current feature\n",
        "      if feature.type == schema_pb2.FLOAT:\n",
        "        example.features.feature[key].float_list.value[:] = (\n",
        "            [float(line[key])] if len(line[key]) > 0 else [])\n",
        "      elif feature.type == schema_pb2.INT:\n",
        "        example.features.feature[key].int64_list.value[:] = (\n",
        "            [int(line[key])] if len(line[key]) > 0 else [])\n",
        "      elif feature.type == schema_pb2.BYTES:\n",
        "        example.features.feature[key].bytes_list.value[:] = (\n",
        "            [line[key].encode('utf8')] if len(line[key]) > 0 else [])\n",
        "        \n",
        "    # Append to the list\n",
        "    examples.append(example)\n",
        "\n",
        "  # Write examples to tfrecord file\n",
        "  with tf.io.TFRecordWriter(tfrecord_file) as writer:\n",
        "    for example in examples:\n",
        "      writer.write(example.SerializeToString())\n",
        "  \n",
        "  return tfrecord_file"
      ]
    },
    {
      "cell_type": "markdown",
      "metadata": {
        "id": "sSO1fOrrYZjK"
      },
      "source": [
        "The code below will do the conversion and we've defined some more global variables that you will use in later exercises. "
      ]
    },
    {
      "cell_type": "code",
      "execution_count": 8,
      "metadata": {
        "id": "xU8R41EexIoc"
      },
      "outputs": [
        {
          "name": "stdout",
          "output_type": "stream",
          "text": [
            "files created: ['starter_files/data/tfrecord/data_test.tfrecord', 'starter_files/data/tfrecord/data_test_1.tfrecord', 'starter_files/data/tfrecord/data_test_3.tfrecord', 'starter_files/data/tfrecord/data_test_2.tfrecord']\n"
          ]
        }
      ],
      "source": [
        "# Create tfrecord directory\n",
        "!mkdir {TFRECORD_DIR}\n",
        "\n",
        "# Create list of tfrecord files\n",
        "tfrecord_files = [csv_to_tfrecord(SCHEMA, f'{CSV_DIR}/{name}', f\"{TFRECORD_DIR}/{name.replace('csv','tfrecord')}\") \n",
        "  for name in os.listdir(CSV_DIR)]\n",
        "\n",
        "# Print created files\n",
        "print(f'files created: {tfrecord_files}')\n",
        "\n",
        "# Create variables for each tfrecord\n",
        "TFRECORD_FULL = os.path.join(TFRECORD_DIR, 'data_test.tfrecord')\n",
        "TFRECORD_DAY1 = os.path.join(TFRECORD_DIR, 'data_test_1.tfrecord')\n",
        "TFRECORD_DAY2 = os.path.join(TFRECORD_DIR, 'data_test_2.tfrecord')\n",
        "TFRECORD_DAY3 = os.path.join(TFRECORD_DIR, 'data_test_3.tfrecord')\n",
        "\n",
        "# Delete unneeded variable\n",
        "del tfrecord_files"
      ]
    },
    {
      "cell_type": "markdown",
      "metadata": {
        "id": "Wr6d8JqzR8TZ"
      },
      "source": [
        "### Pretrained models\n",
        "\n",
        "Lastly, you also downloaded pretrained Keras models and they are stored in the `models/` directory. TFMA supports a number of different model types including TF Keras models, models based on generic TF2 signature APIs, as well TF estimator based models. The [get_started](https://www.tensorflow.org/tfx/model_analysis/get_started) guide has the full list of model types supported and any restrictions. You can also consult the [FAQ](https://www.tensorflow.org/tfx/model_analysis/faq) for examples on how to configure these models.\n",
        "\n",
        "We have included three models and you can choose to analyze any one of them in the later sections. These were saved in [SavedModel](https://www.tensorflow.org/guide/saved_model) format which is the default when saving with the Keras Models API."
      ]
    },
    {
      "cell_type": "code",
      "execution_count": 9,
      "metadata": {
        "id": "HQ4mjuMkR7z2"
      },
      "outputs": [
        {
          "name": "stdout",
          "output_type": "stream",
          "text": [
            "model1\tmodel2\tmodel3\n"
          ]
        }
      ],
      "source": [
        "# list model directories\n",
        "!ls {MODELS_DIR}\n",
        "\n",
        "# Create string variables for each model directory\n",
        "MODEL1_FILE = os.path.join(MODELS_DIR, 'model1')\n",
        "MODEL2_FILE = os.path.join(MODELS_DIR, 'model2')\n",
        "MODEL3_FILE = os.path.join(MODELS_DIR, 'model3')"
      ]
    },
    {
      "cell_type": "markdown",
      "metadata": {
        "id": "x0eQ0M7BI6IG"
      },
      "source": [
        "As mentioned earlier, these models were trained on the [Census Income dataset](http://archive.ics.uci.edu/ml/datasets/Census+Income). The label is `1` if a person earns more than 50k USD and `0` if less than or equal. You can load one of the models and look at the summary to get a sense of its architecture. All three models use the same architecture but were trained with different epochs to simulate varying performance."
      ]
    },
    {
      "cell_type": "code",
      "execution_count": 10,
      "metadata": {
        "id": "vvIEhxeMxekr"
      },
      "outputs": [
        {
          "name": "stdout",
          "output_type": "stream",
          "text": [
            "WARNING:tensorflow:SavedModel saved prior to TF 2.5 detected when loading Keras model. Please ensure that you are saving the model with model.save() or tf.keras.models.save_model(), *NOT* tf.saved_model.save(). To confirm, there should be a file named \"keras_metadata.pb\" in the SavedModel directory.\n"
          ]
        },
        {
          "name": "stderr",
          "output_type": "stream",
          "text": [
            "WARNING:tensorflow:SavedModel saved prior to TF 2.5 detected when loading Keras model. Please ensure that you are saving the model with model.save() or tf.keras.models.save_model(), *NOT* tf.saved_model.save(). To confirm, there should be a file named \"keras_metadata.pb\" in the SavedModel directory.\n",
            "2022-07-09 17:08:26.767964: I tensorflow/stream_executor/platform/default/dso_loader.cc:53] Successfully opened dynamic library libcuda.so.1\n",
            "2022-07-09 17:08:26.805295: I tensorflow/stream_executor/cuda/cuda_gpu_executor.cc:937] successful NUMA node read from SysFS had negative value (-1), but there must be at least one NUMA node, so returning NUMA node zero\n",
            "2022-07-09 17:08:26.805881: I tensorflow/core/common_runtime/gpu/gpu_device.cc:1733] Found device 0 with properties: \n",
            "pciBusID: 0000:01:00.0 name: NVIDIA GeForce RTX 2060 computeCapability: 7.5\n",
            "coreClock: 1.2GHz coreCount: 30 deviceMemorySize: 5.79GiB deviceMemoryBandwidth: 245.91GiB/s\n",
            "2022-07-09 17:08:26.805918: I tensorflow/stream_executor/platform/default/dso_loader.cc:53] Successfully opened dynamic library libcudart.so.11.0\n",
            "2022-07-09 17:08:26.829529: I tensorflow/stream_executor/platform/default/dso_loader.cc:53] Successfully opened dynamic library libcublas.so.11\n",
            "2022-07-09 17:08:26.829711: I tensorflow/stream_executor/platform/default/dso_loader.cc:53] Successfully opened dynamic library libcublasLt.so.11\n",
            "2022-07-09 17:08:26.889062: I tensorflow/stream_executor/platform/default/dso_loader.cc:53] Successfully opened dynamic library libcufft.so.10\n",
            "2022-07-09 17:08:26.893110: I tensorflow/stream_executor/platform/default/dso_loader.cc:53] Successfully opened dynamic library libcurand.so.10\n",
            "2022-07-09 17:08:26.899086: I tensorflow/stream_executor/platform/default/dso_loader.cc:53] Successfully opened dynamic library libcusolver.so.11\n",
            "2022-07-09 17:08:26.924998: I tensorflow/stream_executor/platform/default/dso_loader.cc:53] Successfully opened dynamic library libcusparse.so.11\n",
            "2022-07-09 17:08:26.925377: W tensorflow/stream_executor/platform/default/dso_loader.cc:64] Could not load dynamic library 'libcudnn.so.8'; dlerror: libcudnn.so.8: cannot open shared object file: No such file or directory\n",
            "2022-07-09 17:08:26.925392: W tensorflow/core/common_runtime/gpu/gpu_device.cc:1766] Cannot dlopen some GPU libraries. Please make sure the missing libraries mentioned above are installed properly if you would like to use GPU. Follow the guide at https://www.tensorflow.org/install/gpu for how to download and setup the required libraries for your platform.\n",
            "Skipping registering GPU devices...\n",
            "2022-07-09 17:08:26.925856: I tensorflow/core/platform/cpu_feature_guard.cc:142] This TensorFlow binary is optimized with oneAPI Deep Neural Network Library (oneDNN) to use the following CPU instructions in performance-critical operations:  AVX2 FMA\n",
            "To enable them in other operations, rebuild TensorFlow with the appropriate compiler flags.\n",
            "2022-07-09 17:08:26.926801: I tensorflow/core/common_runtime/gpu/gpu_device.cc:1258] Device interconnect StreamExecutor with strength 1 edge matrix:\n",
            "2022-07-09 17:08:26.926816: I tensorflow/core/common_runtime/gpu/gpu_device.cc:1264]      \n"
          ]
        },
        {
          "name": "stdout",
          "output_type": "stream",
          "text": [
            "WARNING:tensorflow:Inconsistent references when loading the checkpoint into this object graph. Either the Trackable object references in the Python program have changed in an incompatible way, or the checkpoint was generated in an incompatible program.\n",
            "\n",
            "Two checkpoint references resolved to different objects (<tensorflow.python.keras.saving.saved_model.load.TensorFlowTransform>TransformFeaturesLayer object at 0x7f05793bcee0> and <tensorflow.python.keras.engine.input_layer.InputLayer object at 0x7f05794f5e80>).\n"
          ]
        },
        {
          "name": "stderr",
          "output_type": "stream",
          "text": [
            "2022-07-09 17:08:27.593676: I tensorflow/compiler/mlir/mlir_graph_optimization_pass.cc:176] None of the MLIR Optimization Passes are enabled (registered 2)\n",
            "2022-07-09 17:08:27.611439: I tensorflow/core/platform/profile_utils/cpu_utils.cc:114] CPU Frequency: 2599990000 Hz\n",
            "WARNING:tensorflow:Inconsistent references when loading the checkpoint into this object graph. Either the Trackable object references in the Python program have changed in an incompatible way, or the checkpoint was generated in an incompatible program.\n",
            "\n",
            "Two checkpoint references resolved to different objects (<tensorflow.python.keras.saving.saved_model.load.TensorFlowTransform>TransformFeaturesLayer object at 0x7f05793bcee0> and <tensorflow.python.keras.engine.input_layer.InputLayer object at 0x7f05794f5e80>).\n"
          ]
        },
        {
          "name": "stdout",
          "output_type": "stream",
          "text": [
            "Model: \"model\"\n",
            "__________________________________________________________________________________________________\n",
            "Layer (type)                    Output Shape         Param #     Connected to                     \n",
            "==================================================================================================\n",
            "fnlwgt_xf (InputLayer)          [(None, 1)]          0                                            \n",
            "__________________________________________________________________________________________________\n",
            "education-num_xf (InputLayer)   [(None, 1)]          0                                            \n",
            "__________________________________________________________________________________________________\n",
            "capital-gain_xf (InputLayer)    [(None, 1)]          0                                            \n",
            "__________________________________________________________________________________________________\n",
            "capital-loss_xf (InputLayer)    [(None, 1)]          0                                            \n",
            "__________________________________________________________________________________________________\n",
            "hours-per-week_xf (InputLayer)  [(None, 1)]          0                                            \n",
            "__________________________________________________________________________________________________\n",
            "concatenate (Concatenate)       (None, 5)            0           fnlwgt_xf[0][0]                  \n",
            "                                                                 education-num_xf[0][0]           \n",
            "                                                                 capital-gain_xf[0][0]            \n",
            "                                                                 capital-loss_xf[0][0]            \n",
            "                                                                 hours-per-week_xf[0][0]          \n",
            "__________________________________________________________________________________________________\n",
            "dense (Dense)                   (None, 100)          600         concatenate[0][0]                \n",
            "__________________________________________________________________________________________________\n",
            "dense_1 (Dense)                 (None, 70)           7070        dense[0][0]                      \n",
            "__________________________________________________________________________________________________\n",
            "education_xf (InputLayer)       [(None, 21)]         0                                            \n",
            "__________________________________________________________________________________________________\n",
            "marital-status_xf (InputLayer)  [(None, 12)]         0                                            \n",
            "__________________________________________________________________________________________________\n",
            "occupation_xf (InputLayer)      [(None, 20)]         0                                            \n",
            "__________________________________________________________________________________________________\n",
            "race_xf (InputLayer)            [(None, 10)]         0                                            \n",
            "__________________________________________________________________________________________________\n",
            "relationship_xf (InputLayer)    [(None, 11)]         0                                            \n",
            "__________________________________________________________________________________________________\n",
            "workclass_xf (InputLayer)       [(None, 14)]         0                                            \n",
            "__________________________________________________________________________________________________\n",
            "sex_xf (InputLayer)             [(None, 7)]          0                                            \n",
            "__________________________________________________________________________________________________\n",
            "native-country_xf (InputLayer)  [(None, 47)]         0                                            \n",
            "__________________________________________________________________________________________________\n",
            "age_xf (InputLayer)             [(None, 4)]          0                                            \n",
            "__________________________________________________________________________________________________\n",
            "dense_2 (Dense)                 (None, 48)           3408        dense_1[0][0]                    \n",
            "__________________________________________________________________________________________________\n",
            "concatenate_1 (Concatenate)     (None, 146)          0           education_xf[0][0]               \n",
            "                                                                 marital-status_xf[0][0]          \n",
            "                                                                 occupation_xf[0][0]              \n",
            "                                                                 race_xf[0][0]                    \n",
            "                                                                 relationship_xf[0][0]            \n",
            "                                                                 workclass_xf[0][0]               \n",
            "                                                                 sex_xf[0][0]                     \n",
            "                                                                 native-country_xf[0][0]          \n",
            "                                                                 age_xf[0][0]                     \n",
            "__________________________________________________________________________________________________\n",
            "dense_3 (Dense)                 (None, 34)           1666        dense_2[0][0]                    \n",
            "__________________________________________________________________________________________________\n",
            "dense_4 (Dense)                 (None, 128)          18816       concatenate_1[0][0]              \n",
            "__________________________________________________________________________________________________\n",
            "concatenate_2 (Concatenate)     (None, 162)          0           dense_3[0][0]                    \n",
            "                                                                 dense_4[0][0]                    \n",
            "__________________________________________________________________________________________________\n",
            "dense_5 (Dense)                 (None, 1)            163         concatenate_2[0][0]              \n",
            "__________________________________________________________________________________________________\n",
            "transform_features_layer (Tenso multiple             0                                            \n",
            "==================================================================================================\n",
            "Total params: 31,723\n",
            "Trainable params: 31,723\n",
            "Non-trainable params: 0\n",
            "__________________________________________________________________________________________________\n"
          ]
        }
      ],
      "source": [
        "# Load model 1\n",
        "model = tf.keras.models.load_model(MODEL1_FILE)\n",
        "\n",
        "# Print summary. You can ignore the warnings at the start.\n",
        "model.summary()"
      ]
    },
    {
      "cell_type": "markdown",
      "metadata": {
        "id": "L8P-3h-HLPtH"
      },
      "source": [
        "You can see the code to build these in the next lab. For now, you'll only need to take note of a few things. First, the output is a single dense unit with a sigmoid activation (i.e. `dense_5` above). This is standard for binary classification problems.\n",
        "\n",
        "Another is that the model is exported with a transformation layer. You can see this in the summary above at the bottom row named `transform_features_layer` and it is not connected to the other layers. From previous labs, you will know that this is taken from the graph generated by the `Transform` component. It helps to avoid training-serving skews by making sure that raw inputs are transformed in the same way that the model expects. It is also available as a `tft_layer` property of the model object."
      ]
    },
    {
      "cell_type": "code",
      "execution_count": 11,
      "metadata": {
        "id": "qjEsamx6620d"
      },
      "outputs": [
        {
          "data": {
            "text/plain": [
              "True"
            ]
          },
          "execution_count": 11,
          "metadata": {},
          "output_type": "execute_result"
        }
      ],
      "source": [
        "# Transformation layer can be accessed in two ways. These are equivalent.\n",
        "model.get_layer('transform_features_layer') is model.tft_layer"
      ]
    },
    {
      "cell_type": "markdown",
      "metadata": {
        "id": "Cvzrnszr9YL1"
      },
      "source": [
        "TFMA invokes this layer automatically for your raw inputs but we've included a short snippet below to demonstrate how the transformation works. You can see that the raw features are indeed reformatted to an acceptable input for the model. The raw numeric features are scaled and the raw categorical (string) features are encoded to one-hot vectors."
      ]
    },
    {
      "cell_type": "code",
      "execution_count": 12,
      "metadata": {
        "id": "pIUo4v_NFBuO"
      },
      "outputs": [
        {
          "name": "stdout",
          "output_type": "stream",
          "text": [
            "\n",
            "RAW FEATURES:\n",
            "age: [[25]]\n",
            "capital-gain: [[0]]\n",
            "capital-loss: [[0]]\n",
            "education: [[b'11th']]\n",
            "education-num: [[7]]\n",
            "fnlwgt: [[226802]]\n",
            "hours-per-week: [[40]]\n",
            "label: [[0]]\n",
            "marital-status: [[b'Never-married']]\n",
            "native-country: [[b'United-States']]\n",
            "occupation: [[b'Machine-op-inspct']]\n",
            "race: [[b'Black']]\n",
            "relationship: [[b'Own-child']]\n",
            "sex: [[b'Male']]\n",
            "workclass: [[b'Private']]\n",
            "\n",
            "TRANSFORMED FEATURES:\n",
            "marital-status_xf: [[0. 1. 0. 0. 0. 0. 0. 0. 0. 0. 0. 0.]]\n",
            "sex_xf: [[1. 0. 0. 0. 0. 0. 0.]]\n",
            "age_xf: [[1. 0. 0. 0.]]\n",
            "capital-gain_xf: [0.]\n",
            "occupation_xf: [[0. 0. 0. 0. 0. 0. 1. 0. 0. 0. 0. 0. 0. 0. 0. 0. 0. 0. 0. 0.]]\n",
            "fnlwgt_xf: [0.14569008]\n",
            "hours-per-week_xf: [0.39795917]\n",
            "workclass_xf: [[1. 0. 0. 0. 0. 0. 0. 0. 0. 0. 0. 0. 0. 0.]]\n",
            "capital-loss_xf: [0.]\n",
            "relationship_xf: [[0. 0. 1. 0. 0. 0. 0. 0. 0. 0. 0.]]\n",
            "education_xf: [[0. 0. 0. 0. 0. 1. 0. 0. 0. 0. 0. 0. 0. 0. 0. 0. 0. 0. 0. 0. 0.]]\n",
            "education-num_xf: [0.4]\n",
            "race_xf: [[0. 1. 0. 0. 0. 0. 0. 0. 0. 0.]]\n",
            "native-country_xf: [[1. 0. 0. 0. 0. 0. 0. 0. 0. 0. 0. 0. 0. 0. 0. 0. 0. 0. 0. 0. 0. 0. 0. 0.\n",
            "  0. 0. 0. 0. 0. 0. 0. 0. 0. 0. 0. 0. 0. 0. 0. 0. 0. 0. 0. 0. 0. 0. 0.]]\n"
          ]
        }
      ],
      "source": [
        "from tensorflow_transform.tf_metadata import schema_utils\n",
        "\n",
        "# Load one tfrecord\n",
        "tfrecord_file = tf.data.TFRecordDataset(TFRECORD_DAY1)\n",
        "\n",
        "# Parse schema object as a feature spec\n",
        "feature_spec = schema_utils.schema_as_feature_spec(SCHEMA).feature_spec\n",
        "\n",
        "# Create a batch from the dataset\n",
        "for records in tfrecord_file.batch(1).take(1):\n",
        "\n",
        "  # Parse the batch to get a dictionary of raw features\n",
        "  parsed_examples = tf.io.parse_example(records, feature_spec)\n",
        "\n",
        "  # Print the results\n",
        "  print(\"\\nRAW FEATURES:\")\n",
        "  for key, value in parsed_examples.items():\n",
        "    print(f'{key}: {value.numpy()}')\n",
        "  \n",
        "  # Pop the label since the model does not expect a label input\n",
        "  parsed_examples.pop('label')\n",
        "\n",
        "  # Transform the rest of the raw features using the transform layer\n",
        "  transformed_examples = model.tft_layer(parsed_examples)\n",
        "\n",
        "  # Print the input to the model\n",
        "  print(\"\\nTRANSFORMED FEATURES:\")\n",
        "  for key, value in transformed_examples.items():\n",
        "    print(f'{key}: {value.numpy()}')"
      ]
    },
    {
      "cell_type": "markdown",
      "metadata": {
        "id": "AEeCIAwXJnDr"
      },
      "source": [
        "The transformed features can be passed into the model to get the predictions. The snippet below demonstrates this and we used a low-threshold [BinaryAccuracy](https://www.tensorflow.org/api_docs/python/tf/keras/metrics/BinaryAccuracy) metric to compare the true labels and model predictions."
      ]
    },
    {
      "cell_type": "code",
      "execution_count": 13,
      "metadata": {
        "id": "FXIrFLKPyHtz"
      },
      "outputs": [
        {
          "name": "stdout",
          "output_type": "stream",
          "text": [
            "labels:\n",
            " [[0]\n",
            " [0]\n",
            " [1]\n",
            " [1]\n",
            " [0]]\n",
            "\n",
            "predictions:\n",
            " [[1.6402992e-34]\n",
            " [3.4708142e-02]\n",
            " [5.1936507e-03]\n",
            " [3.3919078e-01]\n",
            " [2.3632433e-15]]\n",
            "\n",
            "binary accuracy: 0.800000011920929\n",
            "\n"
          ]
        }
      ],
      "source": [
        "from tensorflow_transform.tf_metadata import schema_utils\n",
        "\n",
        "# Load one tfrecord\n",
        "tfrecord_file = tf.data.TFRecordDataset(TFRECORD_DAY1)\n",
        "\n",
        "# Parse schema object as a feature spec\n",
        "feature_spec = schema_utils.schema_as_feature_spec(SCHEMA).feature_spec\n",
        "\n",
        "# Create a batch from the dataset\n",
        "for records in tfrecord_file.batch(5).take(1):\n",
        "\n",
        "  # Get the label values from the raw input\n",
        "  parsed_examples = tf.io.parse_example(records, feature_spec)\n",
        "  y_true = parsed_examples.pop('label')\n",
        "  print(f'labels:\\n {y_true.numpy()}\\n')\n",
        "  \n",
        "  # Transform the raw features and pass to the model to get predictions\n",
        "  transformed_examples = model.tft_layer(parsed_examples)\n",
        "  y_pred = model(transformed_examples)\n",
        "  print(f'predictions:\\n {y_pred.numpy()}\\n')\n",
        "  \n",
        "  # Measure the binary accuracy\n",
        "  metric = tf.keras.metrics.BinaryAccuracy(threshold=0.3)\n",
        "  metric.update_state(y_true, y_pred)\n",
        "  print(f'binary accuracy: {metric.result().numpy()}\\n')"
      ]
    },
    {
      "cell_type": "markdown",
      "metadata": {
        "id": "MGFEc_P0LH8b"
      },
      "source": [
        "Last thing to note is the model is also exported with a [serving signature](https://www.tensorflow.org/guide/saved_model#specifying_signatures_during_export). You will know more about this in the next lab and in later parts of the specialization but for now, you can think of it as a configuration for when the model is deployed for inference. For this particular model, the default signature is configured to transform batches of serialized raw features before feeding to the model input. That way, you wouldn't have to explicitly code the transformations as previously shown in the snippet above. You can just pass in batches of data directly as shown below. "
      ]
    },
    {
      "cell_type": "code",
      "execution_count": 14,
      "metadata": {
        "id": "Nh9rvKbSUW_l"
      },
      "outputs": [
        {
          "name": "stdout",
          "output_type": "stream",
          "text": [
            "model signatures: _SignatureMap({'serving_default': <ConcreteFunction signature_wrapper(*, examples) at 0x7F057888EFA0>})\n",
            "\n",
            "predictions:\n",
            " [[1.6402867e-34]\n",
            " [3.4708112e-02]\n",
            " [5.1937401e-03]\n",
            " [3.3919084e-01]\n",
            " [2.3632433e-15]]\n",
            "\n"
          ]
        }
      ],
      "source": [
        "# Load one tfrecord\n",
        "tfrecord_file = tf.data.TFRecordDataset(TFRECORD_DAY1)\n",
        "\n",
        "# Print available signatures\n",
        "print(f'model signatures: {model.signatures}\\n')\n",
        "\n",
        "# Create a batch\n",
        "for records in tfrecord_file.batch(5).take(1):\n",
        "\n",
        "  # Pass the batch to the model serving signature to get predictions\n",
        "  output = model.signatures['serving_default'](examples=records)\n",
        "\n",
        "  # Print results\n",
        "  print(f\"predictions:\\n {output['output_0']}\\n\")"
      ]
    },
    {
      "cell_type": "markdown",
      "metadata": {
        "id": "8gNoFWd3N-9b"
      },
      "source": [
        "TFMA accesses this model signature so it can work with the raw data and evaluate the model to get the metrics. Not only that, it can also extract specific features and domain values from your dataset before it computes these metrics. Let's see how this is done in the next section."
      ]
    },
    {
      "cell_type": "markdown",
      "metadata": {
        "id": "fp8Ub7GTXH3j"
      },
      "source": [
        "## Setup and Run TFMA\n",
        "\n",
        "With the dataset and model now available, you can now move on to use TFMA. There are some additional steps needed:\n",
        "\n",
        "* Create a `tfma.EvalConfig` protocol message containing details about the models, metrics, and data slices you'd like to analyze\n",
        "* Create a `tfma.EvalSharedModel` that points to your saved models.\n",
        "* Specify an output path where the analysis results will be stored "
      ]
    },
    {
      "cell_type": "markdown",
      "metadata": {
        "id": "qgC7NdCatT8y"
      },
      "source": [
        "### Create EvalConfig\n",
        "\n",
        "The [tfma.EvalConfig()](https://www.tensorflow.org/tfx/model_analysis/api_docs/python/tfma/EvalConfig?hl=nn&skip_cache=true) is a protocol message that sets up the analysis. Here, you will specify:\n",
        "\n",
        "* [`model_specs`](https://www.tensorflow.org/tfx/model_analysis/api_docs/python/tfma/ModelSpec) - message containing at least the label key so it can be extracted from the evaluation/test data\n",
        "\n",
        "* [`metrics_specs`](https://www.tensorflow.org/tfx/model_analysis/api_docs/python/tfma/MetricsSpec) - containing the metrics you would like to evaluate. A comprehensive guide can be found [here](https://www.tensorflow.org/tfx/model_analysis/metrics) and you will use the binary classification metrics for this exercise.\n",
        "\n",
        "* [`slicing_specs`](https://www.tensorflow.org/tfx/model_analysis/api_docs/python/tfma/SlicingSpec) - containing the feature slices you would like to compute metrics for. A short description of different types of slices is shown [here](https://www.tensorflow.org/tfx/model_analysis/setup#slicing_specs)\n",
        "\n",
        "The eval config should be passed as a protocol message and you can use the [google.protobuf.text_format](https://googleapis.dev/python/protobuf/latest/google/protobuf/text_format.html) module for that as shown below."
      ]
    },
    {
      "cell_type": "code",
      "execution_count": 15,
      "metadata": {
        "id": "PLJxcjpjfwkx"
      },
      "outputs": [],
      "source": [
        "import tensorflow_model_analysis as tfma\n",
        "from google.protobuf import text_format\n",
        "\n",
        "# Setup tfma.EvalConfig settings\n",
        "eval_config = text_format.Parse(\"\"\"\n",
        "  ## Model information\n",
        "  model_specs {\n",
        "    # For keras (and serving models), you need to add a `label_key`.\n",
        "    label_key: \"label\"\n",
        "  }\n",
        "\n",
        "  ## Post training metric information. These will be merged with any built-in\n",
        "  ## metrics from training.\n",
        "  metrics_specs {\n",
        "    metrics { class_name: \"ExampleCount\" }\n",
        "    metrics { class_name: \"BinaryAccuracy\" }\n",
        "    metrics { class_name: \"BinaryCrossentropy\" }\n",
        "    metrics { class_name: \"AUC\" }\n",
        "    metrics { class_name: \"AUCPrecisionRecall\" }\n",
        "    metrics { class_name: \"Precision\" }\n",
        "    metrics { class_name: \"Recall\" }\n",
        "    metrics { class_name: \"MeanLabel\" }\n",
        "    metrics { class_name: \"MeanPrediction\" }\n",
        "    metrics { class_name: \"Calibration\" }\n",
        "    metrics { class_name: \"CalibrationPlot\" }\n",
        "    metrics { class_name: \"ConfusionMatrixPlot\" }\n",
        "    # ... add additional metrics and plots ...\n",
        "  }\n",
        "\n",
        "  ## Slicing information\n",
        "\n",
        "  # overall slice\n",
        "  slicing_specs {}\n",
        "\n",
        "  # slice specific features\n",
        "  slicing_specs {\n",
        "    feature_keys: [\"sex\"]\n",
        "  }\n",
        "  slicing_specs {\n",
        "    feature_keys: [\"race\"]\n",
        "  }\n",
        "\n",
        "  # slice specific values from features\n",
        "  slicing_specs {\n",
        "    feature_values: {\n",
        "      key: \"native-country\"\n",
        "      value: \"Cambodia\"\n",
        "    }\n",
        "  }\n",
        "  slicing_specs {\n",
        "    feature_values: {\n",
        "      key: \"native-country\"\n",
        "      value: \"Canada\"\n",
        "    }\n",
        "  }\n",
        "\n",
        "  # slice feature crosses\n",
        "  slicing_specs {\n",
        "    feature_keys: [\"sex\", \"race\"]\n",
        "  }\n",
        "\"\"\", tfma.EvalConfig())"
      ]
    },
    {
      "cell_type": "markdown",
      "metadata": {
        "id": "J165kzHNTEQN"
      },
      "source": [
        "### Create EvalSharedModel\n",
        "\n",
        "TFMA also requires an [EvalSharedModel](https://www.tensorflow.org/tfx/model_analysis/api_docs/python/tfma/types/EvalSharedModel) instance that points to your model so it can be shared between multiple threads in the same process. This instance includes information about the type of model (keras, etc) and how to load and configure the model from its saved location on disk (e.g. tags, etc). The [tfma.default_eval_shared_model()](https://www.tensorflow.org/tfx/model_analysis/api_docs/python/tfma/default_eval_shared_model) API can be used to create this given the model location and eval config."
      ]
    },
    {
      "cell_type": "code",
      "execution_count": 16,
      "metadata": {
        "id": "KsnjbIi5OtXb"
      },
      "outputs": [
        {
          "name": "stdout",
          "output_type": "stream",
          "text": [
            "WARNING:tensorflow:SavedModel saved prior to TF 2.5 detected when loading Keras model. Please ensure that you are saving the model with model.save() or tf.keras.models.save_model(), *NOT* tf.saved_model.save(). To confirm, there should be a file named \"keras_metadata.pb\" in the SavedModel directory.\n"
          ]
        },
        {
          "name": "stderr",
          "output_type": "stream",
          "text": [
            "WARNING:tensorflow:SavedModel saved prior to TF 2.5 detected when loading Keras model. Please ensure that you are saving the model with model.save() or tf.keras.models.save_model(), *NOT* tf.saved_model.save(). To confirm, there should be a file named \"keras_metadata.pb\" in the SavedModel directory.\n"
          ]
        },
        {
          "name": "stdout",
          "output_type": "stream",
          "text": [
            "WARNING:tensorflow:Inconsistent references when loading the checkpoint into this object graph. Either the Trackable object references in the Python program have changed in an incompatible way, or the checkpoint was generated in an incompatible program.\n",
            "\n",
            "Two checkpoint references resolved to different objects (<tensorflow.python.keras.saving.saved_model.load.TensorFlowTransform>TransformFeaturesLayer object at 0x7f04af49efd0> and <tensorflow.python.keras.engine.input_layer.InputLayer object at 0x7f04b32b42b0>).\n"
          ]
        },
        {
          "name": "stderr",
          "output_type": "stream",
          "text": [
            "WARNING:tensorflow:Inconsistent references when loading the checkpoint into this object graph. Either the Trackable object references in the Python program have changed in an incompatible way, or the checkpoint was generated in an incompatible program.\n",
            "\n",
            "Two checkpoint references resolved to different objects (<tensorflow.python.keras.saving.saved_model.load.TensorFlowTransform>TransformFeaturesLayer object at 0x7f04af49efd0> and <tensorflow.python.keras.engine.input_layer.InputLayer object at 0x7f04b32b42b0>).\n"
          ]
        }
      ],
      "source": [
        "# Create a tfma.EvalSharedModel that points to your model.\n",
        "# You can ignore the warnings generated.\n",
        "eval_shared_model = tfma.default_eval_shared_model(\n",
        "    eval_saved_model_path=MODEL1_FILE,\n",
        "    eval_config=eval_config)"
      ]
    },
    {
      "cell_type": "code",
      "execution_count": 17,
      "metadata": {
        "id": "F0s4wWgQb2LT"
      },
      "outputs": [
        {
          "name": "stdout",
          "output_type": "stream",
          "text": [
            "EvalSharedModel contents: EvalSharedModel(model_path='starter_files/models/model1', add_metrics_callbacks=[], include_default_metrics=True, example_weight_key=None, additional_fetches=None, model_loader=<tensorflow_model_analysis.types.ModelLoader object at 0x7f04b3294b80>, model_name='', model_type='tf_keras', rubber_stamp=False, is_baseline=False)\n"
          ]
        }
      ],
      "source": [
        "# Show properties of EvalSharedModel\n",
        "print(f'EvalSharedModel contents: {eval_shared_model}')"
      ]
    },
    {
      "cell_type": "markdown",
      "metadata": {
        "id": "pViNbIpuVYLU"
      },
      "source": [
        "### Run TFMA\n",
        "\n",
        "With the setup complete, you just need to declare an output directory then run TFMA. You will pass in the eval config, shared model, dataset, and output directory to [`tfma.run_model_analysis()`](https://www.tensorflow.org/tfx/model_analysis/api_docs/python/tfma/run_model_analysis) as shown below. This will create a [`tfma.EvalResult`](https://www.tensorflow.org/tfx/model_analysis/api_docs/python/tfma/EvalResult) which you can use later for rendering metrics and plots."
      ]
    },
    {
      "cell_type": "code",
      "execution_count": 18,
      "metadata": {
        "id": "P3ej6jgiVkuY"
      },
      "outputs": [
        {
          "name": "stderr",
          "output_type": "stream",
          "text": [
            "WARNING:absl:Tensorflow version (2.5.3) found. Note that TFMA support for TF 2.0 is currently in beta\n",
            "WARNING:apache_beam.runners.interactive.interactive_environment:Dependencies required for Interactive Beam PCollection visualization are not available, please use: `pip install apache-beam[interactive]` to install necessary dependencies to enable all data visualization features.\n"
          ]
        },
        {
          "data": {
            "application/javascript": "\n        if (typeof window.interactive_beam_jquery == 'undefined') {\n          var jqueryScript = document.createElement('script');\n          jqueryScript.src = 'https://code.jquery.com/jquery-3.4.1.slim.min.js';\n          jqueryScript.type = 'text/javascript';\n          jqueryScript.onload = function() {\n            var datatableScript = document.createElement('script');\n            datatableScript.src = 'https://cdn.datatables.net/1.10.20/js/jquery.dataTables.min.js';\n            datatableScript.type = 'text/javascript';\n            datatableScript.onload = function() {\n              window.interactive_beam_jquery = jQuery.noConflict(true);\n              window.interactive_beam_jquery(document).ready(function($){\n                \n              });\n            }\n            document.head.appendChild(datatableScript);\n          };\n          document.head.appendChild(jqueryScript);\n        } else {\n          window.interactive_beam_jquery(document).ready(function($){\n            \n          });\n        }"
          },
          "metadata": {},
          "output_type": "display_data"
        },
        {
          "name": "stdout",
          "output_type": "stream",
          "text": [
            "WARNING:tensorflow:SavedModel saved prior to TF 2.5 detected when loading Keras model. Please ensure that you are saving the model with model.save() or tf.keras.models.save_model(), *NOT* tf.saved_model.save(). To confirm, there should be a file named \"keras_metadata.pb\" in the SavedModel directory.\n"
          ]
        },
        {
          "name": "stderr",
          "output_type": "stream",
          "text": [
            "WARNING:tensorflow:SavedModel saved prior to TF 2.5 detected when loading Keras model. Please ensure that you are saving the model with model.save() or tf.keras.models.save_model(), *NOT* tf.saved_model.save(). To confirm, there should be a file named \"keras_metadata.pb\" in the SavedModel directory.\n"
          ]
        },
        {
          "name": "stdout",
          "output_type": "stream",
          "text": [
            "WARNING:tensorflow:Inconsistent references when loading the checkpoint into this object graph. Either the Trackable object references in the Python program have changed in an incompatible way, or the checkpoint was generated in an incompatible program.\n",
            "\n",
            "Two checkpoint references resolved to different objects (<tensorflow.python.keras.saving.saved_model.load.TensorFlowTransform>TransformFeaturesLayer object at 0x7f04ac2a4490> and <tensorflow.python.keras.engine.input_layer.InputLayer object at 0x7f04ac333df0>).\n"
          ]
        },
        {
          "name": "stderr",
          "output_type": "stream",
          "text": [
            "WARNING:tensorflow:Inconsistent references when loading the checkpoint into this object graph. Either the Trackable object references in the Python program have changed in an incompatible way, or the checkpoint was generated in an incompatible program.\n",
            "\n",
            "Two checkpoint references resolved to different objects (<tensorflow.python.keras.saving.saved_model.load.TensorFlowTransform>TransformFeaturesLayer object at 0x7f04ac2a4490> and <tensorflow.python.keras.engine.input_layer.InputLayer object at 0x7f04ac333df0>).\n",
            "WARNING:root:Make sure that locally built Python SDK docker image has Python 3.8 interpreter.\n"
          ]
        },
        {
          "name": "stdout",
          "output_type": "stream",
          "text": [
            "WARNING:tensorflow:SavedModel saved prior to TF 2.5 detected when loading Keras model. Please ensure that you are saving the model with model.save() or tf.keras.models.save_model(), *NOT* tf.saved_model.save(). To confirm, there should be a file named \"keras_metadata.pb\" in the SavedModel directory.\n"
          ]
        },
        {
          "name": "stderr",
          "output_type": "stream",
          "text": [
            "WARNING:tensorflow:SavedModel saved prior to TF 2.5 detected when loading Keras model. Please ensure that you are saving the model with model.save() or tf.keras.models.save_model(), *NOT* tf.saved_model.save(). To confirm, there should be a file named \"keras_metadata.pb\" in the SavedModel directory.\n"
          ]
        },
        {
          "name": "stdout",
          "output_type": "stream",
          "text": [
            "WARNING:tensorflow:Inconsistent references when loading the checkpoint into this object graph. Either the Trackable object references in the Python program have changed in an incompatible way, or the checkpoint was generated in an incompatible program.\n",
            "\n",
            "Two checkpoint references resolved to different objects (<tensorflow.python.keras.saving.saved_model.load.TensorFlowTransform>TransformFeaturesLayer object at 0x7f049837a670> and <tensorflow.python.keras.engine.input_layer.InputLayer object at 0x7f04983bcdc0>).\n"
          ]
        },
        {
          "name": "stderr",
          "output_type": "stream",
          "text": [
            "WARNING:tensorflow:Inconsistent references when loading the checkpoint into this object graph. Either the Trackable object references in the Python program have changed in an incompatible way, or the checkpoint was generated in an incompatible program.\n",
            "\n",
            "Two checkpoint references resolved to different objects (<tensorflow.python.keras.saving.saved_model.load.TensorFlowTransform>TransformFeaturesLayer object at 0x7f049837a670> and <tensorflow.python.keras.engine.input_layer.InputLayer object at 0x7f04983bcdc0>).\n",
            "WARNING:apache_beam.io.tfrecordio:Couldn't find python-snappy so the implementation of _TFRecordUtil._masked_crc32c is not as fast as it could be.\n"
          ]
        },
        {
          "name": "stdout",
          "output_type": "stream",
          "text": [
            "WARNING:tensorflow:SavedModel saved prior to TF 2.5 detected when loading Keras model. Please ensure that you are saving the model with model.save() or tf.keras.models.save_model(), *NOT* tf.saved_model.save(). To confirm, there should be a file named \"keras_metadata.pb\" in the SavedModel directory.\n"
          ]
        },
        {
          "name": "stderr",
          "output_type": "stream",
          "text": [
            "WARNING:tensorflow:SavedModel saved prior to TF 2.5 detected when loading Keras model. Please ensure that you are saving the model with model.save() or tf.keras.models.save_model(), *NOT* tf.saved_model.save(). To confirm, there should be a file named \"keras_metadata.pb\" in the SavedModel directory.\n"
          ]
        },
        {
          "name": "stdout",
          "output_type": "stream",
          "text": [
            "WARNING:tensorflow:Inconsistent references when loading the checkpoint into this object graph. Either the Trackable object references in the Python program have changed in an incompatible way, or the checkpoint was generated in an incompatible program.\n",
            "\n",
            "Two checkpoint references resolved to different objects (<tensorflow.python.keras.saving.saved_model.load.TensorFlowTransform>TransformFeaturesLayer object at 0x7f04933dfe80> and <tensorflow.python.keras.engine.input_layer.InputLayer object at 0x7f04933a0d00>).\n"
          ]
        },
        {
          "name": "stderr",
          "output_type": "stream",
          "text": [
            "WARNING:tensorflow:Inconsistent references when loading the checkpoint into this object graph. Either the Trackable object references in the Python program have changed in an incompatible way, or the checkpoint was generated in an incompatible program.\n",
            "\n",
            "Two checkpoint references resolved to different objects (<tensorflow.python.keras.saving.saved_model.load.TensorFlowTransform>TransformFeaturesLayer object at 0x7f04933dfe80> and <tensorflow.python.keras.engine.input_layer.InputLayer object at 0x7f04933a0d00>).\n"
          ]
        },
        {
          "name": "stdout",
          "output_type": "stream",
          "text": [
            "WARNING:tensorflow:SavedModel saved prior to TF 2.5 detected when loading Keras model. Please ensure that you are saving the model with model.save() or tf.keras.models.save_model(), *NOT* tf.saved_model.save(). To confirm, there should be a file named \"keras_metadata.pb\" in the SavedModel directory.\n"
          ]
        },
        {
          "name": "stderr",
          "output_type": "stream",
          "text": [
            "WARNING:tensorflow:SavedModel saved prior to TF 2.5 detected when loading Keras model. Please ensure that you are saving the model with model.save() or tf.keras.models.save_model(), *NOT* tf.saved_model.save(). To confirm, there should be a file named \"keras_metadata.pb\" in the SavedModel directory.\n"
          ]
        },
        {
          "name": "stdout",
          "output_type": "stream",
          "text": [
            "WARNING:tensorflow:Inconsistent references when loading the checkpoint into this object graph. Either the Trackable object references in the Python program have changed in an incompatible way, or the checkpoint was generated in an incompatible program.\n",
            "\n",
            "Two checkpoint references resolved to different objects (<tensorflow.python.keras.saving.saved_model.load.TensorFlowTransform>TransformFeaturesLayer object at 0x7f045253fa60> and <tensorflow.python.keras.engine.input_layer.InputLayer object at 0x7f047fe8dee0>).\n"
          ]
        },
        {
          "name": "stderr",
          "output_type": "stream",
          "text": [
            "WARNING:tensorflow:Inconsistent references when loading the checkpoint into this object graph. Either the Trackable object references in the Python program have changed in an incompatible way, or the checkpoint was generated in an incompatible program.\n",
            "\n",
            "Two checkpoint references resolved to different objects (<tensorflow.python.keras.saving.saved_model.load.TensorFlowTransform>TransformFeaturesLayer object at 0x7f045253fa60> and <tensorflow.python.keras.engine.input_layer.InputLayer object at 0x7f047fe8dee0>).\n"
          ]
        },
        {
          "name": "stdout",
          "output_type": "stream",
          "text": [
            "WARNING:tensorflow:SavedModel saved prior to TF 2.5 detected when loading Keras model. Please ensure that you are saving the model with model.save() or tf.keras.models.save_model(), *NOT* tf.saved_model.save(). To confirm, there should be a file named \"keras_metadata.pb\" in the SavedModel directory.\n"
          ]
        },
        {
          "name": "stderr",
          "output_type": "stream",
          "text": [
            "WARNING:tensorflow:SavedModel saved prior to TF 2.5 detected when loading Keras model. Please ensure that you are saving the model with model.save() or tf.keras.models.save_model(), *NOT* tf.saved_model.save(). To confirm, there should be a file named \"keras_metadata.pb\" in the SavedModel directory.\n"
          ]
        },
        {
          "name": "stdout",
          "output_type": "stream",
          "text": [
            "WARNING:tensorflow:Inconsistent references when loading the checkpoint into this object graph. Either the Trackable object references in the Python program have changed in an incompatible way, or the checkpoint was generated in an incompatible program.\n",
            "\n",
            "Two checkpoint references resolved to different objects (<tensorflow.python.keras.saving.saved_model.load.TensorFlowTransform>TransformFeaturesLayer object at 0x7f04af13cb80> and <tensorflow.python.keras.engine.input_layer.InputLayer object at 0x7f04aedeb1c0>).\n"
          ]
        },
        {
          "name": "stderr",
          "output_type": "stream",
          "text": [
            "WARNING:tensorflow:Inconsistent references when loading the checkpoint into this object graph. Either the Trackable object references in the Python program have changed in an incompatible way, or the checkpoint was generated in an incompatible program.\n",
            "\n",
            "Two checkpoint references resolved to different objects (<tensorflow.python.keras.saving.saved_model.load.TensorFlowTransform>TransformFeaturesLayer object at 0x7f04af13cb80> and <tensorflow.python.keras.engine.input_layer.InputLayer object at 0x7f04aedeb1c0>).\n"
          ]
        },
        {
          "name": "stdout",
          "output_type": "stream",
          "text": [
            "WARNING:tensorflow:SavedModel saved prior to TF 2.5 detected when loading Keras model. Please ensure that you are saving the model with model.save() or tf.keras.models.save_model(), *NOT* tf.saved_model.save(). To confirm, there should be a file named \"keras_metadata.pb\" in the SavedModel directory.\n"
          ]
        },
        {
          "name": "stderr",
          "output_type": "stream",
          "text": [
            "WARNING:tensorflow:SavedModel saved prior to TF 2.5 detected when loading Keras model. Please ensure that you are saving the model with model.save() or tf.keras.models.save_model(), *NOT* tf.saved_model.save(). To confirm, there should be a file named \"keras_metadata.pb\" in the SavedModel directory.\n"
          ]
        },
        {
          "name": "stdout",
          "output_type": "stream",
          "text": [
            "WARNING:tensorflow:Inconsistent references when loading the checkpoint into this object graph. Either the Trackable object references in the Python program have changed in an incompatible way, or the checkpoint was generated in an incompatible program.\n",
            "\n",
            "Two checkpoint references resolved to different objects (<tensorflow.python.keras.saving.saved_model.load.TensorFlowTransform>TransformFeaturesLayer object at 0x7f03cc152b20> and <tensorflow.python.keras.engine.input_layer.InputLayer object at 0x7f04aed953d0>).\n"
          ]
        },
        {
          "name": "stderr",
          "output_type": "stream",
          "text": [
            "WARNING:tensorflow:Inconsistent references when loading the checkpoint into this object graph. Either the Trackable object references in the Python program have changed in an incompatible way, or the checkpoint was generated in an incompatible program.\n",
            "\n",
            "Two checkpoint references resolved to different objects (<tensorflow.python.keras.saving.saved_model.load.TensorFlowTransform>TransformFeaturesLayer object at 0x7f03cc152b20> and <tensorflow.python.keras.engine.input_layer.InputLayer object at 0x7f04aed953d0>).\n"
          ]
        },
        {
          "name": "stdout",
          "output_type": "stream",
          "text": [
            "WARNING:tensorflow:SavedModel saved prior to TF 2.5 detected when loading Keras model. Please ensure that you are saving the model with model.save() or tf.keras.models.save_model(), *NOT* tf.saved_model.save(). To confirm, there should be a file named \"keras_metadata.pb\" in the SavedModel directory.\n"
          ]
        },
        {
          "name": "stderr",
          "output_type": "stream",
          "text": [
            "WARNING:tensorflow:SavedModel saved prior to TF 2.5 detected when loading Keras model. Please ensure that you are saving the model with model.save() or tf.keras.models.save_model(), *NOT* tf.saved_model.save(). To confirm, there should be a file named \"keras_metadata.pb\" in the SavedModel directory.\n"
          ]
        },
        {
          "name": "stdout",
          "output_type": "stream",
          "text": [
            "WARNING:tensorflow:Inconsistent references when loading the checkpoint into this object graph. Either the Trackable object references in the Python program have changed in an incompatible way, or the checkpoint was generated in an incompatible program.\n",
            "\n",
            "Two checkpoint references resolved to different objects (<tensorflow.python.keras.saving.saved_model.load.TensorFlowTransform>TransformFeaturesLayer object at 0x7f039c02daf0> and <tensorflow.python.keras.engine.input_layer.InputLayer object at 0x7f039c006940>).\n"
          ]
        },
        {
          "name": "stderr",
          "output_type": "stream",
          "text": [
            "WARNING:tensorflow:Inconsistent references when loading the checkpoint into this object graph. Either the Trackable object references in the Python program have changed in an incompatible way, or the checkpoint was generated in an incompatible program.\n",
            "\n",
            "Two checkpoint references resolved to different objects (<tensorflow.python.keras.saving.saved_model.load.TensorFlowTransform>TransformFeaturesLayer object at 0x7f039c02daf0> and <tensorflow.python.keras.engine.input_layer.InputLayer object at 0x7f039c006940>).\n"
          ]
        },
        {
          "name": "stdout",
          "output_type": "stream",
          "text": [
            "WARNING:tensorflow:From /home/dk/miniconda3/envs/mlops/lib/python3.8/site-packages/tensorflow_model_analysis/writers/metrics_plots_and_validations_writer.py:112: tf_record_iterator (from tensorflow.python.lib.io.tf_record) is deprecated and will be removed in a future version.\n",
            "Instructions for updating:\n",
            "Use eager execution and: \n",
            "`tf.data.TFRecordDataset(path)`\n"
          ]
        },
        {
          "name": "stderr",
          "output_type": "stream",
          "text": [
            "WARNING:tensorflow:From /home/dk/miniconda3/envs/mlops/lib/python3.8/site-packages/tensorflow_model_analysis/writers/metrics_plots_and_validations_writer.py:112: tf_record_iterator (from tensorflow.python.lib.io.tf_record) is deprecated and will be removed in a future version.\n",
            "Instructions for updating:\n",
            "Use eager execution and: \n",
            "`tf.data.TFRecordDataset(path)`\n"
          ]
        }
      ],
      "source": [
        "# Specify output path for the evaluation results\n",
        "OUTPUT_DIR = os.path.join(BASE_DIR, 'output')\n",
        "\n",
        "# Run TFMA. You can ignore the warnings generated.\n",
        "eval_result = tfma.run_model_analysis(\n",
        "    eval_shared_model=eval_shared_model,\n",
        "    eval_config=eval_config,\n",
        "    data_location=TFRECORD_FULL,\n",
        "    output_path=OUTPUT_DIR)"
      ]
    },
    {
      "cell_type": "markdown",
      "metadata": {
        "id": "A0khNBC9FlEO"
      },
      "source": [
        "## Visualizing Metrics and Plots\n",
        "\n",
        "You can visualize the results also using TFMA methods. In this section, you will view the returned metrics and plots for the different slices you specified in the eval config."
      ]
    },
    {
      "cell_type": "markdown",
      "metadata": {
        "id": "cSl9qyTCbBKR"
      },
      "source": [
        "### Rendering Metrics\n",
        "\n",
        "You can view the metrics with the [`tfma.view.render_slicing_metrics()`](https://www.tensorflow.org/tfx/model_analysis/api_docs/python/tfma/view/render_slicing_metrics) method. By default, the views will display the `Overall` slice. To view a particular slice you can pass in a feature name to the `slicing_column` argument as shown below. You can visualize the different metrics through the `Show` dropdown menu and you can hover over the bar charts to show the exact value measured. \n",
        "\n",
        "We encourage you to try the different options you see and also modify the command. Here are some examples:\n",
        "\n",
        "* Removing the `slicing_column` argument will produce the overall slice.\n",
        "* You can also pass in `race` (since it was specified in the eval config) to see the results for that particular slice.\n",
        "* Using the `Examples (Weighted) Threshold` slider above 5421 will remove the `Female` slice because it has less examples than that.\n",
        "* Toggling the `View` dropdown to `Metrics Histogram` will show the results divided into buckets. For example, if you're slicing column is `sex` and the `Histogram Type` dropdown is at `Slice Counts`, then you will one slice in two of the 10 (default) buckets since we only have two values for that feature ('Male' and 'Female'). The x-axis show the values for the metric in the `Select Metric` dropdown. This is the default view when the number of slices is large.\n",
        "* At the bottom of the screen, you will notice the measurements also presented in tabular format. You can sort it by clicking on the feature name headers."
      ]
    },
    {
      "cell_type": "code",
      "execution_count": 19,
      "metadata": {
        "id": "hJ5_UMnWYmaE"
      },
      "outputs": [
        {
          "data": {
            "application/vnd.jupyter.widget-view+json": {
              "model_id": "41a834c4bbca45fcbbefe260b5b7a035",
              "version_major": 2,
              "version_minor": 0
            },
            "text/plain": [
              "SlicingMetricsViewer(config={'weightedExamplesColumn': 'example_count'}, data=[{'slice': 'sex:Male', 'metrics'…"
            ]
          },
          "metadata": {},
          "output_type": "display_data"
        }
      ],
      "source": [
        "# Render metrics for a feature\n",
        "tfma.view.render_slicing_metrics(eval_result, slicing_column='sex')"
      ]
    },
    {
      "cell_type": "markdown",
      "metadata": {
        "id": "hSnqI6Esb1XM"
      },
      "source": [
        "### More Slices\n",
        "\n",
        "If you haven't yet, you can also pass in the `native-country` to the slicing column. The difference in this visualization is we only specified two of its values in the eval config earlier. This is useful if you just want to study a subgroup of a particular feature and not the entire domain."
      ]
    },
    {
      "cell_type": "code",
      "execution_count": 20,
      "metadata": {
        "id": "355wqvY3yBod"
      },
      "outputs": [
        {
          "data": {
            "application/vnd.jupyter.widget-view+json": {
              "model_id": "b2be8e3350ca4b6da1198b567a48e23b",
              "version_major": 2,
              "version_minor": 0
            },
            "text/plain": [
              "SlicingMetricsViewer(config={'weightedExamplesColumn': 'example_count'}, data=[{'slice': 'native-country:Cambo…"
            ]
          },
          "metadata": {},
          "output_type": "display_data"
        }
      ],
      "source": [
        "# Render metrics for feature. Review EvalConfig message to see what values were selected.\n",
        "tfma.view.render_slicing_metrics(eval_result, slicing_column='native-country')"
      ]
    },
    {
      "cell_type": "markdown",
      "metadata": {
        "id": "PsXM0NYGeajg"
      },
      "source": [
        "TFMA also supports creating feature crosses to analyze combinations of features. Our original settings created a cross between `sex` and `race` and you can pass it in as a [SlicingSpec](https://www.tensorflow.org/tfx/model_analysis/api_docs/python/tfma/SlicingSpec) as shown below."
      ]
    },
    {
      "cell_type": "code",
      "execution_count": 21,
      "metadata": {
        "id": "k7vbFS1Me1SH"
      },
      "outputs": [
        {
          "data": {
            "application/vnd.jupyter.widget-view+json": {
              "model_id": "d39d55a9511044e7a27ee90616ef3393",
              "version_major": 2,
              "version_minor": 0
            },
            "text/plain": [
              "SlicingMetricsViewer(config={'weightedExamplesColumn': 'example_count'}, data=[{'slice': 'race_X_sex:Black_X_M…"
            ]
          },
          "metadata": {},
          "output_type": "display_data"
        }
      ],
      "source": [
        "# Render metrics for feature crosses\n",
        "tfma.view.render_slicing_metrics(\n",
        "    eval_result,\n",
        "    slicing_spec=tfma.SlicingSpec(\n",
        "        feature_keys=['sex', 'race']))"
      ]
    },
    {
      "cell_type": "markdown",
      "metadata": {
        "id": "GmeODqrUfJw2"
      },
      "source": [
        "In some cases, crossing the two columns creates a lot of combinations. You can narrow down the results to only look at specific values by specifying it in the `slicing_spec` argument. Below shows the results for the `sex` feature for the `Other` race."
      ]
    },
    {
      "cell_type": "code",
      "execution_count": 22,
      "metadata": {
        "id": "kdvBNfcHfRWg"
      },
      "outputs": [
        {
          "data": {
            "application/vnd.jupyter.widget-view+json": {
              "model_id": "9fb3899228994e348ceb90f0d0d3c4e6",
              "version_major": 2,
              "version_minor": 0
            },
            "text/plain": [
              "SlicingMetricsViewer(config={'weightedExamplesColumn': 'example_count'}, data=[{'slice': 'race_X_sex:Black_X_M…"
            ]
          },
          "metadata": {},
          "output_type": "display_data"
        }
      ],
      "source": [
        "# Narrow down the feature crosses by specifying feature values\n",
        "tfma.view.render_slicing_metrics(\n",
        "    eval_result,\n",
        "    slicing_spec=tfma.SlicingSpec(\n",
        "        feature_keys=['sex'], feature_values={'race': 'Black'}))"
      ]
    },
    {
      "cell_type": "markdown",
      "metadata": {
        "id": "f8acksU33KMm"
      },
      "source": [
        "### Rendering Plots\n",
        "\n",
        "Any plots that were added to the `tfma.EvalConfig` as post training `metric_specs` can be displayed using [`tfma.view.render_plot`](https://www.tensorflow.org/tfx/model_analysis/api_docs/python/tfma/view/render_plot).\n",
        "\n",
        "As with metrics, plots can be viewed by slice. Unlike metrics, only plots for a particular slice value can be displayed so the `tfma.SlicingSpec` must be used and it must specify both a slice feature name and value. If no slice is provided then the plots for the `Overall` slice is used.\n",
        "\n",
        "The example below displays the plots that were computed for the `sex:Male` slice. You can click on the names at the bottom of the graph to see a different plot type. Alternatively, you can tick the `Show all plots` checkbox to show all the plots in one screen."
      ]
    },
    {
      "cell_type": "code",
      "execution_count": 23,
      "metadata": {
        "id": "X4TCKjGw3S-a"
      },
      "outputs": [
        {
          "data": {
            "application/vnd.jupyter.widget-view+json": {
              "model_id": "cb6b4a7a74d44ef6932c8371320e8673",
              "version_major": 2,
              "version_minor": 0
            },
            "text/plain": [
              "PlotViewer(config={'sliceName': 'sex:Male', 'metricKeys': {'calibrationPlot': {'metricName': 'calibrationHisto…"
            ]
          },
          "metadata": {},
          "output_type": "display_data"
        }
      ],
      "source": [
        "# Render plots\n",
        "tfma.view.render_plot(\n",
        "    eval_result,\n",
        "    tfma.SlicingSpec(feature_values={'sex': 'Male'}))"
      ]
    },
    {
      "cell_type": "markdown",
      "metadata": {
        "id": "meRvFkKcPbux"
      },
      "source": [
        "## Tracking Model Performance Over Time\n",
        "\n",
        "Your training dataset will be used for training your model, and will hopefully be representative of your test dataset and the data that will be sent to your model in production.  However, while the data in inference requests may remain the same as your training data, it can also start to change enough so that the performance of your model will change. That means that you need to monitor and measure your model's performance on an ongoing basis so that you can be aware of and react to changes.\n",
        "\n",
        "Let's take a look at how TFMA can help. You will load three different datasets and compare the model analysis results using the [`render_time_series()`](https://www.tensorflow.org/tfx/model_analysis/api_docs/python/tfma/view/render_time_series) method."
      ]
    },
    {
      "cell_type": "code",
      "execution_count": 24,
      "metadata": {
        "id": "zJYUOjmFfuPy"
      },
      "outputs": [
        {
          "name": "stdout",
          "output_type": "stream",
          "text": [
            "WARNING:tensorflow:SavedModel saved prior to TF 2.5 detected when loading Keras model. Please ensure that you are saving the model with model.save() or tf.keras.models.save_model(), *NOT* tf.saved_model.save(). To confirm, there should be a file named \"keras_metadata.pb\" in the SavedModel directory.\n"
          ]
        },
        {
          "name": "stderr",
          "output_type": "stream",
          "text": [
            "WARNING:tensorflow:SavedModel saved prior to TF 2.5 detected when loading Keras model. Please ensure that you are saving the model with model.save() or tf.keras.models.save_model(), *NOT* tf.saved_model.save(). To confirm, there should be a file named \"keras_metadata.pb\" in the SavedModel directory.\n"
          ]
        },
        {
          "name": "stdout",
          "output_type": "stream",
          "text": [
            "WARNING:tensorflow:Inconsistent references when loading the checkpoint into this object graph. Either the Trackable object references in the Python program have changed in an incompatible way, or the checkpoint was generated in an incompatible program.\n",
            "\n",
            "Two checkpoint references resolved to different objects (<tensorflow.python.keras.saving.saved_model.load.TensorFlowTransform>TransformFeaturesLayer object at 0x7f039703a400> and <tensorflow.python.keras.engine.input_layer.InputLayer object at 0x7f0396ed7850>).\n"
          ]
        },
        {
          "name": "stderr",
          "output_type": "stream",
          "text": [
            "WARNING:tensorflow:Inconsistent references when loading the checkpoint into this object graph. Either the Trackable object references in the Python program have changed in an incompatible way, or the checkpoint was generated in an incompatible program.\n",
            "\n",
            "Two checkpoint references resolved to different objects (<tensorflow.python.keras.saving.saved_model.load.TensorFlowTransform>TransformFeaturesLayer object at 0x7f039703a400> and <tensorflow.python.keras.engine.input_layer.InputLayer object at 0x7f0396ed7850>).\n",
            "WARNING:absl:Tensorflow version (2.5.3) found. Note that TFMA support for TF 2.0 is currently in beta\n"
          ]
        },
        {
          "name": "stdout",
          "output_type": "stream",
          "text": [
            "WARNING:tensorflow:SavedModel saved prior to TF 2.5 detected when loading Keras model. Please ensure that you are saving the model with model.save() or tf.keras.models.save_model(), *NOT* tf.saved_model.save(). To confirm, there should be a file named \"keras_metadata.pb\" in the SavedModel directory.\n"
          ]
        },
        {
          "name": "stderr",
          "output_type": "stream",
          "text": [
            "WARNING:tensorflow:SavedModel saved prior to TF 2.5 detected when loading Keras model. Please ensure that you are saving the model with model.save() or tf.keras.models.save_model(), *NOT* tf.saved_model.save(). To confirm, there should be a file named \"keras_metadata.pb\" in the SavedModel directory.\n"
          ]
        },
        {
          "name": "stdout",
          "output_type": "stream",
          "text": [
            "WARNING:tensorflow:Inconsistent references when loading the checkpoint into this object graph. Either the Trackable object references in the Python program have changed in an incompatible way, or the checkpoint was generated in an incompatible program.\n",
            "\n",
            "Two checkpoint references resolved to different objects (<tensorflow.python.keras.saving.saved_model.load.TensorFlowTransform>TransformFeaturesLayer object at 0x7f0492596cd0> and <tensorflow.python.keras.engine.input_layer.InputLayer object at 0x7f04925f45b0>).\n"
          ]
        },
        {
          "name": "stderr",
          "output_type": "stream",
          "text": [
            "WARNING:tensorflow:Inconsistent references when loading the checkpoint into this object graph. Either the Trackable object references in the Python program have changed in an incompatible way, or the checkpoint was generated in an incompatible program.\n",
            "\n",
            "Two checkpoint references resolved to different objects (<tensorflow.python.keras.saving.saved_model.load.TensorFlowTransform>TransformFeaturesLayer object at 0x7f0492596cd0> and <tensorflow.python.keras.engine.input_layer.InputLayer object at 0x7f04925f45b0>).\n",
            "WARNING:root:Make sure that locally built Python SDK docker image has Python 3.8 interpreter.\n"
          ]
        },
        {
          "name": "stdout",
          "output_type": "stream",
          "text": [
            "WARNING:tensorflow:SavedModel saved prior to TF 2.5 detected when loading Keras model. Please ensure that you are saving the model with model.save() or tf.keras.models.save_model(), *NOT* tf.saved_model.save(). To confirm, there should be a file named \"keras_metadata.pb\" in the SavedModel directory.\n"
          ]
        },
        {
          "name": "stderr",
          "output_type": "stream",
          "text": [
            "WARNING:tensorflow:SavedModel saved prior to TF 2.5 detected when loading Keras model. Please ensure that you are saving the model with model.save() or tf.keras.models.save_model(), *NOT* tf.saved_model.save(). To confirm, there should be a file named \"keras_metadata.pb\" in the SavedModel directory.\n"
          ]
        },
        {
          "name": "stdout",
          "output_type": "stream",
          "text": [
            "WARNING:tensorflow:Inconsistent references when loading the checkpoint into this object graph. Either the Trackable object references in the Python program have changed in an incompatible way, or the checkpoint was generated in an incompatible program.\n",
            "\n",
            "Two checkpoint references resolved to different objects (<tensorflow.python.keras.saving.saved_model.load.TensorFlowTransform>TransformFeaturesLayer object at 0x7f039544fc70> and <tensorflow.python.keras.engine.input_layer.InputLayer object at 0x7f03953e6f70>).\n"
          ]
        },
        {
          "name": "stderr",
          "output_type": "stream",
          "text": [
            "WARNING:tensorflow:Inconsistent references when loading the checkpoint into this object graph. Either the Trackable object references in the Python program have changed in an incompatible way, or the checkpoint was generated in an incompatible program.\n",
            "\n",
            "Two checkpoint references resolved to different objects (<tensorflow.python.keras.saving.saved_model.load.TensorFlowTransform>TransformFeaturesLayer object at 0x7f039544fc70> and <tensorflow.python.keras.engine.input_layer.InputLayer object at 0x7f03953e6f70>).\n"
          ]
        },
        {
          "name": "stdout",
          "output_type": "stream",
          "text": [
            "WARNING:tensorflow:SavedModel saved prior to TF 2.5 detected when loading Keras model. Please ensure that you are saving the model with model.save() or tf.keras.models.save_model(), *NOT* tf.saved_model.save(). To confirm, there should be a file named \"keras_metadata.pb\" in the SavedModel directory.\n"
          ]
        },
        {
          "name": "stderr",
          "output_type": "stream",
          "text": [
            "WARNING:tensorflow:SavedModel saved prior to TF 2.5 detected when loading Keras model. Please ensure that you are saving the model with model.save() or tf.keras.models.save_model(), *NOT* tf.saved_model.save(). To confirm, there should be a file named \"keras_metadata.pb\" in the SavedModel directory.\n"
          ]
        },
        {
          "name": "stdout",
          "output_type": "stream",
          "text": [
            "WARNING:tensorflow:Inconsistent references when loading the checkpoint into this object graph. Either the Trackable object references in the Python program have changed in an incompatible way, or the checkpoint was generated in an incompatible program.\n",
            "\n",
            "Two checkpoint references resolved to different objects (<tensorflow.python.keras.saving.saved_model.load.TensorFlowTransform>TransformFeaturesLayer object at 0x7f03764889d0> and <tensorflow.python.keras.engine.input_layer.InputLayer object at 0x7f039403f730>).\n"
          ]
        },
        {
          "name": "stderr",
          "output_type": "stream",
          "text": [
            "WARNING:tensorflow:Inconsistent references when loading the checkpoint into this object graph. Either the Trackable object references in the Python program have changed in an incompatible way, or the checkpoint was generated in an incompatible program.\n",
            "\n",
            "Two checkpoint references resolved to different objects (<tensorflow.python.keras.saving.saved_model.load.TensorFlowTransform>TransformFeaturesLayer object at 0x7f03764889d0> and <tensorflow.python.keras.engine.input_layer.InputLayer object at 0x7f039403f730>).\n"
          ]
        },
        {
          "name": "stdout",
          "output_type": "stream",
          "text": [
            "WARNING:tensorflow:SavedModel saved prior to TF 2.5 detected when loading Keras model. Please ensure that you are saving the model with model.save() or tf.keras.models.save_model(), *NOT* tf.saved_model.save(). To confirm, there should be a file named \"keras_metadata.pb\" in the SavedModel directory.\n"
          ]
        },
        {
          "name": "stderr",
          "output_type": "stream",
          "text": [
            "WARNING:tensorflow:SavedModel saved prior to TF 2.5 detected when loading Keras model. Please ensure that you are saving the model with model.save() or tf.keras.models.save_model(), *NOT* tf.saved_model.save(). To confirm, there should be a file named \"keras_metadata.pb\" in the SavedModel directory.\n"
          ]
        },
        {
          "name": "stdout",
          "output_type": "stream",
          "text": [
            "WARNING:tensorflow:Inconsistent references when loading the checkpoint into this object graph. Either the Trackable object references in the Python program have changed in an incompatible way, or the checkpoint was generated in an incompatible program.\n",
            "\n",
            "Two checkpoint references resolved to different objects (<tensorflow.python.keras.saving.saved_model.load.TensorFlowTransform>TransformFeaturesLayer object at 0x7f0376243d90> and <tensorflow.python.keras.engine.input_layer.InputLayer object at 0x7f0376495fa0>).\n"
          ]
        },
        {
          "name": "stderr",
          "output_type": "stream",
          "text": [
            "WARNING:tensorflow:Inconsistent references when loading the checkpoint into this object graph. Either the Trackable object references in the Python program have changed in an incompatible way, or the checkpoint was generated in an incompatible program.\n",
            "\n",
            "Two checkpoint references resolved to different objects (<tensorflow.python.keras.saving.saved_model.load.TensorFlowTransform>TransformFeaturesLayer object at 0x7f0376243d90> and <tensorflow.python.keras.engine.input_layer.InputLayer object at 0x7f0376495fa0>).\n"
          ]
        },
        {
          "name": "stdout",
          "output_type": "stream",
          "text": [
            "WARNING:tensorflow:SavedModel saved prior to TF 2.5 detected when loading Keras model. Please ensure that you are saving the model with model.save() or tf.keras.models.save_model(), *NOT* tf.saved_model.save(). To confirm, there should be a file named \"keras_metadata.pb\" in the SavedModel directory.\n"
          ]
        },
        {
          "name": "stderr",
          "output_type": "stream",
          "text": [
            "WARNING:tensorflow:SavedModel saved prior to TF 2.5 detected when loading Keras model. Please ensure that you are saving the model with model.save() or tf.keras.models.save_model(), *NOT* tf.saved_model.save(). To confirm, there should be a file named \"keras_metadata.pb\" in the SavedModel directory.\n"
          ]
        },
        {
          "name": "stdout",
          "output_type": "stream",
          "text": [
            "WARNING:tensorflow:Inconsistent references when loading the checkpoint into this object graph. Either the Trackable object references in the Python program have changed in an incompatible way, or the checkpoint was generated in an incompatible program.\n",
            "\n",
            "Two checkpoint references resolved to different objects (<tensorflow.python.keras.saving.saved_model.load.TensorFlowTransform>TransformFeaturesLayer object at 0x7f0375bb5c10> and <tensorflow.python.keras.engine.input_layer.InputLayer object at 0x7f0375b91070>).\n"
          ]
        },
        {
          "name": "stderr",
          "output_type": "stream",
          "text": [
            "WARNING:tensorflow:Inconsistent references when loading the checkpoint into this object graph. Either the Trackable object references in the Python program have changed in an incompatible way, or the checkpoint was generated in an incompatible program.\n",
            "\n",
            "Two checkpoint references resolved to different objects (<tensorflow.python.keras.saving.saved_model.load.TensorFlowTransform>TransformFeaturesLayer object at 0x7f0375bb5c10> and <tensorflow.python.keras.engine.input_layer.InputLayer object at 0x7f0375b91070>).\n"
          ]
        },
        {
          "name": "stdout",
          "output_type": "stream",
          "text": [
            "WARNING:tensorflow:SavedModel saved prior to TF 2.5 detected when loading Keras model. Please ensure that you are saving the model with model.save() or tf.keras.models.save_model(), *NOT* tf.saved_model.save(). To confirm, there should be a file named \"keras_metadata.pb\" in the SavedModel directory.\n"
          ]
        },
        {
          "name": "stderr",
          "output_type": "stream",
          "text": [
            "WARNING:tensorflow:SavedModel saved prior to TF 2.5 detected when loading Keras model. Please ensure that you are saving the model with model.save() or tf.keras.models.save_model(), *NOT* tf.saved_model.save(). To confirm, there should be a file named \"keras_metadata.pb\" in the SavedModel directory.\n"
          ]
        },
        {
          "name": "stdout",
          "output_type": "stream",
          "text": [
            "WARNING:tensorflow:Inconsistent references when loading the checkpoint into this object graph. Either the Trackable object references in the Python program have changed in an incompatible way, or the checkpoint was generated in an incompatible program.\n",
            "\n",
            "Two checkpoint references resolved to different objects (<tensorflow.python.keras.saving.saved_model.load.TensorFlowTransform>TransformFeaturesLayer object at 0x7f037538a820> and <tensorflow.python.keras.engine.input_layer.InputLayer object at 0x7f03753cf5e0>).\n"
          ]
        },
        {
          "name": "stderr",
          "output_type": "stream",
          "text": [
            "WARNING:tensorflow:Inconsistent references when loading the checkpoint into this object graph. Either the Trackable object references in the Python program have changed in an incompatible way, or the checkpoint was generated in an incompatible program.\n",
            "\n",
            "Two checkpoint references resolved to different objects (<tensorflow.python.keras.saving.saved_model.load.TensorFlowTransform>TransformFeaturesLayer object at 0x7f037538a820> and <tensorflow.python.keras.engine.input_layer.InputLayer object at 0x7f03753cf5e0>).\n"
          ]
        },
        {
          "name": "stdout",
          "output_type": "stream",
          "text": [
            "WARNING:tensorflow:SavedModel saved prior to TF 2.5 detected when loading Keras model. Please ensure that you are saving the model with model.save() or tf.keras.models.save_model(), *NOT* tf.saved_model.save(). To confirm, there should be a file named \"keras_metadata.pb\" in the SavedModel directory.\n"
          ]
        },
        {
          "name": "stderr",
          "output_type": "stream",
          "text": [
            "WARNING:tensorflow:SavedModel saved prior to TF 2.5 detected when loading Keras model. Please ensure that you are saving the model with model.save() or tf.keras.models.save_model(), *NOT* tf.saved_model.save(). To confirm, there should be a file named \"keras_metadata.pb\" in the SavedModel directory.\n"
          ]
        },
        {
          "name": "stdout",
          "output_type": "stream",
          "text": [
            "WARNING:tensorflow:Inconsistent references when loading the checkpoint into this object graph. Either the Trackable object references in the Python program have changed in an incompatible way, or the checkpoint was generated in an incompatible program.\n",
            "\n",
            "Two checkpoint references resolved to different objects (<tensorflow.python.keras.saving.saved_model.load.TensorFlowTransform>TransformFeaturesLayer object at 0x7f04af498ee0> and <tensorflow.python.keras.engine.input_layer.InputLayer object at 0x7f03973db5e0>).\n"
          ]
        },
        {
          "name": "stderr",
          "output_type": "stream",
          "text": [
            "WARNING:tensorflow:Inconsistent references when loading the checkpoint into this object graph. Either the Trackable object references in the Python program have changed in an incompatible way, or the checkpoint was generated in an incompatible program.\n",
            "\n",
            "Two checkpoint references resolved to different objects (<tensorflow.python.keras.saving.saved_model.load.TensorFlowTransform>TransformFeaturesLayer object at 0x7f04af498ee0> and <tensorflow.python.keras.engine.input_layer.InputLayer object at 0x7f03973db5e0>).\n"
          ]
        },
        {
          "name": "stdout",
          "output_type": "stream",
          "text": [
            "WARNING:tensorflow:SavedModel saved prior to TF 2.5 detected when loading Keras model. Please ensure that you are saving the model with model.save() or tf.keras.models.save_model(), *NOT* tf.saved_model.save(). To confirm, there should be a file named \"keras_metadata.pb\" in the SavedModel directory.\n"
          ]
        },
        {
          "name": "stderr",
          "output_type": "stream",
          "text": [
            "WARNING:tensorflow:SavedModel saved prior to TF 2.5 detected when loading Keras model. Please ensure that you are saving the model with model.save() or tf.keras.models.save_model(), *NOT* tf.saved_model.save(). To confirm, there should be a file named \"keras_metadata.pb\" in the SavedModel directory.\n"
          ]
        },
        {
          "name": "stdout",
          "output_type": "stream",
          "text": [
            "WARNING:tensorflow:Inconsistent references when loading the checkpoint into this object graph. Either the Trackable object references in the Python program have changed in an incompatible way, or the checkpoint was generated in an incompatible program.\n",
            "\n",
            "Two checkpoint references resolved to different objects (<tensorflow.python.keras.saving.saved_model.load.TensorFlowTransform>TransformFeaturesLayer object at 0x7f04a41af4c0> and <tensorflow.python.keras.engine.input_layer.InputLayer object at 0x7f0492e826a0>).\n"
          ]
        },
        {
          "name": "stderr",
          "output_type": "stream",
          "text": [
            "WARNING:tensorflow:Inconsistent references when loading the checkpoint into this object graph. Either the Trackable object references in the Python program have changed in an incompatible way, or the checkpoint was generated in an incompatible program.\n",
            "\n",
            "Two checkpoint references resolved to different objects (<tensorflow.python.keras.saving.saved_model.load.TensorFlowTransform>TransformFeaturesLayer object at 0x7f04a41af4c0> and <tensorflow.python.keras.engine.input_layer.InputLayer object at 0x7f0492e826a0>).\n",
            "WARNING:absl:Tensorflow version (2.5.3) found. Note that TFMA support for TF 2.0 is currently in beta\n"
          ]
        },
        {
          "name": "stdout",
          "output_type": "stream",
          "text": [
            "WARNING:tensorflow:SavedModel saved prior to TF 2.5 detected when loading Keras model. Please ensure that you are saving the model with model.save() or tf.keras.models.save_model(), *NOT* tf.saved_model.save(). To confirm, there should be a file named \"keras_metadata.pb\" in the SavedModel directory.\n"
          ]
        },
        {
          "name": "stderr",
          "output_type": "stream",
          "text": [
            "WARNING:tensorflow:SavedModel saved prior to TF 2.5 detected when loading Keras model. Please ensure that you are saving the model with model.save() or tf.keras.models.save_model(), *NOT* tf.saved_model.save(). To confirm, there should be a file named \"keras_metadata.pb\" in the SavedModel directory.\n"
          ]
        },
        {
          "name": "stdout",
          "output_type": "stream",
          "text": [
            "WARNING:tensorflow:Inconsistent references when loading the checkpoint into this object graph. Either the Trackable object references in the Python program have changed in an incompatible way, or the checkpoint was generated in an incompatible program.\n",
            "\n",
            "Two checkpoint references resolved to different objects (<tensorflow.python.keras.saving.saved_model.load.TensorFlowTransform>TransformFeaturesLayer object at 0x7f03753bcf40> and <tensorflow.python.keras.engine.input_layer.InputLayer object at 0x7f04983461c0>).\n"
          ]
        },
        {
          "name": "stderr",
          "output_type": "stream",
          "text": [
            "WARNING:tensorflow:Inconsistent references when loading the checkpoint into this object graph. Either the Trackable object references in the Python program have changed in an incompatible way, or the checkpoint was generated in an incompatible program.\n",
            "\n",
            "Two checkpoint references resolved to different objects (<tensorflow.python.keras.saving.saved_model.load.TensorFlowTransform>TransformFeaturesLayer object at 0x7f03753bcf40> and <tensorflow.python.keras.engine.input_layer.InputLayer object at 0x7f04983461c0>).\n",
            "WARNING:root:Make sure that locally built Python SDK docker image has Python 3.8 interpreter.\n"
          ]
        },
        {
          "name": "stdout",
          "output_type": "stream",
          "text": [
            "WARNING:tensorflow:SavedModel saved prior to TF 2.5 detected when loading Keras model. Please ensure that you are saving the model with model.save() or tf.keras.models.save_model(), *NOT* tf.saved_model.save(). To confirm, there should be a file named \"keras_metadata.pb\" in the SavedModel directory.\n"
          ]
        },
        {
          "name": "stderr",
          "output_type": "stream",
          "text": [
            "WARNING:tensorflow:SavedModel saved prior to TF 2.5 detected when loading Keras model. Please ensure that you are saving the model with model.save() or tf.keras.models.save_model(), *NOT* tf.saved_model.save(). To confirm, there should be a file named \"keras_metadata.pb\" in the SavedModel directory.\n"
          ]
        },
        {
          "name": "stdout",
          "output_type": "stream",
          "text": [
            "WARNING:tensorflow:Inconsistent references when loading the checkpoint into this object graph. Either the Trackable object references in the Python program have changed in an incompatible way, or the checkpoint was generated in an incompatible program.\n",
            "\n",
            "Two checkpoint references resolved to different objects (<tensorflow.python.keras.saving.saved_model.load.TensorFlowTransform>TransformFeaturesLayer object at 0x7f04926dce20> and <tensorflow.python.keras.engine.input_layer.InputLayer object at 0x7f039730e1f0>).\n"
          ]
        },
        {
          "name": "stderr",
          "output_type": "stream",
          "text": [
            "WARNING:tensorflow:Inconsistent references when loading the checkpoint into this object graph. Either the Trackable object references in the Python program have changed in an incompatible way, or the checkpoint was generated in an incompatible program.\n",
            "\n",
            "Two checkpoint references resolved to different objects (<tensorflow.python.keras.saving.saved_model.load.TensorFlowTransform>TransformFeaturesLayer object at 0x7f04926dce20> and <tensorflow.python.keras.engine.input_layer.InputLayer object at 0x7f039730e1f0>).\n"
          ]
        },
        {
          "name": "stdout",
          "output_type": "stream",
          "text": [
            "WARNING:tensorflow:SavedModel saved prior to TF 2.5 detected when loading Keras model. Please ensure that you are saving the model with model.save() or tf.keras.models.save_model(), *NOT* tf.saved_model.save(). To confirm, there should be a file named \"keras_metadata.pb\" in the SavedModel directory.\n"
          ]
        },
        {
          "name": "stderr",
          "output_type": "stream",
          "text": [
            "WARNING:tensorflow:SavedModel saved prior to TF 2.5 detected when loading Keras model. Please ensure that you are saving the model with model.save() or tf.keras.models.save_model(), *NOT* tf.saved_model.save(). To confirm, there should be a file named \"keras_metadata.pb\" in the SavedModel directory.\n"
          ]
        },
        {
          "name": "stdout",
          "output_type": "stream",
          "text": [
            "WARNING:tensorflow:Inconsistent references when loading the checkpoint into this object graph. Either the Trackable object references in the Python program have changed in an incompatible way, or the checkpoint was generated in an incompatible program.\n",
            "\n",
            "Two checkpoint references resolved to different objects (<tensorflow.python.keras.saving.saved_model.load.TensorFlowTransform>TransformFeaturesLayer object at 0x7f047fef0f10> and <tensorflow.python.keras.engine.input_layer.InputLayer object at 0x7f039771d850>).\n"
          ]
        },
        {
          "name": "stderr",
          "output_type": "stream",
          "text": [
            "WARNING:tensorflow:Inconsistent references when loading the checkpoint into this object graph. Either the Trackable object references in the Python program have changed in an incompatible way, or the checkpoint was generated in an incompatible program.\n",
            "\n",
            "Two checkpoint references resolved to different objects (<tensorflow.python.keras.saving.saved_model.load.TensorFlowTransform>TransformFeaturesLayer object at 0x7f047fef0f10> and <tensorflow.python.keras.engine.input_layer.InputLayer object at 0x7f039771d850>).\n"
          ]
        },
        {
          "name": "stdout",
          "output_type": "stream",
          "text": [
            "WARNING:tensorflow:SavedModel saved prior to TF 2.5 detected when loading Keras model. Please ensure that you are saving the model with model.save() or tf.keras.models.save_model(), *NOT* tf.saved_model.save(). To confirm, there should be a file named \"keras_metadata.pb\" in the SavedModel directory.\n"
          ]
        },
        {
          "name": "stderr",
          "output_type": "stream",
          "text": [
            "WARNING:tensorflow:SavedModel saved prior to TF 2.5 detected when loading Keras model. Please ensure that you are saving the model with model.save() or tf.keras.models.save_model(), *NOT* tf.saved_model.save(). To confirm, there should be a file named \"keras_metadata.pb\" in the SavedModel directory.\n"
          ]
        },
        {
          "name": "stdout",
          "output_type": "stream",
          "text": [
            "WARNING:tensorflow:Inconsistent references when loading the checkpoint into this object graph. Either the Trackable object references in the Python program have changed in an incompatible way, or the checkpoint was generated in an incompatible program.\n",
            "\n",
            "Two checkpoint references resolved to different objects (<tensorflow.python.keras.saving.saved_model.load.TensorFlowTransform>TransformFeaturesLayer object at 0x7f0376446ee0> and <tensorflow.python.keras.engine.input_layer.InputLayer object at 0x7f037643dbe0>).\n"
          ]
        },
        {
          "name": "stderr",
          "output_type": "stream",
          "text": [
            "WARNING:tensorflow:Inconsistent references when loading the checkpoint into this object graph. Either the Trackable object references in the Python program have changed in an incompatible way, or the checkpoint was generated in an incompatible program.\n",
            "\n",
            "Two checkpoint references resolved to different objects (<tensorflow.python.keras.saving.saved_model.load.TensorFlowTransform>TransformFeaturesLayer object at 0x7f0376446ee0> and <tensorflow.python.keras.engine.input_layer.InputLayer object at 0x7f037643dbe0>).\n"
          ]
        },
        {
          "name": "stdout",
          "output_type": "stream",
          "text": [
            "WARNING:tensorflow:SavedModel saved prior to TF 2.5 detected when loading Keras model. Please ensure that you are saving the model with model.save() or tf.keras.models.save_model(), *NOT* tf.saved_model.save(). To confirm, there should be a file named \"keras_metadata.pb\" in the SavedModel directory.\n"
          ]
        },
        {
          "name": "stderr",
          "output_type": "stream",
          "text": [
            "WARNING:tensorflow:SavedModel saved prior to TF 2.5 detected when loading Keras model. Please ensure that you are saving the model with model.save() or tf.keras.models.save_model(), *NOT* tf.saved_model.save(). To confirm, there should be a file named \"keras_metadata.pb\" in the SavedModel directory.\n"
          ]
        },
        {
          "name": "stdout",
          "output_type": "stream",
          "text": [
            "WARNING:tensorflow:Inconsistent references when loading the checkpoint into this object graph. Either the Trackable object references in the Python program have changed in an incompatible way, or the checkpoint was generated in an incompatible program.\n",
            "\n",
            "Two checkpoint references resolved to different objects (<tensorflow.python.keras.saving.saved_model.load.TensorFlowTransform>TransformFeaturesLayer object at 0x7f03ccf7f280> and <tensorflow.python.keras.engine.input_layer.InputLayer object at 0x7f0376f13040>).\n"
          ]
        },
        {
          "name": "stderr",
          "output_type": "stream",
          "text": [
            "WARNING:tensorflow:Inconsistent references when loading the checkpoint into this object graph. Either the Trackable object references in the Python program have changed in an incompatible way, or the checkpoint was generated in an incompatible program.\n",
            "\n",
            "Two checkpoint references resolved to different objects (<tensorflow.python.keras.saving.saved_model.load.TensorFlowTransform>TransformFeaturesLayer object at 0x7f03ccf7f280> and <tensorflow.python.keras.engine.input_layer.InputLayer object at 0x7f0376f13040>).\n"
          ]
        },
        {
          "name": "stdout",
          "output_type": "stream",
          "text": [
            "WARNING:tensorflow:SavedModel saved prior to TF 2.5 detected when loading Keras model. Please ensure that you are saving the model with model.save() or tf.keras.models.save_model(), *NOT* tf.saved_model.save(). To confirm, there should be a file named \"keras_metadata.pb\" in the SavedModel directory.\n"
          ]
        },
        {
          "name": "stderr",
          "output_type": "stream",
          "text": [
            "WARNING:tensorflow:SavedModel saved prior to TF 2.5 detected when loading Keras model. Please ensure that you are saving the model with model.save() or tf.keras.models.save_model(), *NOT* tf.saved_model.save(). To confirm, there should be a file named \"keras_metadata.pb\" in the SavedModel directory.\n"
          ]
        },
        {
          "name": "stdout",
          "output_type": "stream",
          "text": [
            "WARNING:tensorflow:Inconsistent references when loading the checkpoint into this object graph. Either the Trackable object references in the Python program have changed in an incompatible way, or the checkpoint was generated in an incompatible program.\n",
            "\n",
            "Two checkpoint references resolved to different objects (<tensorflow.python.keras.saving.saved_model.load.TensorFlowTransform>TransformFeaturesLayer object at 0x7f03956a0ac0> and <tensorflow.python.keras.engine.input_layer.InputLayer object at 0x7f04af502e20>).\n"
          ]
        },
        {
          "name": "stderr",
          "output_type": "stream",
          "text": [
            "WARNING:tensorflow:Inconsistent references when loading the checkpoint into this object graph. Either the Trackable object references in the Python program have changed in an incompatible way, or the checkpoint was generated in an incompatible program.\n",
            "\n",
            "Two checkpoint references resolved to different objects (<tensorflow.python.keras.saving.saved_model.load.TensorFlowTransform>TransformFeaturesLayer object at 0x7f03956a0ac0> and <tensorflow.python.keras.engine.input_layer.InputLayer object at 0x7f04af502e20>).\n"
          ]
        },
        {
          "name": "stdout",
          "output_type": "stream",
          "text": [
            "WARNING:tensorflow:SavedModel saved prior to TF 2.5 detected when loading Keras model. Please ensure that you are saving the model with model.save() or tf.keras.models.save_model(), *NOT* tf.saved_model.save(). To confirm, there should be a file named \"keras_metadata.pb\" in the SavedModel directory.\n"
          ]
        },
        {
          "name": "stderr",
          "output_type": "stream",
          "text": [
            "WARNING:tensorflow:SavedModel saved prior to TF 2.5 detected when loading Keras model. Please ensure that you are saving the model with model.save() or tf.keras.models.save_model(), *NOT* tf.saved_model.save(). To confirm, there should be a file named \"keras_metadata.pb\" in the SavedModel directory.\n"
          ]
        },
        {
          "name": "stdout",
          "output_type": "stream",
          "text": [
            "WARNING:tensorflow:Inconsistent references when loading the checkpoint into this object graph. Either the Trackable object references in the Python program have changed in an incompatible way, or the checkpoint was generated in an incompatible program.\n",
            "\n",
            "Two checkpoint references resolved to different objects (<tensorflow.python.keras.saving.saved_model.load.TensorFlowTransform>TransformFeaturesLayer object at 0x7f04aec79220> and <tensorflow.python.keras.engine.input_layer.InputLayer object at 0x7f04aec46eb0>).\n"
          ]
        },
        {
          "name": "stderr",
          "output_type": "stream",
          "text": [
            "WARNING:tensorflow:Inconsistent references when loading the checkpoint into this object graph. Either the Trackable object references in the Python program have changed in an incompatible way, or the checkpoint was generated in an incompatible program.\n",
            "\n",
            "Two checkpoint references resolved to different objects (<tensorflow.python.keras.saving.saved_model.load.TensorFlowTransform>TransformFeaturesLayer object at 0x7f04aec79220> and <tensorflow.python.keras.engine.input_layer.InputLayer object at 0x7f04aec46eb0>).\n"
          ]
        },
        {
          "name": "stdout",
          "output_type": "stream",
          "text": [
            "WARNING:tensorflow:SavedModel saved prior to TF 2.5 detected when loading Keras model. Please ensure that you are saving the model with model.save() or tf.keras.models.save_model(), *NOT* tf.saved_model.save(). To confirm, there should be a file named \"keras_metadata.pb\" in the SavedModel directory.\n"
          ]
        },
        {
          "name": "stderr",
          "output_type": "stream",
          "text": [
            "WARNING:tensorflow:SavedModel saved prior to TF 2.5 detected when loading Keras model. Please ensure that you are saving the model with model.save() or tf.keras.models.save_model(), *NOT* tf.saved_model.save(). To confirm, there should be a file named \"keras_metadata.pb\" in the SavedModel directory.\n"
          ]
        },
        {
          "name": "stdout",
          "output_type": "stream",
          "text": [
            "WARNING:tensorflow:Inconsistent references when loading the checkpoint into this object graph. Either the Trackable object references in the Python program have changed in an incompatible way, or the checkpoint was generated in an incompatible program.\n",
            "\n",
            "Two checkpoint references resolved to different objects (<tensorflow.python.keras.saving.saved_model.load.TensorFlowTransform>TransformFeaturesLayer object at 0x7f04525a3c70> and <tensorflow.python.keras.engine.input_layer.InputLayer object at 0x7f03954c45e0>).\n"
          ]
        },
        {
          "name": "stderr",
          "output_type": "stream",
          "text": [
            "WARNING:tensorflow:Inconsistent references when loading the checkpoint into this object graph. Either the Trackable object references in the Python program have changed in an incompatible way, or the checkpoint was generated in an incompatible program.\n",
            "\n",
            "Two checkpoint references resolved to different objects (<tensorflow.python.keras.saving.saved_model.load.TensorFlowTransform>TransformFeaturesLayer object at 0x7f04525a3c70> and <tensorflow.python.keras.engine.input_layer.InputLayer object at 0x7f03954c45e0>).\n",
            "WARNING:absl:Tensorflow version (2.5.3) found. Note that TFMA support for TF 2.0 is currently in beta\n"
          ]
        },
        {
          "name": "stdout",
          "output_type": "stream",
          "text": [
            "WARNING:tensorflow:SavedModel saved prior to TF 2.5 detected when loading Keras model. Please ensure that you are saving the model with model.save() or tf.keras.models.save_model(), *NOT* tf.saved_model.save(). To confirm, there should be a file named \"keras_metadata.pb\" in the SavedModel directory.\n"
          ]
        },
        {
          "name": "stderr",
          "output_type": "stream",
          "text": [
            "WARNING:tensorflow:SavedModel saved prior to TF 2.5 detected when loading Keras model. Please ensure that you are saving the model with model.save() or tf.keras.models.save_model(), *NOT* tf.saved_model.save(). To confirm, there should be a file named \"keras_metadata.pb\" in the SavedModel directory.\n"
          ]
        },
        {
          "name": "stdout",
          "output_type": "stream",
          "text": [
            "WARNING:tensorflow:Inconsistent references when loading the checkpoint into this object graph. Either the Trackable object references in the Python program have changed in an incompatible way, or the checkpoint was generated in an incompatible program.\n",
            "\n",
            "Two checkpoint references resolved to different objects (<tensorflow.python.keras.saving.saved_model.load.TensorFlowTransform>TransformFeaturesLayer object at 0x7f049262d280> and <tensorflow.python.keras.engine.input_layer.InputLayer object at 0x7f03ccf46eb0>).\n"
          ]
        },
        {
          "name": "stderr",
          "output_type": "stream",
          "text": [
            "WARNING:tensorflow:Inconsistent references when loading the checkpoint into this object graph. Either the Trackable object references in the Python program have changed in an incompatible way, or the checkpoint was generated in an incompatible program.\n",
            "\n",
            "Two checkpoint references resolved to different objects (<tensorflow.python.keras.saving.saved_model.load.TensorFlowTransform>TransformFeaturesLayer object at 0x7f049262d280> and <tensorflow.python.keras.engine.input_layer.InputLayer object at 0x7f03ccf46eb0>).\n",
            "WARNING:root:Make sure that locally built Python SDK docker image has Python 3.8 interpreter.\n"
          ]
        },
        {
          "name": "stdout",
          "output_type": "stream",
          "text": [
            "WARNING:tensorflow:SavedModel saved prior to TF 2.5 detected when loading Keras model. Please ensure that you are saving the model with model.save() or tf.keras.models.save_model(), *NOT* tf.saved_model.save(). To confirm, there should be a file named \"keras_metadata.pb\" in the SavedModel directory.\n"
          ]
        },
        {
          "name": "stderr",
          "output_type": "stream",
          "text": [
            "WARNING:tensorflow:SavedModel saved prior to TF 2.5 detected when loading Keras model. Please ensure that you are saving the model with model.save() or tf.keras.models.save_model(), *NOT* tf.saved_model.save(). To confirm, there should be a file named \"keras_metadata.pb\" in the SavedModel directory.\n"
          ]
        },
        {
          "name": "stdout",
          "output_type": "stream",
          "text": [
            "WARNING:tensorflow:Inconsistent references when loading the checkpoint into this object graph. Either the Trackable object references in the Python program have changed in an incompatible way, or the checkpoint was generated in an incompatible program.\n",
            "\n",
            "Two checkpoint references resolved to different objects (<tensorflow.python.keras.saving.saved_model.load.TensorFlowTransform>TransformFeaturesLayer object at 0x7f037637bfd0> and <tensorflow.python.keras.engine.input_layer.InputLayer object at 0x7f0492534340>).\n"
          ]
        },
        {
          "name": "stderr",
          "output_type": "stream",
          "text": [
            "WARNING:tensorflow:Inconsistent references when loading the checkpoint into this object graph. Either the Trackable object references in the Python program have changed in an incompatible way, or the checkpoint was generated in an incompatible program.\n",
            "\n",
            "Two checkpoint references resolved to different objects (<tensorflow.python.keras.saving.saved_model.load.TensorFlowTransform>TransformFeaturesLayer object at 0x7f037637bfd0> and <tensorflow.python.keras.engine.input_layer.InputLayer object at 0x7f0492534340>).\n"
          ]
        },
        {
          "name": "stdout",
          "output_type": "stream",
          "text": [
            "WARNING:tensorflow:SavedModel saved prior to TF 2.5 detected when loading Keras model. Please ensure that you are saving the model with model.save() or tf.keras.models.save_model(), *NOT* tf.saved_model.save(). To confirm, there should be a file named \"keras_metadata.pb\" in the SavedModel directory.\n"
          ]
        },
        {
          "name": "stderr",
          "output_type": "stream",
          "text": [
            "WARNING:tensorflow:SavedModel saved prior to TF 2.5 detected when loading Keras model. Please ensure that you are saving the model with model.save() or tf.keras.models.save_model(), *NOT* tf.saved_model.save(). To confirm, there should be a file named \"keras_metadata.pb\" in the SavedModel directory.\n"
          ]
        },
        {
          "name": "stdout",
          "output_type": "stream",
          "text": [
            "WARNING:tensorflow:Inconsistent references when loading the checkpoint into this object graph. Either the Trackable object references in the Python program have changed in an incompatible way, or the checkpoint was generated in an incompatible program.\n",
            "\n",
            "Two checkpoint references resolved to different objects (<tensorflow.python.keras.saving.saved_model.load.TensorFlowTransform>TransformFeaturesLayer object at 0x7f037620bd60> and <tensorflow.python.keras.engine.input_layer.InputLayer object at 0x7f039567dfd0>).\n"
          ]
        },
        {
          "name": "stderr",
          "output_type": "stream",
          "text": [
            "WARNING:tensorflow:Inconsistent references when loading the checkpoint into this object graph. Either the Trackable object references in the Python program have changed in an incompatible way, or the checkpoint was generated in an incompatible program.\n",
            "\n",
            "Two checkpoint references resolved to different objects (<tensorflow.python.keras.saving.saved_model.load.TensorFlowTransform>TransformFeaturesLayer object at 0x7f037620bd60> and <tensorflow.python.keras.engine.input_layer.InputLayer object at 0x7f039567dfd0>).\n"
          ]
        },
        {
          "name": "stdout",
          "output_type": "stream",
          "text": [
            "WARNING:tensorflow:SavedModel saved prior to TF 2.5 detected when loading Keras model. Please ensure that you are saving the model with model.save() or tf.keras.models.save_model(), *NOT* tf.saved_model.save(). To confirm, there should be a file named \"keras_metadata.pb\" in the SavedModel directory.\n"
          ]
        },
        {
          "name": "stderr",
          "output_type": "stream",
          "text": [
            "WARNING:tensorflow:SavedModel saved prior to TF 2.5 detected when loading Keras model. Please ensure that you are saving the model with model.save() or tf.keras.models.save_model(), *NOT* tf.saved_model.save(). To confirm, there should be a file named \"keras_metadata.pb\" in the SavedModel directory.\n"
          ]
        },
        {
          "name": "stdout",
          "output_type": "stream",
          "text": [
            "WARNING:tensorflow:Inconsistent references when loading the checkpoint into this object graph. Either the Trackable object references in the Python program have changed in an incompatible way, or the checkpoint was generated in an incompatible program.\n",
            "\n",
            "Two checkpoint references resolved to different objects (<tensorflow.python.keras.saving.saved_model.load.TensorFlowTransform>TransformFeaturesLayer object at 0x7f0493780df0> and <tensorflow.python.keras.engine.input_layer.InputLayer object at 0x7f04937baee0>).\n"
          ]
        },
        {
          "name": "stderr",
          "output_type": "stream",
          "text": [
            "WARNING:tensorflow:Inconsistent references when loading the checkpoint into this object graph. Either the Trackable object references in the Python program have changed in an incompatible way, or the checkpoint was generated in an incompatible program.\n",
            "\n",
            "Two checkpoint references resolved to different objects (<tensorflow.python.keras.saving.saved_model.load.TensorFlowTransform>TransformFeaturesLayer object at 0x7f0493780df0> and <tensorflow.python.keras.engine.input_layer.InputLayer object at 0x7f04937baee0>).\n"
          ]
        },
        {
          "name": "stdout",
          "output_type": "stream",
          "text": [
            "WARNING:tensorflow:SavedModel saved prior to TF 2.5 detected when loading Keras model. Please ensure that you are saving the model with model.save() or tf.keras.models.save_model(), *NOT* tf.saved_model.save(). To confirm, there should be a file named \"keras_metadata.pb\" in the SavedModel directory.\n"
          ]
        },
        {
          "name": "stderr",
          "output_type": "stream",
          "text": [
            "WARNING:tensorflow:SavedModel saved prior to TF 2.5 detected when loading Keras model. Please ensure that you are saving the model with model.save() or tf.keras.models.save_model(), *NOT* tf.saved_model.save(). To confirm, there should be a file named \"keras_metadata.pb\" in the SavedModel directory.\n"
          ]
        },
        {
          "name": "stdout",
          "output_type": "stream",
          "text": [
            "WARNING:tensorflow:Inconsistent references when loading the checkpoint into this object graph. Either the Trackable object references in the Python program have changed in an incompatible way, or the checkpoint was generated in an incompatible program.\n",
            "\n",
            "Two checkpoint references resolved to different objects (<tensorflow.python.keras.saving.saved_model.load.TensorFlowTransform>TransformFeaturesLayer object at 0x7f03759f0be0> and <tensorflow.python.keras.engine.input_layer.InputLayer object at 0x7f0395513520>).\n"
          ]
        },
        {
          "name": "stderr",
          "output_type": "stream",
          "text": [
            "WARNING:tensorflow:Inconsistent references when loading the checkpoint into this object graph. Either the Trackable object references in the Python program have changed in an incompatible way, or the checkpoint was generated in an incompatible program.\n",
            "\n",
            "Two checkpoint references resolved to different objects (<tensorflow.python.keras.saving.saved_model.load.TensorFlowTransform>TransformFeaturesLayer object at 0x7f03759f0be0> and <tensorflow.python.keras.engine.input_layer.InputLayer object at 0x7f0395513520>).\n"
          ]
        },
        {
          "name": "stdout",
          "output_type": "stream",
          "text": [
            "WARNING:tensorflow:SavedModel saved prior to TF 2.5 detected when loading Keras model. Please ensure that you are saving the model with model.save() or tf.keras.models.save_model(), *NOT* tf.saved_model.save(). To confirm, there should be a file named \"keras_metadata.pb\" in the SavedModel directory.\n"
          ]
        },
        {
          "name": "stderr",
          "output_type": "stream",
          "text": [
            "WARNING:tensorflow:SavedModel saved prior to TF 2.5 detected when loading Keras model. Please ensure that you are saving the model with model.save() or tf.keras.models.save_model(), *NOT* tf.saved_model.save(). To confirm, there should be a file named \"keras_metadata.pb\" in the SavedModel directory.\n"
          ]
        },
        {
          "name": "stdout",
          "output_type": "stream",
          "text": [
            "WARNING:tensorflow:Inconsistent references when loading the checkpoint into this object graph. Either the Trackable object references in the Python program have changed in an incompatible way, or the checkpoint was generated in an incompatible program.\n",
            "\n",
            "Two checkpoint references resolved to different objects (<tensorflow.python.keras.saving.saved_model.load.TensorFlowTransform>TransformFeaturesLayer object at 0x7f04a4051610> and <tensorflow.python.keras.engine.input_layer.InputLayer object at 0x7f04ac2b89d0>).\n"
          ]
        },
        {
          "name": "stderr",
          "output_type": "stream",
          "text": [
            "WARNING:tensorflow:Inconsistent references when loading the checkpoint into this object graph. Either the Trackable object references in the Python program have changed in an incompatible way, or the checkpoint was generated in an incompatible program.\n",
            "\n",
            "Two checkpoint references resolved to different objects (<tensorflow.python.keras.saving.saved_model.load.TensorFlowTransform>TransformFeaturesLayer object at 0x7f04a4051610> and <tensorflow.python.keras.engine.input_layer.InputLayer object at 0x7f04ac2b89d0>).\n"
          ]
        },
        {
          "name": "stdout",
          "output_type": "stream",
          "text": [
            "WARNING:tensorflow:SavedModel saved prior to TF 2.5 detected when loading Keras model. Please ensure that you are saving the model with model.save() or tf.keras.models.save_model(), *NOT* tf.saved_model.save(). To confirm, there should be a file named \"keras_metadata.pb\" in the SavedModel directory.\n"
          ]
        },
        {
          "name": "stderr",
          "output_type": "stream",
          "text": [
            "WARNING:tensorflow:SavedModel saved prior to TF 2.5 detected when loading Keras model. Please ensure that you are saving the model with model.save() or tf.keras.models.save_model(), *NOT* tf.saved_model.save(). To confirm, there should be a file named \"keras_metadata.pb\" in the SavedModel directory.\n"
          ]
        },
        {
          "name": "stdout",
          "output_type": "stream",
          "text": [
            "WARNING:tensorflow:Inconsistent references when loading the checkpoint into this object graph. Either the Trackable object references in the Python program have changed in an incompatible way, or the checkpoint was generated in an incompatible program.\n",
            "\n",
            "Two checkpoint references resolved to different objects (<tensorflow.python.keras.saving.saved_model.load.TensorFlowTransform>TransformFeaturesLayer object at 0x7f03940a0520> and <tensorflow.python.keras.engine.input_layer.InputLayer object at 0x7f0396ff7760>).\n"
          ]
        },
        {
          "name": "stderr",
          "output_type": "stream",
          "text": [
            "WARNING:tensorflow:Inconsistent references when loading the checkpoint into this object graph. Either the Trackable object references in the Python program have changed in an incompatible way, or the checkpoint was generated in an incompatible program.\n",
            "\n",
            "Two checkpoint references resolved to different objects (<tensorflow.python.keras.saving.saved_model.load.TensorFlowTransform>TransformFeaturesLayer object at 0x7f03940a0520> and <tensorflow.python.keras.engine.input_layer.InputLayer object at 0x7f0396ff7760>).\n"
          ]
        }
      ],
      "source": [
        "import os\n",
        "\n",
        "# Put data paths we prepared earlier in a list\n",
        "TFRECORDS = [TFRECORD_DAY1, TFRECORD_DAY2, TFRECORD_DAY3]\n",
        "\n",
        "# Initialize output paths list for each result \n",
        "output_paths = []\n",
        "\n",
        "# Run eval on each tfrecord separately\n",
        "for num, tfrecord in enumerate(TFRECORDS):\n",
        "\n",
        "  # Use the same model as before\n",
        "  eval_shared_model = tfma.default_eval_shared_model(\n",
        "      eval_saved_model_path=MODEL1_FILE,\n",
        "      eval_config=eval_config)\n",
        "\n",
        "  # Prepare output path name\n",
        "  output_path = os.path.join('.', 'time_series', str(num))\n",
        "  output_paths.append(output_path)\n",
        "\n",
        "  # Run TFMA on the current tfrecord in the loop\n",
        "  tfma.run_model_analysis(eval_shared_model=eval_shared_model,\n",
        "                          eval_config=eval_config,\n",
        "                          data_location=tfrecord,\n",
        "                          output_path=output_path)"
      ]
    },
    {
      "cell_type": "markdown",
      "metadata": {
        "id": "RsO-gqCRK0ar"
      },
      "source": [
        "First, imagine that you've trained and deployed your model yesterday. And now, you want to see how it's doing on the new data coming in today.  The visualization will start by displaying AUC. From the UI, you can:\n",
        "\n",
        "* Add other metrics using the \"Add metric series\" menu.\n",
        "* Close unwanted graphs by clicking on x\n",
        "* Hover over data points (the ends of line segments in the graph) to get more details\n",
        "\n",
        "Note: In the metric series charts, the x-axis is just the model directory name of the model that you're examining."
      ]
    },
    {
      "cell_type": "code",
      "execution_count": 25,
      "metadata": {
        "id": "KjEws8T0cDm9"
      },
      "outputs": [
        {
          "data": {
            "application/vnd.jupyter.widget-view+json": {
              "model_id": "a4c31b76cc8940f1801c2dda71ed3e14",
              "version_major": 2,
              "version_minor": 0
            },
            "text/plain": [
              "TimeSeriesViewer(config={'isModelCentric': True}, data=[{'metrics': {'': {'': {'binary_accuracy': {'doubleValu…"
            ]
          },
          "metadata": {},
          "output_type": "display_data"
        }
      ],
      "source": [
        "# Load results for day 1 and day 2 datasets\n",
        "eval_results_from_disk = tfma.load_eval_results(output_paths[:2])\n",
        "\n",
        "# Visualize results\n",
        "tfma.view.render_time_series(eval_results_from_disk)"
      ]
    },
    {
      "cell_type": "markdown",
      "metadata": {
        "id": "EQ7kZxESN9Bx"
      },
      "source": [
        "Now imagine that another day has passed and you want to see how it's doing on the new data coming in today."
      ]
    },
    {
      "cell_type": "code",
      "execution_count": 26,
      "metadata": {
        "id": "VjQmlXMmLwHf"
      },
      "outputs": [
        {
          "data": {
            "application/vnd.jupyter.widget-view+json": {
              "model_id": "d431be50ae3140249c1c7b55d85001e6",
              "version_major": 2,
              "version_minor": 0
            },
            "text/plain": [
              "TimeSeriesViewer(config={'isModelCentric': True}, data=[{'metrics': {'': {'': {'binary_accuracy': {'doubleValu…"
            ]
          },
          "metadata": {},
          "output_type": "display_data"
        }
      ],
      "source": [
        "# Load results for all three days\n",
        "eval_results_from_disk = tfma.load_eval_results(output_paths)\n",
        "\n",
        "# Visualize the results\n",
        "tfma.view.render_time_series(eval_results_from_disk)"
      ]
    },
    {
      "cell_type": "markdown",
      "metadata": {
        "id": "oWD68u-emPN9"
      },
      "source": [
        "This type of investigation lets you see if your model is behaving poorly on new data. You can make the decision to retrain your production model based on these results. Retraining might not always produce the best results and you also need a way to detect that. You will see how TFMA helps in that regard in the next section."
      ]
    },
    {
      "cell_type": "markdown",
      "metadata": {
        "id": "N1jpShgQxlVL"
      },
      "source": [
        "## Model Validation\n",
        "\n",
        "TFMA can be configured to evaluate multiple models at the same time. Typically, this is done to compare a candidate model against a baseline (such as the currently serving model) to determine what the performance differences in metrics are. When [thresholds](https://www.tensorflow.org/tfx/model_analysis/api_docs/python/tfma/MetricThreshold) are configured, TFMA will produce a [`tfma.ValidationResult`](https://www.tensorflow.org/tfx/model_analysis/api_docs/python/tfma/ValidationResult) record indicating whether the performance matches expecations.\n",
        "\n",
        "Below, you will re-configure the EvalConfig settings to compare two models: a candidate and a baseline. You will also validate the candidate's performance against the baseline by setting a [`tmfa.MetricThreshold`](https://www.tensorflow.org/tfx/model_analysis/api_docs/python/tfma/MetricThreshold) on the `BinaryAccuracy` metric. This helps in determining if your new model can indeed replace your currently deployed model."
      ]
    },
    {
      "cell_type": "code",
      "execution_count": 27,
      "metadata": {
        "id": "kkatdR6Y1-4G"
      },
      "outputs": [
        {
          "name": "stdout",
          "output_type": "stream",
          "text": [
            "WARNING:tensorflow:SavedModel saved prior to TF 2.5 detected when loading Keras model. Please ensure that you are saving the model with model.save() or tf.keras.models.save_model(), *NOT* tf.saved_model.save(). To confirm, there should be a file named \"keras_metadata.pb\" in the SavedModel directory.\n"
          ]
        },
        {
          "name": "stderr",
          "output_type": "stream",
          "text": [
            "WARNING:tensorflow:SavedModel saved prior to TF 2.5 detected when loading Keras model. Please ensure that you are saving the model with model.save() or tf.keras.models.save_model(), *NOT* tf.saved_model.save(). To confirm, there should be a file named \"keras_metadata.pb\" in the SavedModel directory.\n"
          ]
        },
        {
          "name": "stdout",
          "output_type": "stream",
          "text": [
            "WARNING:tensorflow:Inconsistent references when loading the checkpoint into this object graph. Either the Trackable object references in the Python program have changed in an incompatible way, or the checkpoint was generated in an incompatible program.\n",
            "\n",
            "Two checkpoint references resolved to different objects (<tensorflow.python.keras.saving.saved_model.load.TensorFlowTransform>TransformFeaturesLayer object at 0x7f039446f490> and <tensorflow.python.keras.engine.input_layer.InputLayer object at 0x7f0492650a30>).\n"
          ]
        },
        {
          "name": "stderr",
          "output_type": "stream",
          "text": [
            "WARNING:tensorflow:Inconsistent references when loading the checkpoint into this object graph. Either the Trackable object references in the Python program have changed in an incompatible way, or the checkpoint was generated in an incompatible program.\n",
            "\n",
            "Two checkpoint references resolved to different objects (<tensorflow.python.keras.saving.saved_model.load.TensorFlowTransform>TransformFeaturesLayer object at 0x7f039446f490> and <tensorflow.python.keras.engine.input_layer.InputLayer object at 0x7f0492650a30>).\n"
          ]
        },
        {
          "name": "stdout",
          "output_type": "stream",
          "text": [
            "WARNING:tensorflow:SavedModel saved prior to TF 2.5 detected when loading Keras model. Please ensure that you are saving the model with model.save() or tf.keras.models.save_model(), *NOT* tf.saved_model.save(). To confirm, there should be a file named \"keras_metadata.pb\" in the SavedModel directory.\n"
          ]
        },
        {
          "name": "stderr",
          "output_type": "stream",
          "text": [
            "WARNING:tensorflow:SavedModel saved prior to TF 2.5 detected when loading Keras model. Please ensure that you are saving the model with model.save() or tf.keras.models.save_model(), *NOT* tf.saved_model.save(). To confirm, there should be a file named \"keras_metadata.pb\" in the SavedModel directory.\n"
          ]
        },
        {
          "name": "stdout",
          "output_type": "stream",
          "text": [
            "WARNING:tensorflow:Inconsistent references when loading the checkpoint into this object graph. Either the Trackable object references in the Python program have changed in an incompatible way, or the checkpoint was generated in an incompatible program.\n",
            "\n",
            "Two checkpoint references resolved to different objects (<tensorflow.python.keras.saving.saved_model.load.TensorFlowTransform>TransformFeaturesLayer object at 0x7f0492485bb0> and <tensorflow.python.keras.engine.input_layer.InputLayer object at 0x7f03959c51f0>).\n"
          ]
        },
        {
          "name": "stderr",
          "output_type": "stream",
          "text": [
            "WARNING:tensorflow:Inconsistent references when loading the checkpoint into this object graph. Either the Trackable object references in the Python program have changed in an incompatible way, or the checkpoint was generated in an incompatible program.\n",
            "\n",
            "Two checkpoint references resolved to different objects (<tensorflow.python.keras.saving.saved_model.load.TensorFlowTransform>TransformFeaturesLayer object at 0x7f0492485bb0> and <tensorflow.python.keras.engine.input_layer.InputLayer object at 0x7f03959c51f0>).\n",
            "WARNING:absl:Tensorflow version (2.5.3) found. Note that TFMA support for TF 2.0 is currently in beta\n"
          ]
        },
        {
          "name": "stdout",
          "output_type": "stream",
          "text": [
            "WARNING:tensorflow:SavedModel saved prior to TF 2.5 detected when loading Keras model. Please ensure that you are saving the model with model.save() or tf.keras.models.save_model(), *NOT* tf.saved_model.save(). To confirm, there should be a file named \"keras_metadata.pb\" in the SavedModel directory.\n"
          ]
        },
        {
          "name": "stderr",
          "output_type": "stream",
          "text": [
            "WARNING:tensorflow:SavedModel saved prior to TF 2.5 detected when loading Keras model. Please ensure that you are saving the model with model.save() or tf.keras.models.save_model(), *NOT* tf.saved_model.save(). To confirm, there should be a file named \"keras_metadata.pb\" in the SavedModel directory.\n"
          ]
        },
        {
          "name": "stdout",
          "output_type": "stream",
          "text": [
            "WARNING:tensorflow:Inconsistent references when loading the checkpoint into this object graph. Either the Trackable object references in the Python program have changed in an incompatible way, or the checkpoint was generated in an incompatible program.\n",
            "\n",
            "Two checkpoint references resolved to different objects (<tensorflow.python.keras.saving.saved_model.load.TensorFlowTransform>TransformFeaturesLayer object at 0x7f04ac180700> and <tensorflow.python.keras.engine.input_layer.InputLayer object at 0x7f0493310850>).\n"
          ]
        },
        {
          "name": "stderr",
          "output_type": "stream",
          "text": [
            "WARNING:tensorflow:Inconsistent references when loading the checkpoint into this object graph. Either the Trackable object references in the Python program have changed in an incompatible way, or the checkpoint was generated in an incompatible program.\n",
            "\n",
            "Two checkpoint references resolved to different objects (<tensorflow.python.keras.saving.saved_model.load.TensorFlowTransform>TransformFeaturesLayer object at 0x7f04ac180700> and <tensorflow.python.keras.engine.input_layer.InputLayer object at 0x7f0493310850>).\n"
          ]
        },
        {
          "name": "stdout",
          "output_type": "stream",
          "text": [
            "WARNING:tensorflow:SavedModel saved prior to TF 2.5 detected when loading Keras model. Please ensure that you are saving the model with model.save() or tf.keras.models.save_model(), *NOT* tf.saved_model.save(). To confirm, there should be a file named \"keras_metadata.pb\" in the SavedModel directory.\n"
          ]
        },
        {
          "name": "stderr",
          "output_type": "stream",
          "text": [
            "WARNING:tensorflow:SavedModel saved prior to TF 2.5 detected when loading Keras model. Please ensure that you are saving the model with model.save() or tf.keras.models.save_model(), *NOT* tf.saved_model.save(). To confirm, there should be a file named \"keras_metadata.pb\" in the SavedModel directory.\n"
          ]
        },
        {
          "name": "stdout",
          "output_type": "stream",
          "text": [
            "WARNING:tensorflow:Inconsistent references when loading the checkpoint into this object graph. Either the Trackable object references in the Python program have changed in an incompatible way, or the checkpoint was generated in an incompatible program.\n",
            "\n",
            "Two checkpoint references resolved to different objects (<tensorflow.python.keras.saving.saved_model.load.TensorFlowTransform>TransformFeaturesLayer object at 0x7f0493540fa0> and <tensorflow.python.keras.engine.input_layer.InputLayer object at 0x7f0375844a60>).\n"
          ]
        },
        {
          "name": "stderr",
          "output_type": "stream",
          "text": [
            "WARNING:tensorflow:Inconsistent references when loading the checkpoint into this object graph. Either the Trackable object references in the Python program have changed in an incompatible way, or the checkpoint was generated in an incompatible program.\n",
            "\n",
            "Two checkpoint references resolved to different objects (<tensorflow.python.keras.saving.saved_model.load.TensorFlowTransform>TransformFeaturesLayer object at 0x7f0493540fa0> and <tensorflow.python.keras.engine.input_layer.InputLayer object at 0x7f0375844a60>).\n",
            "WARNING:root:Make sure that locally built Python SDK docker image has Python 3.8 interpreter.\n"
          ]
        },
        {
          "name": "stdout",
          "output_type": "stream",
          "text": [
            "WARNING:tensorflow:SavedModel saved prior to TF 2.5 detected when loading Keras model. Please ensure that you are saving the model with model.save() or tf.keras.models.save_model(), *NOT* tf.saved_model.save(). To confirm, there should be a file named \"keras_metadata.pb\" in the SavedModel directory.\n"
          ]
        },
        {
          "name": "stderr",
          "output_type": "stream",
          "text": [
            "WARNING:tensorflow:SavedModel saved prior to TF 2.5 detected when loading Keras model. Please ensure that you are saving the model with model.save() or tf.keras.models.save_model(), *NOT* tf.saved_model.save(). To confirm, there should be a file named \"keras_metadata.pb\" in the SavedModel directory.\n"
          ]
        },
        {
          "name": "stdout",
          "output_type": "stream",
          "text": [
            "WARNING:tensorflow:Inconsistent references when loading the checkpoint into this object graph. Either the Trackable object references in the Python program have changed in an incompatible way, or the checkpoint was generated in an incompatible program.\n",
            "\n",
            "Two checkpoint references resolved to different objects (<tensorflow.python.keras.saving.saved_model.load.TensorFlowTransform>TransformFeaturesLayer object at 0x7f0460cfb610> and <tensorflow.python.keras.engine.input_layer.InputLayer object at 0x7f04af4833d0>).\n"
          ]
        },
        {
          "name": "stderr",
          "output_type": "stream",
          "text": [
            "WARNING:tensorflow:Inconsistent references when loading the checkpoint into this object graph. Either the Trackable object references in the Python program have changed in an incompatible way, or the checkpoint was generated in an incompatible program.\n",
            "\n",
            "Two checkpoint references resolved to different objects (<tensorflow.python.keras.saving.saved_model.load.TensorFlowTransform>TransformFeaturesLayer object at 0x7f0460cfb610> and <tensorflow.python.keras.engine.input_layer.InputLayer object at 0x7f04af4833d0>).\n"
          ]
        },
        {
          "name": "stdout",
          "output_type": "stream",
          "text": [
            "WARNING:tensorflow:SavedModel saved prior to TF 2.5 detected when loading Keras model. Please ensure that you are saving the model with model.save() or tf.keras.models.save_model(), *NOT* tf.saved_model.save(). To confirm, there should be a file named \"keras_metadata.pb\" in the SavedModel directory.\n"
          ]
        },
        {
          "name": "stderr",
          "output_type": "stream",
          "text": [
            "WARNING:tensorflow:SavedModel saved prior to TF 2.5 detected when loading Keras model. Please ensure that you are saving the model with model.save() or tf.keras.models.save_model(), *NOT* tf.saved_model.save(). To confirm, there should be a file named \"keras_metadata.pb\" in the SavedModel directory.\n"
          ]
        },
        {
          "name": "stdout",
          "output_type": "stream",
          "text": [
            "WARNING:tensorflow:Inconsistent references when loading the checkpoint into this object graph. Either the Trackable object references in the Python program have changed in an incompatible way, or the checkpoint was generated in an incompatible program.\n",
            "\n",
            "Two checkpoint references resolved to different objects (<tensorflow.python.keras.saving.saved_model.load.TensorFlowTransform>TransformFeaturesLayer object at 0x7f049812b760> and <tensorflow.python.keras.engine.input_layer.InputLayer object at 0x7f0375876730>).\n"
          ]
        },
        {
          "name": "stderr",
          "output_type": "stream",
          "text": [
            "WARNING:tensorflow:Inconsistent references when loading the checkpoint into this object graph. Either the Trackable object references in the Python program have changed in an incompatible way, or the checkpoint was generated in an incompatible program.\n",
            "\n",
            "Two checkpoint references resolved to different objects (<tensorflow.python.keras.saving.saved_model.load.TensorFlowTransform>TransformFeaturesLayer object at 0x7f049812b760> and <tensorflow.python.keras.engine.input_layer.InputLayer object at 0x7f0375876730>).\n"
          ]
        },
        {
          "name": "stdout",
          "output_type": "stream",
          "text": [
            "WARNING:tensorflow:SavedModel saved prior to TF 2.5 detected when loading Keras model. Please ensure that you are saving the model with model.save() or tf.keras.models.save_model(), *NOT* tf.saved_model.save(). To confirm, there should be a file named \"keras_metadata.pb\" in the SavedModel directory.\n"
          ]
        },
        {
          "name": "stderr",
          "output_type": "stream",
          "text": [
            "WARNING:tensorflow:SavedModel saved prior to TF 2.5 detected when loading Keras model. Please ensure that you are saving the model with model.save() or tf.keras.models.save_model(), *NOT* tf.saved_model.save(). To confirm, there should be a file named \"keras_metadata.pb\" in the SavedModel directory.\n"
          ]
        },
        {
          "name": "stdout",
          "output_type": "stream",
          "text": [
            "WARNING:tensorflow:Inconsistent references when loading the checkpoint into this object graph. Either the Trackable object references in the Python program have changed in an incompatible way, or the checkpoint was generated in an incompatible program.\n",
            "\n",
            "Two checkpoint references resolved to different objects (<tensorflow.python.keras.saving.saved_model.load.TensorFlowTransform>TransformFeaturesLayer object at 0x7f03977925e0> and <tensorflow.python.keras.engine.input_layer.InputLayer object at 0x7f037504ea30>).\n"
          ]
        },
        {
          "name": "stderr",
          "output_type": "stream",
          "text": [
            "WARNING:tensorflow:Inconsistent references when loading the checkpoint into this object graph. Either the Trackable object references in the Python program have changed in an incompatible way, or the checkpoint was generated in an incompatible program.\n",
            "\n",
            "Two checkpoint references resolved to different objects (<tensorflow.python.keras.saving.saved_model.load.TensorFlowTransform>TransformFeaturesLayer object at 0x7f03977925e0> and <tensorflow.python.keras.engine.input_layer.InputLayer object at 0x7f037504ea30>).\n"
          ]
        },
        {
          "name": "stdout",
          "output_type": "stream",
          "text": [
            "WARNING:tensorflow:SavedModel saved prior to TF 2.5 detected when loading Keras model. Please ensure that you are saving the model with model.save() or tf.keras.models.save_model(), *NOT* tf.saved_model.save(). To confirm, there should be a file named \"keras_metadata.pb\" in the SavedModel directory.\n"
          ]
        },
        {
          "name": "stderr",
          "output_type": "stream",
          "text": [
            "WARNING:tensorflow:SavedModel saved prior to TF 2.5 detected when loading Keras model. Please ensure that you are saving the model with model.save() or tf.keras.models.save_model(), *NOT* tf.saved_model.save(). To confirm, there should be a file named \"keras_metadata.pb\" in the SavedModel directory.\n"
          ]
        },
        {
          "name": "stdout",
          "output_type": "stream",
          "text": [
            "WARNING:tensorflow:Inconsistent references when loading the checkpoint into this object graph. Either the Trackable object references in the Python program have changed in an incompatible way, or the checkpoint was generated in an incompatible program.\n",
            "\n",
            "Two checkpoint references resolved to different objects (<tensorflow.python.keras.saving.saved_model.load.TensorFlowTransform>TransformFeaturesLayer object at 0x7f039c15a370> and <tensorflow.python.keras.engine.input_layer.InputLayer object at 0x7f03750655b0>).\n"
          ]
        },
        {
          "name": "stderr",
          "output_type": "stream",
          "text": [
            "WARNING:tensorflow:Inconsistent references when loading the checkpoint into this object graph. Either the Trackable object references in the Python program have changed in an incompatible way, or the checkpoint was generated in an incompatible program.\n",
            "\n",
            "Two checkpoint references resolved to different objects (<tensorflow.python.keras.saving.saved_model.load.TensorFlowTransform>TransformFeaturesLayer object at 0x7f039c15a370> and <tensorflow.python.keras.engine.input_layer.InputLayer object at 0x7f03750655b0>).\n"
          ]
        },
        {
          "name": "stdout",
          "output_type": "stream",
          "text": [
            "WARNING:tensorflow:SavedModel saved prior to TF 2.5 detected when loading Keras model. Please ensure that you are saving the model with model.save() or tf.keras.models.save_model(), *NOT* tf.saved_model.save(). To confirm, there should be a file named \"keras_metadata.pb\" in the SavedModel directory.\n"
          ]
        },
        {
          "name": "stderr",
          "output_type": "stream",
          "text": [
            "WARNING:tensorflow:SavedModel saved prior to TF 2.5 detected when loading Keras model. Please ensure that you are saving the model with model.save() or tf.keras.models.save_model(), *NOT* tf.saved_model.save(). To confirm, there should be a file named \"keras_metadata.pb\" in the SavedModel directory.\n"
          ]
        },
        {
          "name": "stdout",
          "output_type": "stream",
          "text": [
            "WARNING:tensorflow:Inconsistent references when loading the checkpoint into this object graph. Either the Trackable object references in the Python program have changed in an incompatible way, or the checkpoint was generated in an incompatible program.\n",
            "\n",
            "Two checkpoint references resolved to different objects (<tensorflow.python.keras.saving.saved_model.load.TensorFlowTransform>TransformFeaturesLayer object at 0x7f036f9c2e50> and <tensorflow.python.keras.engine.input_layer.InputLayer object at 0x7f0374245df0>).\n"
          ]
        },
        {
          "name": "stderr",
          "output_type": "stream",
          "text": [
            "WARNING:tensorflow:Inconsistent references when loading the checkpoint into this object graph. Either the Trackable object references in the Python program have changed in an incompatible way, or the checkpoint was generated in an incompatible program.\n",
            "\n",
            "Two checkpoint references resolved to different objects (<tensorflow.python.keras.saving.saved_model.load.TensorFlowTransform>TransformFeaturesLayer object at 0x7f036f9c2e50> and <tensorflow.python.keras.engine.input_layer.InputLayer object at 0x7f0374245df0>).\n"
          ]
        },
        {
          "name": "stdout",
          "output_type": "stream",
          "text": [
            "WARNING:tensorflow:SavedModel saved prior to TF 2.5 detected when loading Keras model. Please ensure that you are saving the model with model.save() or tf.keras.models.save_model(), *NOT* tf.saved_model.save(). To confirm, there should be a file named \"keras_metadata.pb\" in the SavedModel directory.\n"
          ]
        },
        {
          "name": "stderr",
          "output_type": "stream",
          "text": [
            "WARNING:tensorflow:SavedModel saved prior to TF 2.5 detected when loading Keras model. Please ensure that you are saving the model with model.save() or tf.keras.models.save_model(), *NOT* tf.saved_model.save(). To confirm, there should be a file named \"keras_metadata.pb\" in the SavedModel directory.\n"
          ]
        },
        {
          "name": "stdout",
          "output_type": "stream",
          "text": [
            "WARNING:tensorflow:Inconsistent references when loading the checkpoint into this object graph. Either the Trackable object references in the Python program have changed in an incompatible way, or the checkpoint was generated in an incompatible program.\n",
            "\n",
            "Two checkpoint references resolved to different objects (<tensorflow.python.keras.saving.saved_model.load.TensorFlowTransform>TransformFeaturesLayer object at 0x7f039409abb0> and <tensorflow.python.keras.engine.input_layer.InputLayer object at 0x7f03975f4730>).\n"
          ]
        },
        {
          "name": "stderr",
          "output_type": "stream",
          "text": [
            "WARNING:tensorflow:Inconsistent references when loading the checkpoint into this object graph. Either the Trackable object references in the Python program have changed in an incompatible way, or the checkpoint was generated in an incompatible program.\n",
            "\n",
            "Two checkpoint references resolved to different objects (<tensorflow.python.keras.saving.saved_model.load.TensorFlowTransform>TransformFeaturesLayer object at 0x7f039409abb0> and <tensorflow.python.keras.engine.input_layer.InputLayer object at 0x7f03975f4730>).\n"
          ]
        },
        {
          "name": "stdout",
          "output_type": "stream",
          "text": [
            "WARNING:tensorflow:SavedModel saved prior to TF 2.5 detected when loading Keras model. Please ensure that you are saving the model with model.save() or tf.keras.models.save_model(), *NOT* tf.saved_model.save(). To confirm, there should be a file named \"keras_metadata.pb\" in the SavedModel directory.\n"
          ]
        },
        {
          "name": "stderr",
          "output_type": "stream",
          "text": [
            "WARNING:tensorflow:SavedModel saved prior to TF 2.5 detected when loading Keras model. Please ensure that you are saving the model with model.save() or tf.keras.models.save_model(), *NOT* tf.saved_model.save(). To confirm, there should be a file named \"keras_metadata.pb\" in the SavedModel directory.\n"
          ]
        },
        {
          "name": "stdout",
          "output_type": "stream",
          "text": [
            "WARNING:tensorflow:Inconsistent references when loading the checkpoint into this object graph. Either the Trackable object references in the Python program have changed in an incompatible way, or the checkpoint was generated in an incompatible program.\n",
            "\n",
            "Two checkpoint references resolved to different objects (<tensorflow.python.keras.saving.saved_model.load.TensorFlowTransform>TransformFeaturesLayer object at 0x7f04a4040820> and <tensorflow.python.keras.engine.input_layer.InputLayer object at 0x7f0375b06eb0>).\n"
          ]
        },
        {
          "name": "stderr",
          "output_type": "stream",
          "text": [
            "WARNING:tensorflow:Inconsistent references when loading the checkpoint into this object graph. Either the Trackable object references in the Python program have changed in an incompatible way, or the checkpoint was generated in an incompatible program.\n",
            "\n",
            "Two checkpoint references resolved to different objects (<tensorflow.python.keras.saving.saved_model.load.TensorFlowTransform>TransformFeaturesLayer object at 0x7f04a4040820> and <tensorflow.python.keras.engine.input_layer.InputLayer object at 0x7f0375b06eb0>).\n"
          ]
        },
        {
          "name": "stdout",
          "output_type": "stream",
          "text": [
            "WARNING:tensorflow:SavedModel saved prior to TF 2.5 detected when loading Keras model. Please ensure that you are saving the model with model.save() or tf.keras.models.save_model(), *NOT* tf.saved_model.save(). To confirm, there should be a file named \"keras_metadata.pb\" in the SavedModel directory.\n"
          ]
        },
        {
          "name": "stderr",
          "output_type": "stream",
          "text": [
            "WARNING:tensorflow:SavedModel saved prior to TF 2.5 detected when loading Keras model. Please ensure that you are saving the model with model.save() or tf.keras.models.save_model(), *NOT* tf.saved_model.save(). To confirm, there should be a file named \"keras_metadata.pb\" in the SavedModel directory.\n"
          ]
        },
        {
          "name": "stdout",
          "output_type": "stream",
          "text": [
            "WARNING:tensorflow:Inconsistent references when loading the checkpoint into this object graph. Either the Trackable object references in the Python program have changed in an incompatible way, or the checkpoint was generated in an incompatible program.\n",
            "\n",
            "Two checkpoint references resolved to different objects (<tensorflow.python.keras.saving.saved_model.load.TensorFlowTransform>TransformFeaturesLayer object at 0x7f03954607c0> and <tensorflow.python.keras.engine.input_layer.InputLayer object at 0x7f0498753400>).\n"
          ]
        },
        {
          "name": "stderr",
          "output_type": "stream",
          "text": [
            "WARNING:tensorflow:Inconsistent references when loading the checkpoint into this object graph. Either the Trackable object references in the Python program have changed in an incompatible way, or the checkpoint was generated in an incompatible program.\n",
            "\n",
            "Two checkpoint references resolved to different objects (<tensorflow.python.keras.saving.saved_model.load.TensorFlowTransform>TransformFeaturesLayer object at 0x7f03954607c0> and <tensorflow.python.keras.engine.input_layer.InputLayer object at 0x7f0498753400>).\n"
          ]
        },
        {
          "name": "stdout",
          "output_type": "stream",
          "text": [
            "WARNING:tensorflow:SavedModel saved prior to TF 2.5 detected when loading Keras model. Please ensure that you are saving the model with model.save() or tf.keras.models.save_model(), *NOT* tf.saved_model.save(). To confirm, there should be a file named \"keras_metadata.pb\" in the SavedModel directory.\n"
          ]
        },
        {
          "name": "stderr",
          "output_type": "stream",
          "text": [
            "WARNING:tensorflow:SavedModel saved prior to TF 2.5 detected when loading Keras model. Please ensure that you are saving the model with model.save() or tf.keras.models.save_model(), *NOT* tf.saved_model.save(). To confirm, there should be a file named \"keras_metadata.pb\" in the SavedModel directory.\n"
          ]
        },
        {
          "name": "stdout",
          "output_type": "stream",
          "text": [
            "WARNING:tensorflow:Inconsistent references when loading the checkpoint into this object graph. Either the Trackable object references in the Python program have changed in an incompatible way, or the checkpoint was generated in an incompatible program.\n",
            "\n",
            "Two checkpoint references resolved to different objects (<tensorflow.python.keras.saving.saved_model.load.TensorFlowTransform>TransformFeaturesLayer object at 0x7f03756f0d60> and <tensorflow.python.keras.engine.input_layer.InputLayer object at 0x7f037425b640>).\n"
          ]
        },
        {
          "name": "stderr",
          "output_type": "stream",
          "text": [
            "WARNING:tensorflow:Inconsistent references when loading the checkpoint into this object graph. Either the Trackable object references in the Python program have changed in an incompatible way, or the checkpoint was generated in an incompatible program.\n",
            "\n",
            "Two checkpoint references resolved to different objects (<tensorflow.python.keras.saving.saved_model.load.TensorFlowTransform>TransformFeaturesLayer object at 0x7f03756f0d60> and <tensorflow.python.keras.engine.input_layer.InputLayer object at 0x7f037425b640>).\n"
          ]
        },
        {
          "name": "stdout",
          "output_type": "stream",
          "text": [
            "WARNING:tensorflow:SavedModel saved prior to TF 2.5 detected when loading Keras model. Please ensure that you are saving the model with model.save() or tf.keras.models.save_model(), *NOT* tf.saved_model.save(). To confirm, there should be a file named \"keras_metadata.pb\" in the SavedModel directory.\n"
          ]
        },
        {
          "name": "stderr",
          "output_type": "stream",
          "text": [
            "WARNING:tensorflow:SavedModel saved prior to TF 2.5 detected when loading Keras model. Please ensure that you are saving the model with model.save() or tf.keras.models.save_model(), *NOT* tf.saved_model.save(). To confirm, there should be a file named \"keras_metadata.pb\" in the SavedModel directory.\n"
          ]
        },
        {
          "name": "stdout",
          "output_type": "stream",
          "text": [
            "WARNING:tensorflow:Inconsistent references when loading the checkpoint into this object graph. Either the Trackable object references in the Python program have changed in an incompatible way, or the checkpoint was generated in an incompatible program.\n",
            "\n",
            "Two checkpoint references resolved to different objects (<tensorflow.python.keras.saving.saved_model.load.TensorFlowTransform>TransformFeaturesLayer object at 0x7f03759c6a30> and <tensorflow.python.keras.engine.input_layer.InputLayer object at 0x7f04934c2940>).\n"
          ]
        },
        {
          "name": "stderr",
          "output_type": "stream",
          "text": [
            "WARNING:tensorflow:Inconsistent references when loading the checkpoint into this object graph. Either the Trackable object references in the Python program have changed in an incompatible way, or the checkpoint was generated in an incompatible program.\n",
            "\n",
            "Two checkpoint references resolved to different objects (<tensorflow.python.keras.saving.saved_model.load.TensorFlowTransform>TransformFeaturesLayer object at 0x7f03759c6a30> and <tensorflow.python.keras.engine.input_layer.InputLayer object at 0x7f04934c2940>).\n"
          ]
        },
        {
          "name": "stdout",
          "output_type": "stream",
          "text": [
            "WARNING:tensorflow:SavedModel saved prior to TF 2.5 detected when loading Keras model. Please ensure that you are saving the model with model.save() or tf.keras.models.save_model(), *NOT* tf.saved_model.save(). To confirm, there should be a file named \"keras_metadata.pb\" in the SavedModel directory.\n"
          ]
        },
        {
          "name": "stderr",
          "output_type": "stream",
          "text": [
            "WARNING:tensorflow:SavedModel saved prior to TF 2.5 detected when loading Keras model. Please ensure that you are saving the model with model.save() or tf.keras.models.save_model(), *NOT* tf.saved_model.save(). To confirm, there should be a file named \"keras_metadata.pb\" in the SavedModel directory.\n"
          ]
        },
        {
          "name": "stdout",
          "output_type": "stream",
          "text": [
            "WARNING:tensorflow:Inconsistent references when loading the checkpoint into this object graph. Either the Trackable object references in the Python program have changed in an incompatible way, or the checkpoint was generated in an incompatible program.\n",
            "\n",
            "Two checkpoint references resolved to different objects (<tensorflow.python.keras.saving.saved_model.load.TensorFlowTransform>TransformFeaturesLayer object at 0x7f03740d6f70> and <tensorflow.python.keras.engine.input_layer.InputLayer object at 0x7f037511fe50>).\n"
          ]
        },
        {
          "name": "stderr",
          "output_type": "stream",
          "text": [
            "WARNING:tensorflow:Inconsistent references when loading the checkpoint into this object graph. Either the Trackable object references in the Python program have changed in an incompatible way, or the checkpoint was generated in an incompatible program.\n",
            "\n",
            "Two checkpoint references resolved to different objects (<tensorflow.python.keras.saving.saved_model.load.TensorFlowTransform>TransformFeaturesLayer object at 0x7f03740d6f70> and <tensorflow.python.keras.engine.input_layer.InputLayer object at 0x7f037511fe50>).\n"
          ]
        },
        {
          "name": "stdout",
          "output_type": "stream",
          "text": [
            "WARNING:tensorflow:SavedModel saved prior to TF 2.5 detected when loading Keras model. Please ensure that you are saving the model with model.save() or tf.keras.models.save_model(), *NOT* tf.saved_model.save(). To confirm, there should be a file named \"keras_metadata.pb\" in the SavedModel directory.\n"
          ]
        },
        {
          "name": "stderr",
          "output_type": "stream",
          "text": [
            "WARNING:tensorflow:SavedModel saved prior to TF 2.5 detected when loading Keras model. Please ensure that you are saving the model with model.save() or tf.keras.models.save_model(), *NOT* tf.saved_model.save(). To confirm, there should be a file named \"keras_metadata.pb\" in the SavedModel directory.\n"
          ]
        },
        {
          "name": "stdout",
          "output_type": "stream",
          "text": [
            "WARNING:tensorflow:Inconsistent references when loading the checkpoint into this object graph. Either the Trackable object references in the Python program have changed in an incompatible way, or the checkpoint was generated in an incompatible program.\n",
            "\n",
            "Two checkpoint references resolved to different objects (<tensorflow.python.keras.saving.saved_model.load.TensorFlowTransform>TransformFeaturesLayer object at 0x7f0493649af0> and <tensorflow.python.keras.engine.input_layer.InputLayer object at 0x7f0375b12790>).\n"
          ]
        },
        {
          "name": "stderr",
          "output_type": "stream",
          "text": [
            "WARNING:tensorflow:Inconsistent references when loading the checkpoint into this object graph. Either the Trackable object references in the Python program have changed in an incompatible way, or the checkpoint was generated in an incompatible program.\n",
            "\n",
            "Two checkpoint references resolved to different objects (<tensorflow.python.keras.saving.saved_model.load.TensorFlowTransform>TransformFeaturesLayer object at 0x7f0493649af0> and <tensorflow.python.keras.engine.input_layer.InputLayer object at 0x7f0375b12790>).\n"
          ]
        },
        {
          "name": "stdout",
          "output_type": "stream",
          "text": [
            "WARNING:tensorflow:SavedModel saved prior to TF 2.5 detected when loading Keras model. Please ensure that you are saving the model with model.save() or tf.keras.models.save_model(), *NOT* tf.saved_model.save(). To confirm, there should be a file named \"keras_metadata.pb\" in the SavedModel directory.\n"
          ]
        },
        {
          "name": "stderr",
          "output_type": "stream",
          "text": [
            "WARNING:tensorflow:SavedModel saved prior to TF 2.5 detected when loading Keras model. Please ensure that you are saving the model with model.save() or tf.keras.models.save_model(), *NOT* tf.saved_model.save(). To confirm, there should be a file named \"keras_metadata.pb\" in the SavedModel directory.\n"
          ]
        },
        {
          "name": "stdout",
          "output_type": "stream",
          "text": [
            "WARNING:tensorflow:Inconsistent references when loading the checkpoint into this object graph. Either the Trackable object references in the Python program have changed in an incompatible way, or the checkpoint was generated in an incompatible program.\n",
            "\n",
            "Two checkpoint references resolved to different objects (<tensorflow.python.keras.saving.saved_model.load.TensorFlowTransform>TransformFeaturesLayer object at 0x7f04ac239670> and <tensorflow.python.keras.engine.input_layer.InputLayer object at 0x7f04a41fad00>).\n"
          ]
        },
        {
          "name": "stderr",
          "output_type": "stream",
          "text": [
            "WARNING:tensorflow:Inconsistent references when loading the checkpoint into this object graph. Either the Trackable object references in the Python program have changed in an incompatible way, or the checkpoint was generated in an incompatible program.\n",
            "\n",
            "Two checkpoint references resolved to different objects (<tensorflow.python.keras.saving.saved_model.load.TensorFlowTransform>TransformFeaturesLayer object at 0x7f04ac239670> and <tensorflow.python.keras.engine.input_layer.InputLayer object at 0x7f04a41fad00>).\n"
          ]
        },
        {
          "name": "stdout",
          "output_type": "stream",
          "text": [
            "WARNING:tensorflow:SavedModel saved prior to TF 2.5 detected when loading Keras model. Please ensure that you are saving the model with model.save() or tf.keras.models.save_model(), *NOT* tf.saved_model.save(). To confirm, there should be a file named \"keras_metadata.pb\" in the SavedModel directory.\n"
          ]
        },
        {
          "name": "stderr",
          "output_type": "stream",
          "text": [
            "WARNING:tensorflow:SavedModel saved prior to TF 2.5 detected when loading Keras model. Please ensure that you are saving the model with model.save() or tf.keras.models.save_model(), *NOT* tf.saved_model.save(). To confirm, there should be a file named \"keras_metadata.pb\" in the SavedModel directory.\n"
          ]
        },
        {
          "name": "stdout",
          "output_type": "stream",
          "text": [
            "WARNING:tensorflow:Inconsistent references when loading the checkpoint into this object graph. Either the Trackable object references in the Python program have changed in an incompatible way, or the checkpoint was generated in an incompatible program.\n",
            "\n",
            "Two checkpoint references resolved to different objects (<tensorflow.python.keras.saving.saved_model.load.TensorFlowTransform>TransformFeaturesLayer object at 0x7f0394272670> and <tensorflow.python.keras.engine.input_layer.InputLayer object at 0x7f04a420a310>).\n"
          ]
        },
        {
          "name": "stderr",
          "output_type": "stream",
          "text": [
            "WARNING:tensorflow:Inconsistent references when loading the checkpoint into this object graph. Either the Trackable object references in the Python program have changed in an incompatible way, or the checkpoint was generated in an incompatible program.\n",
            "\n",
            "Two checkpoint references resolved to different objects (<tensorflow.python.keras.saving.saved_model.load.TensorFlowTransform>TransformFeaturesLayer object at 0x7f0394272670> and <tensorflow.python.keras.engine.input_layer.InputLayer object at 0x7f04a420a310>).\n"
          ]
        }
      ],
      "source": [
        "# Setup tfma.EvalConfig setting with metric thresholds\n",
        "eval_config_with_thresholds = text_format.Parse(\"\"\"\n",
        "  ## Model information\n",
        "  model_specs {\n",
        "    name: \"candidate\"\n",
        "    label_key: \"label\"\n",
        "  }\n",
        "  model_specs {\n",
        "    name: \"baseline\"\n",
        "    label_key: \"label\"\n",
        "    is_baseline: true\n",
        "  }\n",
        "\n",
        "  ## Post training metric information\n",
        "  metrics_specs {\n",
        "    metrics { class_name: \"ExampleCount\" }\n",
        "    metrics {\n",
        "      class_name: \"BinaryAccuracy\"\n",
        "      threshold {\n",
        "        # Ensure that metric is always > 0.9\n",
        "        value_threshold {\n",
        "          lower_bound { value: 0.9 }\n",
        "        }\n",
        "        # Ensure that metric does not drop by more than a small epsilon\n",
        "        # e.g. (candidate - baseline) > -1e-10 or candidate > baseline - 1e-10\n",
        "        change_threshold {\n",
        "          direction: HIGHER_IS_BETTER\n",
        "          absolute { value: -1e-10 }\n",
        "        }\n",
        "      }\n",
        "    }\n",
        "    metrics { class_name: \"BinaryCrossentropy\" }\n",
        "    metrics { class_name: \"AUC\" }\n",
        "    metrics { class_name: \"AUCPrecisionRecall\" }\n",
        "    metrics { class_name: \"Precision\" }\n",
        "    metrics { class_name: \"Recall\" }\n",
        "    metrics { class_name: \"MeanLabel\" }\n",
        "    metrics { class_name: \"MeanPrediction\" }\n",
        "    metrics { class_name: \"Calibration\" }\n",
        "    metrics { class_name: \"CalibrationPlot\" }\n",
        "    metrics { class_name: \"ConfusionMatrixPlot\" }\n",
        "    # ... add additional metrics and plots ...\n",
        "  }\n",
        "\n",
        "  ## Slicing information\n",
        "  slicing_specs {}  # overall slice\n",
        "  slicing_specs {\n",
        "    feature_keys: [\"race\"]\n",
        "  }\n",
        "  slicing_specs {\n",
        "    feature_keys: [\"sex\"]\n",
        "  }\n",
        "\"\"\", tfma.EvalConfig())\n",
        "\n",
        "# Create tfma.EvalSharedModels that points to the candidate and baseline\n",
        "candidate_model_path = MODEL1_FILE\n",
        "baseline_model_path = MODEL2_FILE\n",
        "\n",
        "eval_shared_models = [\n",
        "  tfma.default_eval_shared_model(\n",
        "      model_name=tfma.CANDIDATE_KEY,\n",
        "      eval_saved_model_path=candidate_model_path,\n",
        "      eval_config=eval_config_with_thresholds),\n",
        "  tfma.default_eval_shared_model(\n",
        "      model_name=tfma.BASELINE_KEY,\n",
        "      eval_saved_model_path=baseline_model_path,\n",
        "      eval_config=eval_config_with_thresholds),\n",
        "]\n",
        "\n",
        "# Specify validation path\n",
        "validation_output_path = os.path.join(OUTPUT_DIR, 'validation')\n",
        "\n",
        "# Run TFMA on the two models\n",
        "eval_result_with_validation = tfma.run_model_analysis(\n",
        "    eval_shared_models,\n",
        "    eval_config=eval_config_with_thresholds,\n",
        "    data_location=TFRECORD_FULL,\n",
        "    output_path=validation_output_path)"
      ]
    },
    {
      "cell_type": "markdown",
      "metadata": {
        "id": "siF6npd3IfJq"
      },
      "source": [
        "When running evaluations with one or more models against a baseline, TFMA automatically adds different metrics for all the metrics computed during the evaluation. These metrics are named after the corresponding metric but with the string `_diff` appended to the metric name. A positive value for these `_diff` metrics indicates an improved performance against the baseline.\n",
        "\n",
        "Like in the previous section, you can view the results with `render_time_series()`."
      ]
    },
    {
      "cell_type": "code",
      "execution_count": 28,
      "metadata": {
        "id": "yGIw9TDuJ7wn"
      },
      "outputs": [
        {
          "data": {
            "application/vnd.jupyter.widget-view+json": {
              "model_id": "54a0d8cbafcb46f4915d2721382026e9",
              "version_major": 2,
              "version_minor": 0
            },
            "text/plain": [
              "TimeSeriesViewer(config={'isModelCentric': True}, data=[{'metrics': {'': {'': {'binary_accuracy': {'doubleValu…"
            ]
          },
          "metadata": {},
          "output_type": "display_data"
        }
      ],
      "source": [
        "# Render results\n",
        "tfma.view.render_time_series(eval_result_with_validation)"
      ]
    },
    {
      "cell_type": "markdown",
      "metadata": {
        "id": "JIsehm_V4oKU"
      },
      "source": [
        "You can use [`tfma.load_validator_result`](https://www.tensorflow.org/tfx/model_analysis/api_docs/python/tfma/load_validation_result) to view the validation results you specified with the threshold settings. For this example, the validation fails because `BinaryAccuracy` is below the threshold."
      ]
    },
    {
      "cell_type": "code",
      "execution_count": 29,
      "metadata": {
        "id": "48EdSTUW5eE1"
      },
      "outputs": [
        {
          "name": "stdout",
          "output_type": "stream",
          "text": [
            "False\n"
          ]
        }
      ],
      "source": [
        "# Print validation result\n",
        "validation_result = tfma.load_validation_result(validation_output_path)\n",
        "print(validation_result.validation_ok)"
      ]
    },
    {
      "cell_type": "markdown",
      "metadata": {
        "id": "aBhzlF-lqRFY"
      },
      "source": [
        "**Congratulations! You have now explored the different methods of model analysis using TFMA. In the next section, you will see how these can fit into a TFX pipeline so you can automate the process and store the results in your pipeline directory and metadata store.**"
      ]
    }
  ],
  "metadata": {
    "colab": {
      "collapsed_sections": [],
      "name": "C3_W4_Lab_1_TFMA.ipynb",
      "private_outputs": true,
      "provenance": [],
      "toc_visible": true
    },
    "kernelspec": {
      "display_name": "Python 3.8.13 ('mlops')",
      "language": "python",
      "name": "python3"
    },
    "language_info": {
      "codemirror_mode": {
        "name": "ipython",
        "version": 3
      },
      "file_extension": ".py",
      "mimetype": "text/x-python",
      "name": "python",
      "nbconvert_exporter": "python",
      "pygments_lexer": "ipython3",
      "version": "3.8.13"
    },
    "vscode": {
      "interpreter": {
        "hash": "1be3e983c24a9e0be2e88186b0c34273fc6f398872214b6f979644ae6d77b557"
      }
    }
  },
  "nbformat": 4,
  "nbformat_minor": 0
}
